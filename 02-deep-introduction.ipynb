{
 "cells": [
  {
   "cell_type": "markdown",
   "metadata": {},
   "source": [
    "# A Deep Introduction to Julia for Data Science and Scientific Computing\n",
    "\n",
    "Looks reaaaaly cool\n",
    "http://ucidatascienceinitiative.github.io/IntroToJulia/\n",
    "\n",
    "GitHub:\n",
    "\n",
    "https://github.com/UCIDataScienceInitiative/IntroToJulia"
   ]
  },
  {
   "cell_type": "markdown",
   "metadata": {},
   "source": [
    "### A Basic Introduction to Julia\n",
    "\n",
    "http://ucidatascienceinitiative.github.io/IntroToJulia/Html/BasicIntroduction\n"
   ]
  },
  {
   "cell_type": "code",
   "execution_count": 1,
   "metadata": {},
   "outputs": [
    {
     "name": "stdout",
     "output_type": "stream",
     "text": [
      "search: \u001b[0m\u001b[1md\u001b[22m\u001b[0m\u001b[1me\u001b[22m\u001b[0m\u001b[1me\u001b[22m\u001b[0m\u001b[1mp\u001b[22m\u001b[0m\u001b[1mc\u001b[22m\u001b[0m\u001b[1mo\u001b[22m\u001b[0m\u001b[1mp\u001b[22m\u001b[0m\u001b[1my\u001b[22m\n",
      "\n"
     ]
    },
    {
     "data": {
      "text/latex": [
       "\\begin{verbatim}\n",
       "deepcopy(x)\n",
       "\\end{verbatim}\n",
       "Create a deep copy of \\texttt{x}: everything is copied recursively, resulting in a fully independent object. For example, deep-copying an array produces a new array whose elements are deep copies of the original elements. Calling \\texttt{deepcopy} on an object should generally have the same effect as serializing and then deserializing it.\n",
       "\n",
       "As a special case, functions can only be actually deep-copied if they are anonymous, otherwise they are just copied. The difference is only relevant in the case of closures, i.e. functions which may contain hidden internal references.\n",
       "\n",
       "While it isn't normally necessary, user-defined types can override the default \\texttt{deepcopy} behavior by defining a specialized version of the function \\texttt{deepcopy\\_internal(x::T, dict::IdDict)} (which shouldn't otherwise be used), where \\texttt{T} is the type to be specialized for, and \\texttt{dict} keeps track of objects copied so far within the recursion. Within the definition, \\texttt{deepcopy\\_internal} should be used in place of \\texttt{deepcopy}, and the \\texttt{dict} variable should be updated as appropriate before returning.\n",
       "\n"
      ],
      "text/markdown": [
       "```\n",
       "deepcopy(x)\n",
       "```\n",
       "\n",
       "Create a deep copy of `x`: everything is copied recursively, resulting in a fully independent object. For example, deep-copying an array produces a new array whose elements are deep copies of the original elements. Calling `deepcopy` on an object should generally have the same effect as serializing and then deserializing it.\n",
       "\n",
       "As a special case, functions can only be actually deep-copied if they are anonymous, otherwise they are just copied. The difference is only relevant in the case of closures, i.e. functions which may contain hidden internal references.\n",
       "\n",
       "While it isn't normally necessary, user-defined types can override the default `deepcopy` behavior by defining a specialized version of the function `deepcopy_internal(x::T, dict::IdDict)` (which shouldn't otherwise be used), where `T` is the type to be specialized for, and `dict` keeps track of objects copied so far within the recursion. Within the definition, `deepcopy_internal` should be used in place of `deepcopy`, and the `dict` variable should be updated as appropriate before returning.\n"
      ],
      "text/plain": [
       "\u001b[36m  deepcopy(x)\u001b[39m\n",
       "\n",
       "  Create a deep copy of \u001b[36mx\u001b[39m: everything is copied recursively, resulting in a\n",
       "  fully independent object. For example, deep-copying an array produces a new\n",
       "  array whose elements are deep copies of the original elements. Calling\n",
       "  \u001b[36mdeepcopy\u001b[39m on an object should generally have the same effect as serializing\n",
       "  and then deserializing it.\n",
       "\n",
       "  As a special case, functions can only be actually deep-copied if they are\n",
       "  anonymous, otherwise they are just copied. The difference is only relevant\n",
       "  in the case of closures, i.e. functions which may contain hidden internal\n",
       "  references.\n",
       "\n",
       "  While it isn't normally necessary, user-defined types can override the\n",
       "  default \u001b[36mdeepcopy\u001b[39m behavior by defining a specialized version of the function\n",
       "  \u001b[36mdeepcopy_internal(x::T, dict::IdDict)\u001b[39m (which shouldn't otherwise be used),\n",
       "  where \u001b[36mT\u001b[39m is the type to be specialized for, and \u001b[36mdict\u001b[39m keeps track of objects\n",
       "  copied so far within the recursion. Within the definition, \u001b[36mdeepcopy_internal\u001b[39m\n",
       "  should be used in place of \u001b[36mdeepcopy\u001b[39m, and the \u001b[36mdict\u001b[39m variable should be updated\n",
       "  as appropriate before returning."
      ]
     },
     "execution_count": 1,
     "metadata": {},
     "output_type": "execute_result"
    }
   ],
   "source": [
    "?deepcopy"
   ]
  },
  {
   "cell_type": "code",
   "execution_count": 2,
   "metadata": {
    "collapsed": true,
    "jupyter": {
     "outputs_hidden": true
    }
   },
   "outputs": [
    {
     "data": {
      "text/html": [
       "163 methods for generic function <b>+</b>:<ul><li> +(x::<b>Bool</b>, z::<b>Complex{Bool}</b>) in Base at <a href=\"https://github.com/JuliaLang/julia/tree/80516ca20297a67b996caa08c38786332379b6a5/base/complex.jl#L277\" target=\"_blank\">complex.jl:277</a></li> <li> +(x::<b>Bool</b>, y::<b>Bool</b>) in Base at <a href=\"https://github.com/JuliaLang/julia/tree/80516ca20297a67b996caa08c38786332379b6a5/base/bool.jl#L104\" target=\"_blank\">bool.jl:104</a></li> <li> +(x::<b>Bool</b>) in Base at <a href=\"https://github.com/JuliaLang/julia/tree/80516ca20297a67b996caa08c38786332379b6a5/base/bool.jl#L101\" target=\"_blank\">bool.jl:101</a></li> <li> +<i>{T<:AbstractFloat}</i>(x::<b>Bool</b>, y::<b>T</b>) in Base at <a href=\"https://github.com/JuliaLang/julia/tree/80516ca20297a67b996caa08c38786332379b6a5/base/bool.jl#L112\" target=\"_blank\">bool.jl:112</a></li> <li> +(x::<b>Bool</b>, z::<b>Complex</b>) in Base at <a href=\"https://github.com/JuliaLang/julia/tree/80516ca20297a67b996caa08c38786332379b6a5/base/complex.jl#L284\" target=\"_blank\">complex.jl:284</a></li> <li> +(a::<b>Float16</b>, b::<b>Float16</b>) in Base at <a href=\"https://github.com/JuliaLang/julia/tree/80516ca20297a67b996caa08c38786332379b6a5/base/float.jl#L392\" target=\"_blank\">float.jl:392</a></li> <li> +(x::<b>Float32</b>, y::<b>Float32</b>) in Base at <a href=\"https://github.com/JuliaLang/julia/tree/80516ca20297a67b996caa08c38786332379b6a5/base/float.jl#L394\" target=\"_blank\">float.jl:394</a></li> <li> +(x::<b>Float64</b>, y::<b>Float64</b>) in Base at <a href=\"https://github.com/JuliaLang/julia/tree/80516ca20297a67b996caa08c38786332379b6a5/base/float.jl#L395\" target=\"_blank\">float.jl:395</a></li> <li> +(z::<b>Complex{Bool}</b>, x::<b>Bool</b>) in Base at <a href=\"https://github.com/JuliaLang/julia/tree/80516ca20297a67b996caa08c38786332379b6a5/base/complex.jl#L278\" target=\"_blank\">complex.jl:278</a></li> <li> +(z::<b>Complex{Bool}</b>, x::<b>Real</b>) in Base at <a href=\"https://github.com/JuliaLang/julia/tree/80516ca20297a67b996caa08c38786332379b6a5/base/complex.jl#L292\" target=\"_blank\">complex.jl:292</a></li> <li> +(::<b>Missing</b>, ::<b>Missing</b>) in Base at <a href=\"https://github.com/JuliaLang/julia/tree/80516ca20297a67b996caa08c38786332379b6a5/base/missing.jl#L96\" target=\"_blank\">missing.jl:96</a></li> <li> +(::<b>Missing</b>) in Base at <a href=\"https://github.com/JuliaLang/julia/tree/80516ca20297a67b996caa08c38786332379b6a5/base/missing.jl#L83\" target=\"_blank\">missing.jl:83</a></li> <li> +(::<b>Missing</b>, ::<b>Number</b>) in Base at <a href=\"https://github.com/JuliaLang/julia/tree/80516ca20297a67b996caa08c38786332379b6a5/base/missing.jl#L97\" target=\"_blank\">missing.jl:97</a></li> <li> +(level::<b>Base.CoreLogging.LogLevel</b>, inc::<b>Integer</b>) in Base.CoreLogging at <a href=\"https://github.com/JuliaLang/julia/tree/80516ca20297a67b996caa08c38786332379b6a5/base/logging.jl#L106\" target=\"_blank\">logging.jl:106</a></li> <li> +(c::<b>BigInt</b>, x::<b>BigFloat</b>) in Base.MPFR at <a href=\"https://github.com/JuliaLang/julia/tree/80516ca20297a67b996caa08c38786332379b6a5/base/mpfr.jl#L406\" target=\"_blank\">mpfr.jl:406</a></li> <li> +(a::<b>BigInt</b>, b::<b>BigInt</b>, c::<b>BigInt</b>, d::<b>BigInt</b>, e::<b>BigInt</b>) in Base.GMP at <a href=\"https://github.com/JuliaLang/julia/tree/80516ca20297a67b996caa08c38786332379b6a5/base/gmp.jl#L434\" target=\"_blank\">gmp.jl:434</a></li> <li> +(a::<b>BigInt</b>, b::<b>BigInt</b>, c::<b>BigInt</b>, d::<b>BigInt</b>) in Base.GMP at <a href=\"https://github.com/JuliaLang/julia/tree/80516ca20297a67b996caa08c38786332379b6a5/base/gmp.jl#L433\" target=\"_blank\">gmp.jl:433</a></li> <li> +(a::<b>BigInt</b>, b::<b>BigInt</b>, c::<b>BigInt</b>) in Base.GMP at <a href=\"https://github.com/JuliaLang/julia/tree/80516ca20297a67b996caa08c38786332379b6a5/base/gmp.jl#L432\" target=\"_blank\">gmp.jl:432</a></li> <li> +(x::<b>BigInt</b>, y::<b>BigInt</b>) in Base.GMP at <a href=\"https://github.com/JuliaLang/julia/tree/80516ca20297a67b996caa08c38786332379b6a5/base/gmp.jl#L403\" target=\"_blank\">gmp.jl:403</a></li> <li> +(x::<b>BigInt</b>, c::<b>Union{UInt16, UInt32, UInt64, UInt8}</b>) in Base.GMP at <a href=\"https://github.com/JuliaLang/julia/tree/80516ca20297a67b996caa08c38786332379b6a5/base/gmp.jl#L440\" target=\"_blank\">gmp.jl:440</a></li> <li> +(x::<b>BigInt</b>, c::<b>Union{Int16, Int32, Int64, Int8}</b>) in Base.GMP at <a href=\"https://github.com/JuliaLang/julia/tree/80516ca20297a67b996caa08c38786332379b6a5/base/gmp.jl#L446\" target=\"_blank\">gmp.jl:446</a></li> <li> +(a::<b>BigFloat</b>, b::<b>BigFloat</b>, c::<b>BigFloat</b>, d::<b>BigFloat</b>, e::<b>BigFloat</b>) in Base.MPFR at <a href=\"https://github.com/JuliaLang/julia/tree/80516ca20297a67b996caa08c38786332379b6a5/base/mpfr.jl#L556\" target=\"_blank\">mpfr.jl:556</a></li> <li> +(a::<b>BigFloat</b>, b::<b>BigFloat</b>, c::<b>BigFloat</b>, d::<b>BigFloat</b>) in Base.MPFR at <a href=\"https://github.com/JuliaLang/julia/tree/80516ca20297a67b996caa08c38786332379b6a5/base/mpfr.jl#L549\" target=\"_blank\">mpfr.jl:549</a></li> <li> +(a::<b>BigFloat</b>, b::<b>BigFloat</b>, c::<b>BigFloat</b>) in Base.MPFR at <a href=\"https://github.com/JuliaLang/julia/tree/80516ca20297a67b996caa08c38786332379b6a5/base/mpfr.jl#L543\" target=\"_blank\">mpfr.jl:543</a></li> <li> +(x::<b>BigFloat</b>, c::<b>BigInt</b>) in Base.MPFR at <a href=\"https://github.com/JuliaLang/julia/tree/80516ca20297a67b996caa08c38786332379b6a5/base/mpfr.jl#L402\" target=\"_blank\">mpfr.jl:402</a></li> <li> +(x::<b>BigFloat</b>, y::<b>BigFloat</b>) in Base.MPFR at <a href=\"https://github.com/JuliaLang/julia/tree/80516ca20297a67b996caa08c38786332379b6a5/base/mpfr.jl#L371\" target=\"_blank\">mpfr.jl:371</a></li> <li> +(x::<b>BigFloat</b>, c::<b>Union{UInt16, UInt32, UInt64, UInt8}</b>) in Base.MPFR at <a href=\"https://github.com/JuliaLang/julia/tree/80516ca20297a67b996caa08c38786332379b6a5/base/mpfr.jl#L378\" target=\"_blank\">mpfr.jl:378</a></li> <li> +(x::<b>BigFloat</b>, c::<b>Union{Int16, Int32, Int64, Int8}</b>) in Base.MPFR at <a href=\"https://github.com/JuliaLang/julia/tree/80516ca20297a67b996caa08c38786332379b6a5/base/mpfr.jl#L386\" target=\"_blank\">mpfr.jl:386</a></li> <li> +(x::<b>BigFloat</b>, c::<b>Union{Float16, Float32, Float64}</b>) in Base.MPFR at <a href=\"https://github.com/JuliaLang/julia/tree/80516ca20297a67b996caa08c38786332379b6a5/base/mpfr.jl#L394\" target=\"_blank\">mpfr.jl:394</a></li> <li> +(x::<b>Dates.CompoundPeriod</b>, y::<b>Dates.CompoundPeriod</b>) in Dates at <a href=\"file:///buildworker/worker/package_linux64/build/usr/share/julia/stdlib/v1.1/Dates/src/periods.jl\" target=\"_blank\">/buildworker/worker/package_linux64/build/usr/share/julia/stdlib/v1.1/Dates/src/periods.jl:343</a></li> <li> +(x::<b>Dates.CompoundPeriod</b>, y::<b>Dates.Period</b>) in Dates at <a href=\"file:///buildworker/worker/package_linux64/build/usr/share/julia/stdlib/v1.1/Dates/src/periods.jl\" target=\"_blank\">/buildworker/worker/package_linux64/build/usr/share/julia/stdlib/v1.1/Dates/src/periods.jl:341</a></li> <li> +(x::<b>Dates.CompoundPeriod</b>, y::<b>Dates.TimeType</b>) in Dates at <a href=\"file:///buildworker/worker/package_linux64/build/usr/share/julia/stdlib/v1.1/Dates/src/periods.jl\" target=\"_blank\">/buildworker/worker/package_linux64/build/usr/share/julia/stdlib/v1.1/Dates/src/periods.jl:371</a></li> <li> +(x::<b>Dates.Date</b>, y::<b>Dates.Day</b>) in Dates at <a href=\"file:///buildworker/worker/package_linux64/build/usr/share/julia/stdlib/v1.1/Dates/src/arithmetic.jl\" target=\"_blank\">/buildworker/worker/package_linux64/build/usr/share/julia/stdlib/v1.1/Dates/src/arithmetic.jl:74</a></li> <li> +(x::<b>Dates.Date</b>, y::<b>Dates.Week</b>) in Dates at <a href=\"file:///buildworker/worker/package_linux64/build/usr/share/julia/stdlib/v1.1/Dates/src/arithmetic.jl\" target=\"_blank\">/buildworker/worker/package_linux64/build/usr/share/julia/stdlib/v1.1/Dates/src/arithmetic.jl:72</a></li> <li> +(dt::<b>Dates.Date</b>, z::<b>Dates.Month</b>) in Dates at <a href=\"file:///buildworker/worker/package_linux64/build/usr/share/julia/stdlib/v1.1/Dates/src/arithmetic.jl\" target=\"_blank\">/buildworker/worker/package_linux64/build/usr/share/julia/stdlib/v1.1/Dates/src/arithmetic.jl:55</a></li> <li> +(dt::<b>Dates.Date</b>, y::<b>Dates.Year</b>) in Dates at <a href=\"file:///buildworker/worker/package_linux64/build/usr/share/julia/stdlib/v1.1/Dates/src/arithmetic.jl\" target=\"_blank\">/buildworker/worker/package_linux64/build/usr/share/julia/stdlib/v1.1/Dates/src/arithmetic.jl:28</a></li> <li> +(dt::<b>Dates.Date</b>, t::<b>Dates.Time</b>) in Dates at <a href=\"file:///buildworker/worker/package_linux64/build/usr/share/julia/stdlib/v1.1/Dates/src/arithmetic.jl\" target=\"_blank\">/buildworker/worker/package_linux64/build/usr/share/julia/stdlib/v1.1/Dates/src/arithmetic.jl:19</a></li> <li> +(t::<b>Dates.Time</b>, dt::<b>Dates.Date</b>) in Dates at <a href=\"file:///buildworker/worker/package_linux64/build/usr/share/julia/stdlib/v1.1/Dates/src/arithmetic.jl\" target=\"_blank\">/buildworker/worker/package_linux64/build/usr/share/julia/stdlib/v1.1/Dates/src/arithmetic.jl:20</a></li> <li> +(x::<b>Dates.Time</b>, y::<b>Dates.TimePeriod</b>) in Dates at <a href=\"file:///buildworker/worker/package_linux64/build/usr/share/julia/stdlib/v1.1/Dates/src/arithmetic.jl\" target=\"_blank\">/buildworker/worker/package_linux64/build/usr/share/julia/stdlib/v1.1/Dates/src/arithmetic.jl:78</a></li> <li> +(dt::<b>Dates.DateTime</b>, z::<b>Dates.Month</b>) in Dates at <a href=\"file:///buildworker/worker/package_linux64/build/usr/share/julia/stdlib/v1.1/Dates/src/arithmetic.jl\" target=\"_blank\">/buildworker/worker/package_linux64/build/usr/share/julia/stdlib/v1.1/Dates/src/arithmetic.jl:48</a></li> <li> +(dt::<b>Dates.DateTime</b>, y::<b>Dates.Year</b>) in Dates at <a href=\"file:///buildworker/worker/package_linux64/build/usr/share/julia/stdlib/v1.1/Dates/src/arithmetic.jl\" target=\"_blank\">/buildworker/worker/package_linux64/build/usr/share/julia/stdlib/v1.1/Dates/src/arithmetic.jl:24</a></li> <li> +(x::<b>Dates.DateTime</b>, y::<b>Dates.Period</b>) in Dates at <a href=\"file:///buildworker/worker/package_linux64/build/usr/share/julia/stdlib/v1.1/Dates/src/arithmetic.jl\" target=\"_blank\">/buildworker/worker/package_linux64/build/usr/share/julia/stdlib/v1.1/Dates/src/arithmetic.jl:76</a></li> <li> +(B::<b>BitArray{2}</b>, J::<b>LinearAlgebra.UniformScaling</b>) in LinearAlgebra at <a href=\"file:///buildworker/worker/package_linux64/build/usr/share/julia/stdlib/v1.1/LinearAlgebra/src/uniformscaling.jl\" target=\"_blank\">/buildworker/worker/package_linux64/build/usr/share/julia/stdlib/v1.1/LinearAlgebra/src/uniformscaling.jl:90</a></li> <li> +(a::<b>Pkg.Resolve.VersionWeights.VersionWeight</b>, b::<b>Pkg.Resolve.VersionWeights.VersionWeight</b>) in Pkg.Resolve.VersionWeights at <a href=\"file:///buildworker/worker/package_linux64/build/usr/share/julia/stdlib/v1.1/Pkg/src/resolve/VersionWeights.jl\" target=\"_blank\">/buildworker/worker/package_linux64/build/usr/share/julia/stdlib/v1.1/Pkg/src/resolve/VersionWeights.jl:26</a></li> <li> +(a::<b>Pkg.Resolve.MaxSum.FieldValues.FieldValue</b>, b::<b>Pkg.Resolve.MaxSum.FieldValues.FieldValue</b>) in Pkg.Resolve.MaxSum.FieldValues at <a href=\"file:///buildworker/worker/package_linux64/build/usr/share/julia/stdlib/v1.1/Pkg/src/resolve/FieldValues.jl\" target=\"_blank\">/buildworker/worker/package_linux64/build/usr/share/julia/stdlib/v1.1/Pkg/src/resolve/FieldValues.jl:49</a></li> <li> +(y::<b>AbstractFloat</b>, x::<b>Bool</b>) in Base at <a href=\"https://github.com/JuliaLang/julia/tree/80516ca20297a67b996caa08c38786332379b6a5/base/bool.jl#L114\" target=\"_blank\">bool.jl:114</a></li> <li> +<i>{T<:Union{Int128, Int16, Int32, Int64, Int8, UInt128, UInt16, UInt32, UInt64, UInt8}}</i>(x::<b>T</b>, y::<b>T</b>) in Base at <a href=\"https://github.com/JuliaLang/julia/tree/80516ca20297a67b996caa08c38786332379b6a5/base/int.jl#L53\" target=\"_blank\">int.jl:53</a></li> <li> +(c::<b>Union{UInt16, UInt32, UInt64, UInt8}</b>, x::<b>BigInt</b>) in Base.GMP at <a href=\"https://github.com/JuliaLang/julia/tree/80516ca20297a67b996caa08c38786332379b6a5/base/gmp.jl#L441\" target=\"_blank\">gmp.jl:441</a></li> <li> +(c::<b>Union{Int16, Int32, Int64, Int8}</b>, x::<b>BigInt</b>) in Base.GMP at <a href=\"https://github.com/JuliaLang/julia/tree/80516ca20297a67b996caa08c38786332379b6a5/base/gmp.jl#L447\" target=\"_blank\">gmp.jl:447</a></li> <li> +(a::<b>Integer</b>, b::<b>Integer</b>) in Base at <a href=\"https://github.com/JuliaLang/julia/tree/80516ca20297a67b996caa08c38786332379b6a5/base/int.jl#L797\" target=\"_blank\">int.jl:797</a></li> <li> +(x::<b>Integer</b>, y::<b>Ptr</b>) in Base at <a href=\"https://github.com/JuliaLang/julia/tree/80516ca20297a67b996caa08c38786332379b6a5/base/pointer.jl#L157\" target=\"_blank\">pointer.jl:157</a></li> <li> +(z::<b>Complex</b>, w::<b>Complex</b>) in Base at <a href=\"https://github.com/JuliaLang/julia/tree/80516ca20297a67b996caa08c38786332379b6a5/base/complex.jl#L266\" target=\"_blank\">complex.jl:266</a></li> <li> +(z::<b>Complex</b>, x::<b>Bool</b>) in Base at <a href=\"https://github.com/JuliaLang/julia/tree/80516ca20297a67b996caa08c38786332379b6a5/base/complex.jl#L285\" target=\"_blank\">complex.jl:285</a></li> <li> +(x::<b>Real</b>, z::<b>Complex{Bool}</b>) in Base at <a href=\"https://github.com/JuliaLang/julia/tree/80516ca20297a67b996caa08c38786332379b6a5/base/complex.jl#L291\" target=\"_blank\">complex.jl:291</a></li> <li> +(x::<b>Real</b>, z::<b>Complex</b>) in Base at <a href=\"https://github.com/JuliaLang/julia/tree/80516ca20297a67b996caa08c38786332379b6a5/base/complex.jl#L303\" target=\"_blank\">complex.jl:303</a></li> <li> +(z::<b>Complex</b>, x::<b>Real</b>) in Base at <a href=\"https://github.com/JuliaLang/julia/tree/80516ca20297a67b996caa08c38786332379b6a5/base/complex.jl#L304\" target=\"_blank\">complex.jl:304</a></li> <li> +(x::<b>Rational</b>, y::<b>Rational</b>) in Base at <a href=\"https://github.com/JuliaLang/julia/tree/80516ca20297a67b996caa08c38786332379b6a5/base/rational.jl#L252\" target=\"_blank\">rational.jl:252</a></li> <li> +(x::<b>Integer</b>, y::<b>AbstractChar</b>) in Base at <a href=\"https://github.com/JuliaLang/julia/tree/80516ca20297a67b996caa08c38786332379b6a5/base/char.jl#L224\" target=\"_blank\">char.jl:224</a></li> <li> +(c::<b>Union{UInt16, UInt32, UInt64, UInt8}</b>, x::<b>BigFloat</b>) in Base.MPFR at <a href=\"https://github.com/JuliaLang/julia/tree/80516ca20297a67b996caa08c38786332379b6a5/base/mpfr.jl#L382\" target=\"_blank\">mpfr.jl:382</a></li> <li> +(c::<b>Union{Int16, Int32, Int64, Int8}</b>, x::<b>BigFloat</b>) in Base.MPFR at <a href=\"https://github.com/JuliaLang/julia/tree/80516ca20297a67b996caa08c38786332379b6a5/base/mpfr.jl#L390\" target=\"_blank\">mpfr.jl:390</a></li> <li> +(c::<b>Union{Float16, Float32, Float64}</b>, x::<b>BigFloat</b>) in Base.MPFR at <a href=\"https://github.com/JuliaLang/julia/tree/80516ca20297a67b996caa08c38786332379b6a5/base/mpfr.jl#L398\" target=\"_blank\">mpfr.jl:398</a></li> <li> +(x::<b>AbstractIrrational</b>, y::<b>AbstractIrrational</b>) in Base at <a href=\"https://github.com/JuliaLang/julia/tree/80516ca20297a67b996caa08c38786332379b6a5/base/irrationals.jl#L133\" target=\"_blank\">irrationals.jl:133</a></li> <li> +(x::<b>Number</b>) in Base at <a href=\"https://github.com/JuliaLang/julia/tree/80516ca20297a67b996caa08c38786332379b6a5/base/operators.jl#L477\" target=\"_blank\">operators.jl:477</a></li> <li> +<i>{T<:Number}</i>(x::<b>T</b>, y::<b>T</b>) in Base at <a href=\"https://github.com/JuliaLang/julia/tree/80516ca20297a67b996caa08c38786332379b6a5/base/promotion.jl#L389\" target=\"_blank\">promotion.jl:389</a></li> <li> +(x::<b>Number</b>, y::<b>Number</b>) in Base at <a href=\"https://github.com/JuliaLang/julia/tree/80516ca20297a67b996caa08c38786332379b6a5/base/promotion.jl#L313\" target=\"_blank\">promotion.jl:313</a></li> <li> +(r1::<b>OrdinalRange</b>, r2::<b>OrdinalRange</b>) in Base at <a href=\"https://github.com/JuliaLang/julia/tree/80516ca20297a67b996caa08c38786332379b6a5/base/range.jl#L1003\" target=\"_blank\">range.jl:1003</a></li> <li> +<i>{T}</i>(r1::<b>LinRange{T}</b>, r2::<b>LinRange{T}</b>) in Base at <a href=\"https://github.com/JuliaLang/julia/tree/80516ca20297a67b996caa08c38786332379b6a5/base/range.jl#L1010\" target=\"_blank\">range.jl:1010</a></li> <li> +<i>{R<:TwicePrecision, T}</i>(r1::<b>StepRangeLen{T,R,S} where S</b>, r2::<b>StepRangeLen{T,R,S} where S</b>) in Base at <a href=\"https://github.com/JuliaLang/julia/tree/80516ca20297a67b996caa08c38786332379b6a5/base/twiceprecision.jl#L557\" target=\"_blank\">twiceprecision.jl:557</a></li> <li> +<i>{T, S}</i>(r1::<b>StepRangeLen{T,S,S1} where S1</b>, r2::<b>StepRangeLen{T,S,S1} where S1</b>) in Base at <a href=\"https://github.com/JuliaLang/julia/tree/80516ca20297a67b996caa08c38786332379b6a5/base/range.jl#L1026\" target=\"_blank\">range.jl:1026</a></li> <li> +(r1::<b>Union{LinRange, OrdinalRange, StepRangeLen}</b>, r2::<b>Union{LinRange, OrdinalRange, StepRangeLen}</b>) in Base at <a href=\"https://github.com/JuliaLang/julia/tree/80516ca20297a67b996caa08c38786332379b6a5/base/range.jl#L1018\" target=\"_blank\">range.jl:1018</a></li> <li> +(x::<b>Ptr</b>, y::<b>Integer</b>) in Base at <a href=\"https://github.com/JuliaLang/julia/tree/80516ca20297a67b996caa08c38786332379b6a5/base/pointer.jl#L155\" target=\"_blank\">pointer.jl:155</a></li> <li> +(x::<b>Base.TwicePrecision</b>, y::<b>Number</b>) in Base at <a href=\"https://github.com/JuliaLang/julia/tree/80516ca20297a67b996caa08c38786332379b6a5/base/twiceprecision.jl#L265\" target=\"_blank\">twiceprecision.jl:265</a></li> <li> +(x::<b>Number</b>, y::<b>Base.TwicePrecision</b>) in Base at <a href=\"https://github.com/JuliaLang/julia/tree/80516ca20297a67b996caa08c38786332379b6a5/base/twiceprecision.jl#L268\" target=\"_blank\">twiceprecision.jl:268</a></li> <li> +<i>{T}</i>(x::<b>Base.TwicePrecision{T}</b>, y::<b>Base.TwicePrecision{T}</b>) in Base at <a href=\"https://github.com/JuliaLang/julia/tree/80516ca20297a67b996caa08c38786332379b6a5/base/twiceprecision.jl#L271\" target=\"_blank\">twiceprecision.jl:271</a></li> <li> +(x::<b>Base.TwicePrecision</b>, y::<b>Base.TwicePrecision</b>) in Base at <a href=\"https://github.com/JuliaLang/julia/tree/80516ca20297a67b996caa08c38786332379b6a5/base/twiceprecision.jl#L275\" target=\"_blank\">twiceprecision.jl:275</a></li> <li> +(A::<b>Array</b>, Bs::<b>Array...</b>) in Base at <a href=\"https://github.com/JuliaLang/julia/tree/80516ca20297a67b996caa08c38786332379b6a5/base/arraymath.jl#L44\" target=\"_blank\">arraymath.jl:44</a></li> <li> +(A::<b>BitArray</b>, B::<b>BitArray</b>) in Base at <a href=\"https://github.com/JuliaLang/julia/tree/80516ca20297a67b996caa08c38786332379b6a5/base/bitarray.jl#L1084\" target=\"_blank\">bitarray.jl:1084</a></li> <li> +(r::<b>AbstractRange{#s623} where #s623<:Dates.TimeType</b>, x::<b>Dates.Period</b>) in Dates at <a href=\"file:///buildworker/worker/package_linux64/build/usr/share/julia/stdlib/v1.1/Dates/src/ranges.jl\" target=\"_blank\">/buildworker/worker/package_linux64/build/usr/share/julia/stdlib/v1.1/Dates/src/ranges.jl:59</a></li> <li> +(A::<b>Array{T,2} where T</b>, B::<b>LinearAlgebra.Diagonal</b>) in LinearAlgebra at <a href=\"file:///buildworker/worker/package_linux64/build/usr/share/julia/stdlib/v1.1/LinearAlgebra/src/special.jl\" target=\"_blank\">/buildworker/worker/package_linux64/build/usr/share/julia/stdlib/v1.1/LinearAlgebra/src/special.jl:88</a></li> <li> +(A::<b>Array{T,2} where T</b>, B::<b>LinearAlgebra.Bidiagonal</b>) in LinearAlgebra at <a href=\"file:///buildworker/worker/package_linux64/build/usr/share/julia/stdlib/v1.1/LinearAlgebra/src/special.jl\" target=\"_blank\">/buildworker/worker/package_linux64/build/usr/share/julia/stdlib/v1.1/LinearAlgebra/src/special.jl:88</a></li> <li> +(A::<b>Array{T,2} where T</b>, B::<b>LinearAlgebra.Tridiagonal</b>) in LinearAlgebra at <a href=\"file:///buildworker/worker/package_linux64/build/usr/share/julia/stdlib/v1.1/LinearAlgebra/src/special.jl\" target=\"_blank\">/buildworker/worker/package_linux64/build/usr/share/julia/stdlib/v1.1/LinearAlgebra/src/special.jl:88</a></li> <li> +(A::<b>Array{T,2} where T</b>, B::<b>LinearAlgebra.SymTridiagonal</b>) in LinearAlgebra at <a href=\"file:///buildworker/worker/package_linux64/build/usr/share/julia/stdlib/v1.1/LinearAlgebra/src/special.jl\" target=\"_blank\">/buildworker/worker/package_linux64/build/usr/share/julia/stdlib/v1.1/LinearAlgebra/src/special.jl:97</a></li> <li> +(A::<b>Array{T,2} where T</b>, B::<b>LinearAlgebra.AbstractTriangular</b>) in LinearAlgebra at <a href=\"file:///buildworker/worker/package_linux64/build/usr/share/julia/stdlib/v1.1/LinearAlgebra/src/special.jl\" target=\"_blank\">/buildworker/worker/package_linux64/build/usr/share/julia/stdlib/v1.1/LinearAlgebra/src/special.jl:125</a></li> <li> +(A::<b>Array</b>, B::<b>SparseArrays.SparseMatrixCSC</b>) in SparseArrays at <a href=\"file:///buildworker/worker/package_linux64/build/usr/share/julia/stdlib/v1.1/SparseArrays/src/sparsematrix.jl\" target=\"_blank\">/buildworker/worker/package_linux64/build/usr/share/julia/stdlib/v1.1/SparseArrays/src/sparsematrix.jl:1580</a></li> <li> +(x::<b>Union{DenseArray{#s623,N}, ReinterpretArray{#s623,N,S,A} where S where A<:Union{SubArray{T,N,A,I,true} where I<:Union{Tuple{Vararg{Real,N} where N}, Tuple{AbstractUnitRange,Vararg{Any,N} where N}} where A<:DenseArray where N where T, DenseArray}, ReshapedArray{#s623,N,A,MI} where MI<:Tuple{Vararg{SignedMultiplicativeInverse{Int64},N} where N} where A<:Union{ReinterpretArray{T,N,S,A} where S where A<:Union{SubArray{T,N,A,I,true} where I<:Union{Tuple{Vararg{Real,N} where N}, Tuple{AbstractUnitRange,Vararg{Any,N} where N}} where A<:DenseArray where N where T, DenseArray} where N where T, SubArray{T,N,A,I,true} where I<:Union{Tuple{Vararg{Real,N} where N}, Tuple{AbstractUnitRange,Vararg{Any,N} where N}} where A<:DenseArray where N where T, DenseArray}, SubArray{#s623,N,A,I,L} where L where I<:Tuple{Vararg{Union{Int64, AbstractRange{Int64}, AbstractCartesianIndex},N} where N} where A<:Union{ReinterpretArray{T,N,S,A} where S where A<:Union{SubArray{T,N,A,I,true} where I<:Union{Tuple{Vararg{Real,N} where N}, Tuple{AbstractUnitRange,Vararg{Any,N} where N}} where A<:DenseArray where N where T, DenseArray} where N where T, ReshapedArray{T,N,A,MI} where MI<:Tuple{Vararg{SignedMultiplicativeInverse{Int64},N} where N} where A<:Union{ReinterpretArray{T,N,S,A} where S where A<:Union{SubArray{T,N,A,I,true} where I<:Union{Tuple{Vararg{Real,N} where N}, Tuple{AbstractUnitRange,Vararg{Any,N} where N}} where A<:DenseArray where N where T, DenseArray} where N where T, SubArray{T,N,A,I,true} where I<:Union{Tuple{Vararg{Real,N} where N}, Tuple{AbstractUnitRange,Vararg{Any,N} where N}} where A<:DenseArray where N where T, DenseArray} where N where T, DenseArray}} where N where #s623<:Union{CompoundPeriod, Period}</b>) in Dates at <a href=\"file:///buildworker/worker/package_linux64/build/usr/share/julia/stdlib/v1.1/Dates/src/deprecated.jl\" target=\"_blank\">/buildworker/worker/package_linux64/build/usr/share/julia/stdlib/v1.1/Dates/src/deprecated.jl:57</a></li> <li> +(x::<b>Union{DenseArray{#s623,N}, ReinterpretArray{#s623,N,S,A} where S where A<:Union{SubArray{T,N,A,I,true} where I<:Union{Tuple{Vararg{Real,N} where N}, Tuple{AbstractUnitRange,Vararg{Any,N} where N}} where A<:DenseArray where N where T, DenseArray}, ReshapedArray{#s623,N,A,MI} where MI<:Tuple{Vararg{SignedMultiplicativeInverse{Int64},N} where N} where A<:Union{ReinterpretArray{T,N,S,A} where S where A<:Union{SubArray{T,N,A,I,true} where I<:Union{Tuple{Vararg{Real,N} where N}, Tuple{AbstractUnitRange,Vararg{Any,N} where N}} where A<:DenseArray where N where T, DenseArray} where N where T, SubArray{T,N,A,I,true} where I<:Union{Tuple{Vararg{Real,N} where N}, Tuple{AbstractUnitRange,Vararg{Any,N} where N}} where A<:DenseArray where N where T, DenseArray}, SubArray{#s623,N,A,I,L} where L where I<:Tuple{Vararg{Union{Int64, AbstractRange{Int64}, AbstractCartesianIndex},N} where N} where A<:Union{ReinterpretArray{T,N,S,A} where S where A<:Union{SubArray{T,N,A,I,true} where I<:Union{Tuple{Vararg{Real,N} where N}, Tuple{AbstractUnitRange,Vararg{Any,N} where N}} where A<:DenseArray where N where T, DenseArray} where N where T, ReshapedArray{T,N,A,MI} where MI<:Tuple{Vararg{SignedMultiplicativeInverse{Int64},N} where N} where A<:Union{ReinterpretArray{T,N,S,A} where S where A<:Union{SubArray{T,N,A,I,true} where I<:Union{Tuple{Vararg{Real,N} where N}, Tuple{AbstractUnitRange,Vararg{Any,N} where N}} where A<:DenseArray where N where T, DenseArray} where N where T, SubArray{T,N,A,I,true} where I<:Union{Tuple{Vararg{Real,N} where N}, Tuple{AbstractUnitRange,Vararg{Any,N} where N}} where A<:DenseArray where N where T, DenseArray} where N where T, DenseArray}} where N where #s623<:Union{CompoundPeriod, Period}</b>, y::<b>Dates.TimeType</b>) in Dates at <a href=\"file:///buildworker/worker/package_linux64/build/usr/share/julia/stdlib/v1.1/Dates/src/deprecated.jl\" target=\"_blank\">/buildworker/worker/package_linux64/build/usr/share/julia/stdlib/v1.1/Dates/src/deprecated.jl:12</a></li> <li> +(X::<b>Union{DenseArray{#s623,N}, ReinterpretArray{#s623,N,S,A} where S where A<:Union{SubArray{T,N,A,I,true} where I<:Union{Tuple{Vararg{Real,N} where N}, Tuple{AbstractUnitRange,Vararg{Any,N} where N}} where A<:DenseArray where N where T, DenseArray}, ReshapedArray{#s623,N,A,MI} where MI<:Tuple{Vararg{SignedMultiplicativeInverse{Int64},N} where N} where A<:Union{ReinterpretArray{T,N,S,A} where S where A<:Union{SubArray{T,N,A,I,true} where I<:Union{Tuple{Vararg{Real,N} where N}, Tuple{AbstractUnitRange,Vararg{Any,N} where N}} where A<:DenseArray where N where T, DenseArray} where N where T, SubArray{T,N,A,I,true} where I<:Union{Tuple{Vararg{Real,N} where N}, Tuple{AbstractUnitRange,Vararg{Any,N} where N}} where A<:DenseArray where N where T, DenseArray}, SubArray{#s623,N,A,I,L} where L where I<:Tuple{Vararg{Union{Int64, AbstractRange{Int64}, AbstractCartesianIndex},N} where N} where A<:Union{ReinterpretArray{T,N,S,A} where S where A<:Union{SubArray{T,N,A,I,true} where I<:Union{Tuple{Vararg{Real,N} where N}, Tuple{AbstractUnitRange,Vararg{Any,N} where N}} where A<:DenseArray where N where T, DenseArray} where N where T, ReshapedArray{T,N,A,MI} where MI<:Tuple{Vararg{SignedMultiplicativeInverse{Int64},N} where N} where A<:Union{ReinterpretArray{T,N,S,A} where S where A<:Union{SubArray{T,N,A,I,true} where I<:Union{Tuple{Vararg{Real,N} where N}, Tuple{AbstractUnitRange,Vararg{Any,N} where N}} where A<:DenseArray where N where T, DenseArray} where N where T, SubArray{T,N,A,I,true} where I<:Union{Tuple{Vararg{Real,N} where N}, Tuple{AbstractUnitRange,Vararg{Any,N} where N}} where A<:DenseArray where N where T, DenseArray} where N where T, DenseArray}} where N where #s623<:Union{CompoundPeriod, Period}</b>, Y::<b>Union{DenseArray{#s622,N}, ReinterpretArray{#s622,N,S,A} where S where A<:Union{SubArray{T,N,A,I,true} where I<:Union{Tuple{Vararg{Real,N} where N}, Tuple{AbstractUnitRange,Vararg{Any,N} where N}} where A<:DenseArray where N where T, DenseArray}, ReshapedArray{#s622,N,A,MI} where MI<:Tuple{Vararg{SignedMultiplicativeInverse{Int64},N} where N} where A<:Union{ReinterpretArray{T,N,S,A} where S where A<:Union{SubArray{T,N,A,I,true} where I<:Union{Tuple{Vararg{Real,N} where N}, Tuple{AbstractUnitRange,Vararg{Any,N} where N}} where A<:DenseArray where N where T, DenseArray} where N where T, SubArray{T,N,A,I,true} where I<:Union{Tuple{Vararg{Real,N} where N}, Tuple{AbstractUnitRange,Vararg{Any,N} where N}} where A<:DenseArray where N where T, DenseArray}, SubArray{#s622,N,A,I,L} where L where I<:Tuple{Vararg{Union{Int64, AbstractRange{Int64}, AbstractCartesianIndex},N} where N} where A<:Union{ReinterpretArray{T,N,S,A} where S where A<:Union{SubArray{T,N,A,I,true} where I<:Union{Tuple{Vararg{Real,N} where N}, Tuple{AbstractUnitRange,Vararg{Any,N} where N}} where A<:DenseArray where N where T, DenseArray} where N where T, ReshapedArray{T,N,A,MI} where MI<:Tuple{Vararg{SignedMultiplicativeInverse{Int64},N} where N} where A<:Union{ReinterpretArray{T,N,S,A} where S where A<:Union{SubArray{T,N,A,I,true} where I<:Union{Tuple{Vararg{Real,N} where N}, Tuple{AbstractUnitRange,Vararg{Any,N} where N}} where A<:DenseArray where N where T, DenseArray} where N where T, SubArray{T,N,A,I,true} where I<:Union{Tuple{Vararg{Real,N} where N}, Tuple{AbstractUnitRange,Vararg{Any,N} where N}} where A<:DenseArray where N where T, DenseArray} where N where T, DenseArray}} where N where #s622<:Union{CompoundPeriod, Period}</b>) in Dates at <a href=\"file:///buildworker/worker/package_linux64/build/usr/share/julia/stdlib/v1.1/Dates/src/deprecated.jl\" target=\"_blank\">/buildworker/worker/package_linux64/build/usr/share/julia/stdlib/v1.1/Dates/src/deprecated.jl:64</a></li> <li> +(A::<b>LinearAlgebra.SymTridiagonal</b>, B::<b>LinearAlgebra.SymTridiagonal</b>) in LinearAlgebra at <a href=\"file:///buildworker/worker/package_linux64/build/usr/share/julia/stdlib/v1.1/LinearAlgebra/src/tridiag.jl\" target=\"_blank\">/buildworker/worker/package_linux64/build/usr/share/julia/stdlib/v1.1/LinearAlgebra/src/tridiag.jl:158</a></li> <li> +(A::<b>LinearAlgebra.Tridiagonal</b>, B::<b>LinearAlgebra.Tridiagonal</b>) in LinearAlgebra at <a href=\"file:///buildworker/worker/package_linux64/build/usr/share/julia/stdlib/v1.1/LinearAlgebra/src/tridiag.jl\" target=\"_blank\">/buildworker/worker/package_linux64/build/usr/share/julia/stdlib/v1.1/LinearAlgebra/src/tridiag.jl:617</a></li> <li> +(A::<b>LinearAlgebra.UpperTriangular</b>, B::<b>LinearAlgebra.UpperTriangular</b>) in LinearAlgebra at <a href=\"file:///buildworker/worker/package_linux64/build/usr/share/julia/stdlib/v1.1/LinearAlgebra/src/triangular.jl\" target=\"_blank\">/buildworker/worker/package_linux64/build/usr/share/julia/stdlib/v1.1/LinearAlgebra/src/triangular.jl:487</a></li> <li> +(A::<b>LinearAlgebra.LowerTriangular</b>, B::<b>LinearAlgebra.LowerTriangular</b>) in LinearAlgebra at <a href=\"file:///buildworker/worker/package_linux64/build/usr/share/julia/stdlib/v1.1/LinearAlgebra/src/triangular.jl\" target=\"_blank\">/buildworker/worker/package_linux64/build/usr/share/julia/stdlib/v1.1/LinearAlgebra/src/triangular.jl:488</a></li> <li> +(A::<b>LinearAlgebra.UpperTriangular</b>, B::<b>LinearAlgebra.UnitUpperTriangular</b>) in LinearAlgebra at <a href=\"file:///buildworker/worker/package_linux64/build/usr/share/julia/stdlib/v1.1/LinearAlgebra/src/triangular.jl\" target=\"_blank\">/buildworker/worker/package_linux64/build/usr/share/julia/stdlib/v1.1/LinearAlgebra/src/triangular.jl:489</a></li> <li> +(A::<b>LinearAlgebra.LowerTriangular</b>, B::<b>LinearAlgebra.UnitLowerTriangular</b>) in LinearAlgebra at <a href=\"file:///buildworker/worker/package_linux64/build/usr/share/julia/stdlib/v1.1/LinearAlgebra/src/triangular.jl\" target=\"_blank\">/buildworker/worker/package_linux64/build/usr/share/julia/stdlib/v1.1/LinearAlgebra/src/triangular.jl:490</a></li> <li> +(A::<b>LinearAlgebra.UnitUpperTriangular</b>, B::<b>LinearAlgebra.UpperTriangular</b>) in LinearAlgebra at <a href=\"file:///buildworker/worker/package_linux64/build/usr/share/julia/stdlib/v1.1/LinearAlgebra/src/triangular.jl\" target=\"_blank\">/buildworker/worker/package_linux64/build/usr/share/julia/stdlib/v1.1/LinearAlgebra/src/triangular.jl:491</a></li> <li> +(A::<b>LinearAlgebra.UnitLowerTriangular</b>, B::<b>LinearAlgebra.LowerTriangular</b>) in LinearAlgebra at <a href=\"file:///buildworker/worker/package_linux64/build/usr/share/julia/stdlib/v1.1/LinearAlgebra/src/triangular.jl\" target=\"_blank\">/buildworker/worker/package_linux64/build/usr/share/julia/stdlib/v1.1/LinearAlgebra/src/triangular.jl:492</a></li> <li> +(A::<b>LinearAlgebra.UnitUpperTriangular</b>, B::<b>LinearAlgebra.UnitUpperTriangular</b>) in LinearAlgebra at <a href=\"file:///buildworker/worker/package_linux64/build/usr/share/julia/stdlib/v1.1/LinearAlgebra/src/triangular.jl\" target=\"_blank\">/buildworker/worker/package_linux64/build/usr/share/julia/stdlib/v1.1/LinearAlgebra/src/triangular.jl:493</a></li> <li> +(A::<b>LinearAlgebra.UnitLowerTriangular</b>, B::<b>LinearAlgebra.UnitLowerTriangular</b>) in LinearAlgebra at <a href=\"file:///buildworker/worker/package_linux64/build/usr/share/julia/stdlib/v1.1/LinearAlgebra/src/triangular.jl\" target=\"_blank\">/buildworker/worker/package_linux64/build/usr/share/julia/stdlib/v1.1/LinearAlgebra/src/triangular.jl:494</a></li> <li> +(A::<b>LinearAlgebra.AbstractTriangular</b>, B::<b>LinearAlgebra.AbstractTriangular</b>) in LinearAlgebra at <a href=\"file:///buildworker/worker/package_linux64/build/usr/share/julia/stdlib/v1.1/LinearAlgebra/src/triangular.jl\" target=\"_blank\">/buildworker/worker/package_linux64/build/usr/share/julia/stdlib/v1.1/LinearAlgebra/src/triangular.jl:495</a></li> <li> +(Da::<b>LinearAlgebra.Diagonal</b>, Db::<b>LinearAlgebra.Diagonal</b>) in LinearAlgebra at <a href=\"file:///buildworker/worker/package_linux64/build/usr/share/julia/stdlib/v1.1/LinearAlgebra/src/diagonal.jl\" target=\"_blank\">/buildworker/worker/package_linux64/build/usr/share/julia/stdlib/v1.1/LinearAlgebra/src/diagonal.jl:156</a></li> <li> +(A::<b>LinearAlgebra.Bidiagonal</b>, B::<b>LinearAlgebra.Bidiagonal</b>) in LinearAlgebra at <a href=\"file:///buildworker/worker/package_linux64/build/usr/share/julia/stdlib/v1.1/LinearAlgebra/src/bidiag.jl\" target=\"_blank\">/buildworker/worker/package_linux64/build/usr/share/julia/stdlib/v1.1/LinearAlgebra/src/bidiag.jl:306</a></li> <li> +(UL::<b>LinearAlgebra.UnitUpperTriangular</b>, J::<b>LinearAlgebra.UniformScaling</b>) in LinearAlgebra at <a href=\"file:///buildworker/worker/package_linux64/build/usr/share/julia/stdlib/v1.1/LinearAlgebra/src/uniformscaling.jl\" target=\"_blank\">/buildworker/worker/package_linux64/build/usr/share/julia/stdlib/v1.1/LinearAlgebra/src/uniformscaling.jl:106</a></li> <li> +(UL::<b>LinearAlgebra.UnitLowerTriangular</b>, J::<b>LinearAlgebra.UniformScaling</b>) in LinearAlgebra at <a href=\"file:///buildworker/worker/package_linux64/build/usr/share/julia/stdlib/v1.1/LinearAlgebra/src/uniformscaling.jl\" target=\"_blank\">/buildworker/worker/package_linux64/build/usr/share/julia/stdlib/v1.1/LinearAlgebra/src/uniformscaling.jl:106</a></li> <li> +(A::<b>SparseArrays.SparseMatrixCSC</b>, J::<b>LinearAlgebra.UniformScaling</b>) in SparseArrays at <a href=\"file:///buildworker/worker/package_linux64/build/usr/share/julia/stdlib/v1.1/SparseArrays/src/sparsematrix.jl\" target=\"_blank\">/buildworker/worker/package_linux64/build/usr/share/julia/stdlib/v1.1/SparseArrays/src/sparsematrix.jl:3506</a></li> <li> +(A::<b>AbstractArray{T,2} where T</b>, J::<b>LinearAlgebra.UniformScaling</b>) in LinearAlgebra at <a href=\"file:///buildworker/worker/package_linux64/build/usr/share/julia/stdlib/v1.1/LinearAlgebra/src/uniformscaling.jl\" target=\"_blank\">/buildworker/worker/package_linux64/build/usr/share/julia/stdlib/v1.1/LinearAlgebra/src/uniformscaling.jl:116</a></li> <li> +(A::<b>LinearAlgebra.Diagonal</b>, B::<b>LinearAlgebra.Bidiagonal</b>) in LinearAlgebra at <a href=\"file:///buildworker/worker/package_linux64/build/usr/share/julia/stdlib/v1.1/LinearAlgebra/src/special.jl\" target=\"_blank\">/buildworker/worker/package_linux64/build/usr/share/julia/stdlib/v1.1/LinearAlgebra/src/special.jl:87</a></li> <li> +(A::<b>LinearAlgebra.Bidiagonal</b>, B::<b>LinearAlgebra.Diagonal</b>) in LinearAlgebra at <a href=\"file:///buildworker/worker/package_linux64/build/usr/share/julia/stdlib/v1.1/LinearAlgebra/src/special.jl\" target=\"_blank\">/buildworker/worker/package_linux64/build/usr/share/julia/stdlib/v1.1/LinearAlgebra/src/special.jl:88</a></li> <li> +(A::<b>LinearAlgebra.Diagonal</b>, B::<b>LinearAlgebra.Tridiagonal</b>) in LinearAlgebra at <a href=\"file:///buildworker/worker/package_linux64/build/usr/share/julia/stdlib/v1.1/LinearAlgebra/src/special.jl\" target=\"_blank\">/buildworker/worker/package_linux64/build/usr/share/julia/stdlib/v1.1/LinearAlgebra/src/special.jl:87</a></li> <li> +(A::<b>LinearAlgebra.Tridiagonal</b>, B::<b>LinearAlgebra.Diagonal</b>) in LinearAlgebra at <a href=\"file:///buildworker/worker/package_linux64/build/usr/share/julia/stdlib/v1.1/LinearAlgebra/src/special.jl\" target=\"_blank\">/buildworker/worker/package_linux64/build/usr/share/julia/stdlib/v1.1/LinearAlgebra/src/special.jl:88</a></li> <li> +(A::<b>LinearAlgebra.Diagonal</b>, B::<b>Array{T,2} where T</b>) in LinearAlgebra at <a href=\"file:///buildworker/worker/package_linux64/build/usr/share/julia/stdlib/v1.1/LinearAlgebra/src/special.jl\" target=\"_blank\">/buildworker/worker/package_linux64/build/usr/share/julia/stdlib/v1.1/LinearAlgebra/src/special.jl:87</a></li> <li> +(A::<b>LinearAlgebra.Bidiagonal</b>, B::<b>LinearAlgebra.Tridiagonal</b>) in LinearAlgebra at <a href=\"file:///buildworker/worker/package_linux64/build/usr/share/julia/stdlib/v1.1/LinearAlgebra/src/special.jl\" target=\"_blank\">/buildworker/worker/package_linux64/build/usr/share/julia/stdlib/v1.1/LinearAlgebra/src/special.jl:87</a></li> <li> +(A::<b>LinearAlgebra.Tridiagonal</b>, B::<b>LinearAlgebra.Bidiagonal</b>) in LinearAlgebra at <a href=\"file:///buildworker/worker/package_linux64/build/usr/share/julia/stdlib/v1.1/LinearAlgebra/src/special.jl\" target=\"_blank\">/buildworker/worker/package_linux64/build/usr/share/julia/stdlib/v1.1/LinearAlgebra/src/special.jl:88</a></li> <li> +(A::<b>LinearAlgebra.Bidiagonal</b>, B::<b>Array{T,2} where T</b>) in LinearAlgebra at <a href=\"file:///buildworker/worker/package_linux64/build/usr/share/julia/stdlib/v1.1/LinearAlgebra/src/special.jl\" target=\"_blank\">/buildworker/worker/package_linux64/build/usr/share/julia/stdlib/v1.1/LinearAlgebra/src/special.jl:87</a></li> <li> +(A::<b>LinearAlgebra.Tridiagonal</b>, B::<b>Array{T,2} where T</b>) in LinearAlgebra at <a href=\"file:///buildworker/worker/package_linux64/build/usr/share/julia/stdlib/v1.1/LinearAlgebra/src/special.jl\" target=\"_blank\">/buildworker/worker/package_linux64/build/usr/share/julia/stdlib/v1.1/LinearAlgebra/src/special.jl:87</a></li> <li> +(A::<b>LinearAlgebra.SymTridiagonal</b>, B::<b>LinearAlgebra.Tridiagonal</b>) in LinearAlgebra at <a href=\"file:///buildworker/worker/package_linux64/build/usr/share/julia/stdlib/v1.1/LinearAlgebra/src/special.jl\" target=\"_blank\">/buildworker/worker/package_linux64/build/usr/share/julia/stdlib/v1.1/LinearAlgebra/src/special.jl:96</a></li> <li> +(A::<b>LinearAlgebra.Tridiagonal</b>, B::<b>LinearAlgebra.SymTridiagonal</b>) in LinearAlgebra at <a href=\"file:///buildworker/worker/package_linux64/build/usr/share/julia/stdlib/v1.1/LinearAlgebra/src/special.jl\" target=\"_blank\">/buildworker/worker/package_linux64/build/usr/share/julia/stdlib/v1.1/LinearAlgebra/src/special.jl:97</a></li> <li> +(A::<b>LinearAlgebra.SymTridiagonal</b>, B::<b>Array{T,2} where T</b>) in LinearAlgebra at <a href=\"file:///buildworker/worker/package_linux64/build/usr/share/julia/stdlib/v1.1/LinearAlgebra/src/special.jl\" target=\"_blank\">/buildworker/worker/package_linux64/build/usr/share/julia/stdlib/v1.1/LinearAlgebra/src/special.jl:96</a></li> <li> +(A::<b>LinearAlgebra.Diagonal</b>, B::<b>LinearAlgebra.SymTridiagonal</b>) in LinearAlgebra at <a href=\"file:///buildworker/worker/package_linux64/build/usr/share/julia/stdlib/v1.1/LinearAlgebra/src/special.jl\" target=\"_blank\">/buildworker/worker/package_linux64/build/usr/share/julia/stdlib/v1.1/LinearAlgebra/src/special.jl:105</a></li> <li> +(A::<b>LinearAlgebra.SymTridiagonal</b>, B::<b>LinearAlgebra.Diagonal</b>) in LinearAlgebra at <a href=\"file:///buildworker/worker/package_linux64/build/usr/share/julia/stdlib/v1.1/LinearAlgebra/src/special.jl\" target=\"_blank\">/buildworker/worker/package_linux64/build/usr/share/julia/stdlib/v1.1/LinearAlgebra/src/special.jl:106</a></li> <li> +(A::<b>LinearAlgebra.Bidiagonal</b>, B::<b>LinearAlgebra.SymTridiagonal</b>) in LinearAlgebra at <a href=\"file:///buildworker/worker/package_linux64/build/usr/share/julia/stdlib/v1.1/LinearAlgebra/src/special.jl\" target=\"_blank\">/buildworker/worker/package_linux64/build/usr/share/julia/stdlib/v1.1/LinearAlgebra/src/special.jl:105</a></li> <li> +(A::<b>LinearAlgebra.SymTridiagonal</b>, B::<b>LinearAlgebra.Bidiagonal</b>) in LinearAlgebra at <a href=\"file:///buildworker/worker/package_linux64/build/usr/share/julia/stdlib/v1.1/LinearAlgebra/src/special.jl\" target=\"_blank\">/buildworker/worker/package_linux64/build/usr/share/julia/stdlib/v1.1/LinearAlgebra/src/special.jl:106</a></li> <li> +(A::<b>LinearAlgebra.Diagonal</b>, B::<b>LinearAlgebra.UpperTriangular</b>) in LinearAlgebra at <a href=\"file:///buildworker/worker/package_linux64/build/usr/share/julia/stdlib/v1.1/LinearAlgebra/src/special.jl\" target=\"_blank\">/buildworker/worker/package_linux64/build/usr/share/julia/stdlib/v1.1/LinearAlgebra/src/special.jl:117</a></li> <li> +(A::<b>LinearAlgebra.UpperTriangular</b>, B::<b>LinearAlgebra.Diagonal</b>) in LinearAlgebra at <a href=\"file:///buildworker/worker/package_linux64/build/usr/share/julia/stdlib/v1.1/LinearAlgebra/src/special.jl\" target=\"_blank\">/buildworker/worker/package_linux64/build/usr/share/julia/stdlib/v1.1/LinearAlgebra/src/special.jl:118</a></li> <li> +(A::<b>LinearAlgebra.Diagonal</b>, B::<b>LinearAlgebra.UnitUpperTriangular</b>) in LinearAlgebra at <a href=\"file:///buildworker/worker/package_linux64/build/usr/share/julia/stdlib/v1.1/LinearAlgebra/src/special.jl\" target=\"_blank\">/buildworker/worker/package_linux64/build/usr/share/julia/stdlib/v1.1/LinearAlgebra/src/special.jl:117</a></li> <li> +(A::<b>LinearAlgebra.UnitUpperTriangular</b>, B::<b>LinearAlgebra.Diagonal</b>) in LinearAlgebra at <a href=\"file:///buildworker/worker/package_linux64/build/usr/share/julia/stdlib/v1.1/LinearAlgebra/src/special.jl\" target=\"_blank\">/buildworker/worker/package_linux64/build/usr/share/julia/stdlib/v1.1/LinearAlgebra/src/special.jl:118</a></li> <li> +(A::<b>LinearAlgebra.Diagonal</b>, B::<b>LinearAlgebra.LowerTriangular</b>) in LinearAlgebra at <a href=\"file:///buildworker/worker/package_linux64/build/usr/share/julia/stdlib/v1.1/LinearAlgebra/src/special.jl\" target=\"_blank\">/buildworker/worker/package_linux64/build/usr/share/julia/stdlib/v1.1/LinearAlgebra/src/special.jl:117</a></li> <li> +(A::<b>LinearAlgebra.LowerTriangular</b>, B::<b>LinearAlgebra.Diagonal</b>) in LinearAlgebra at <a href=\"file:///buildworker/worker/package_linux64/build/usr/share/julia/stdlib/v1.1/LinearAlgebra/src/special.jl\" target=\"_blank\">/buildworker/worker/package_linux64/build/usr/share/julia/stdlib/v1.1/LinearAlgebra/src/special.jl:118</a></li> <li> +(A::<b>LinearAlgebra.Diagonal</b>, B::<b>LinearAlgebra.UnitLowerTriangular</b>) in LinearAlgebra at <a href=\"file:///buildworker/worker/package_linux64/build/usr/share/julia/stdlib/v1.1/LinearAlgebra/src/special.jl\" target=\"_blank\">/buildworker/worker/package_linux64/build/usr/share/julia/stdlib/v1.1/LinearAlgebra/src/special.jl:117</a></li> <li> +(A::<b>LinearAlgebra.UnitLowerTriangular</b>, B::<b>LinearAlgebra.Diagonal</b>) in LinearAlgebra at <a href=\"file:///buildworker/worker/package_linux64/build/usr/share/julia/stdlib/v1.1/LinearAlgebra/src/special.jl\" target=\"_blank\">/buildworker/worker/package_linux64/build/usr/share/julia/stdlib/v1.1/LinearAlgebra/src/special.jl:118</a></li> <li> +(A::<b>LinearAlgebra.AbstractTriangular</b>, B::<b>LinearAlgebra.SymTridiagonal</b>) in LinearAlgebra at <a href=\"file:///buildworker/worker/package_linux64/build/usr/share/julia/stdlib/v1.1/LinearAlgebra/src/special.jl\" target=\"_blank\">/buildworker/worker/package_linux64/build/usr/share/julia/stdlib/v1.1/LinearAlgebra/src/special.jl:124</a></li> <li> +(A::<b>LinearAlgebra.SymTridiagonal</b>, B::<b>LinearAlgebra.AbstractTriangular</b>) in LinearAlgebra at <a href=\"file:///buildworker/worker/package_linux64/build/usr/share/julia/stdlib/v1.1/LinearAlgebra/src/special.jl\" target=\"_blank\">/buildworker/worker/package_linux64/build/usr/share/julia/stdlib/v1.1/LinearAlgebra/src/special.jl:125</a></li> <li> +(A::<b>LinearAlgebra.AbstractTriangular</b>, B::<b>LinearAlgebra.Tridiagonal</b>) in LinearAlgebra at <a href=\"file:///buildworker/worker/package_linux64/build/usr/share/julia/stdlib/v1.1/LinearAlgebra/src/special.jl\" target=\"_blank\">/buildworker/worker/package_linux64/build/usr/share/julia/stdlib/v1.1/LinearAlgebra/src/special.jl:124</a></li> <li> +(A::<b>LinearAlgebra.Tridiagonal</b>, B::<b>LinearAlgebra.AbstractTriangular</b>) in LinearAlgebra at <a href=\"file:///buildworker/worker/package_linux64/build/usr/share/julia/stdlib/v1.1/LinearAlgebra/src/special.jl\" target=\"_blank\">/buildworker/worker/package_linux64/build/usr/share/julia/stdlib/v1.1/LinearAlgebra/src/special.jl:125</a></li> <li> +(A::<b>LinearAlgebra.AbstractTriangular</b>, B::<b>LinearAlgebra.Bidiagonal</b>) in LinearAlgebra at <a href=\"file:///buildworker/worker/package_linux64/build/usr/share/julia/stdlib/v1.1/LinearAlgebra/src/special.jl\" target=\"_blank\">/buildworker/worker/package_linux64/build/usr/share/julia/stdlib/v1.1/LinearAlgebra/src/special.jl:124</a></li> <li> +(A::<b>LinearAlgebra.Bidiagonal</b>, B::<b>LinearAlgebra.AbstractTriangular</b>) in LinearAlgebra at <a href=\"file:///buildworker/worker/package_linux64/build/usr/share/julia/stdlib/v1.1/LinearAlgebra/src/special.jl\" target=\"_blank\">/buildworker/worker/package_linux64/build/usr/share/julia/stdlib/v1.1/LinearAlgebra/src/special.jl:125</a></li> <li> +(A::<b>LinearAlgebra.AbstractTriangular</b>, B::<b>Array{T,2} where T</b>) in LinearAlgebra at <a href=\"file:///buildworker/worker/package_linux64/build/usr/share/julia/stdlib/v1.1/LinearAlgebra/src/special.jl\" target=\"_blank\">/buildworker/worker/package_linux64/build/usr/share/julia/stdlib/v1.1/LinearAlgebra/src/special.jl:124</a></li> <li> +(A::<b>SparseArrays.SparseMatrixCSC</b>, B::<b>SparseArrays.SparseMatrixCSC</b>) in SparseArrays at <a href=\"file:///buildworker/worker/package_linux64/build/usr/share/julia/stdlib/v1.1/SparseArrays/src/sparsematrix.jl\" target=\"_blank\">/buildworker/worker/package_linux64/build/usr/share/julia/stdlib/v1.1/SparseArrays/src/sparsematrix.jl:1576</a></li> <li> +(A::<b>SparseArrays.SparseMatrixCSC</b>, B::<b>Array</b>) in SparseArrays at <a href=\"file:///buildworker/worker/package_linux64/build/usr/share/julia/stdlib/v1.1/SparseArrays/src/sparsematrix.jl\" target=\"_blank\">/buildworker/worker/package_linux64/build/usr/share/julia/stdlib/v1.1/SparseArrays/src/sparsematrix.jl:1579</a></li> <li> +(x::<b>SparseArrays.AbstractSparseArray{Tv,Ti,1} where Ti where Tv</b>, y::<b>SparseArrays.AbstractSparseArray{Tv,Ti,1} where Ti where Tv</b>) in SparseArrays at <a href=\"file:///buildworker/worker/package_linux64/build/usr/share/julia/stdlib/v1.1/SparseArrays/src/sparsevector.jl\" target=\"_blank\">/buildworker/worker/package_linux64/build/usr/share/julia/stdlib/v1.1/SparseArrays/src/sparsevector.jl:1292</a></li> <li> +(x::<b>AbstractArray{#s72,N} where N where #s72<:Number</b>) in Base at <a href=\"https://github.com/JuliaLang/julia/tree/80516ca20297a67b996caa08c38786332379b6a5/base/abstractarraymath.jl#L98\" target=\"_blank\">abstractarraymath.jl:98</a></li> <li> +(A::<b>AbstractArray</b>, B::<b>AbstractArray</b>) in Base at <a href=\"https://github.com/JuliaLang/julia/tree/80516ca20297a67b996caa08c38786332379b6a5/base/arraymath.jl#L38\" target=\"_blank\">arraymath.jl:38</a></li> <li> +<i>{T<:AbstractChar}</i>(x::<b>T</b>, y::<b>Integer</b>) in Base at <a href=\"https://github.com/JuliaLang/julia/tree/80516ca20297a67b996caa08c38786332379b6a5/base/char.jl#L223\" target=\"_blank\">char.jl:223</a></li> <li> +<i>{N}</i>(index1::<b>CartesianIndex{N}</b>, index2::<b>CartesianIndex{N}</b>) in Base.IteratorsMD at <a href=\"https://github.com/JuliaLang/julia/tree/80516ca20297a67b996caa08c38786332379b6a5/base/multidimensional.jl#L107\" target=\"_blank\">multidimensional.jl:107</a></li> <li> +(::<b>Number</b>, ::<b>Missing</b>) in Base at <a href=\"https://github.com/JuliaLang/julia/tree/80516ca20297a67b996caa08c38786332379b6a5/base/missing.jl#L98\" target=\"_blank\">missing.jl:98</a></li> <li> +<i>{P<:Period}</i>(x::<b>P</b>, y::<b>P</b>) in Dates at <a href=\"file:///buildworker/worker/package_linux64/build/usr/share/julia/stdlib/v1.1/Dates/src/periods.jl\" target=\"_blank\">/buildworker/worker/package_linux64/build/usr/share/julia/stdlib/v1.1/Dates/src/periods.jl:75</a></li> <li> +(x::<b>Dates.Period</b>, y::<b>Dates.Period</b>) in Dates at <a href=\"file:///buildworker/worker/package_linux64/build/usr/share/julia/stdlib/v1.1/Dates/src/periods.jl\" target=\"_blank\">/buildworker/worker/package_linux64/build/usr/share/julia/stdlib/v1.1/Dates/src/periods.jl:340</a></li> <li> +(y::<b>Dates.Period</b>, x::<b>Dates.CompoundPeriod</b>) in Dates at <a href=\"file:///buildworker/worker/package_linux64/build/usr/share/julia/stdlib/v1.1/Dates/src/periods.jl\" target=\"_blank\">/buildworker/worker/package_linux64/build/usr/share/julia/stdlib/v1.1/Dates/src/periods.jl:342</a></li> <li> +(x::<b>Union{CompoundPeriod, Period}</b>) in Dates at <a href=\"file:///buildworker/worker/package_linux64/build/usr/share/julia/stdlib/v1.1/Dates/src/periods.jl\" target=\"_blank\">/buildworker/worker/package_linux64/build/usr/share/julia/stdlib/v1.1/Dates/src/periods.jl:351</a></li> <li> +(x::<b>Dates.TimeType</b>) in Dates at <a href=\"file:///buildworker/worker/package_linux64/build/usr/share/julia/stdlib/v1.1/Dates/src/arithmetic.jl\" target=\"_blank\">/buildworker/worker/package_linux64/build/usr/share/julia/stdlib/v1.1/Dates/src/arithmetic.jl:8</a></li> <li> +(a::<b>Dates.TimeType</b>, b::<b>Dates.Period</b>, c::<b>Dates.Period</b>) in Dates at <a href=\"file:///buildworker/worker/package_linux64/build/usr/share/julia/stdlib/v1.1/Dates/src/periods.jl\" target=\"_blank\">/buildworker/worker/package_linux64/build/usr/share/julia/stdlib/v1.1/Dates/src/periods.jl:362</a></li> <li> +(a::<b>Dates.TimeType</b>, b::<b>Dates.Period</b>, c::<b>Dates.Period</b>, d::<b>Dates.Period...</b>) in Dates at <a href=\"file:///buildworker/worker/package_linux64/build/usr/share/julia/stdlib/v1.1/Dates/src/periods.jl\" target=\"_blank\">/buildworker/worker/package_linux64/build/usr/share/julia/stdlib/v1.1/Dates/src/periods.jl:363</a></li> <li> +(x::<b>Dates.TimeType</b>, y::<b>Dates.CompoundPeriod</b>) in Dates at <a href=\"file:///buildworker/worker/package_linux64/build/usr/share/julia/stdlib/v1.1/Dates/src/periods.jl\" target=\"_blank\">/buildworker/worker/package_linux64/build/usr/share/julia/stdlib/v1.1/Dates/src/periods.jl:366</a></li> <li> +(x::<b>Dates.Instant</b>) in Dates at <a href=\"file:///buildworker/worker/package_linux64/build/usr/share/julia/stdlib/v1.1/Dates/src/arithmetic.jl\" target=\"_blank\">/buildworker/worker/package_linux64/build/usr/share/julia/stdlib/v1.1/Dates/src/arithmetic.jl:4</a></li> <li> +(y::<b>Dates.Period</b>, x::<b>Dates.TimeType</b>) in Dates at <a href=\"file:///buildworker/worker/package_linux64/build/usr/share/julia/stdlib/v1.1/Dates/src/arithmetic.jl\" target=\"_blank\">/buildworker/worker/package_linux64/build/usr/share/julia/stdlib/v1.1/Dates/src/arithmetic.jl:80</a></li> <li> +(x::<b>Dates.Period</b>, r::<b>AbstractRange{#s623} where #s623<:Dates.TimeType</b>) in Dates at <a href=\"file:///buildworker/worker/package_linux64/build/usr/share/julia/stdlib/v1.1/Dates/src/ranges.jl\" target=\"_blank\">/buildworker/worker/package_linux64/build/usr/share/julia/stdlib/v1.1/Dates/src/ranges.jl:58</a></li> <li> +(x::<b>AbstractArray{#s623,N} where N where #s623<:Dates.TimeType</b>, y::<b>Union{CompoundPeriod, Period}</b>) in Dates at <a href=\"file:///buildworker/worker/package_linux64/build/usr/share/julia/stdlib/v1.1/Dates/src/deprecated.jl\" target=\"_blank\">/buildworker/worker/package_linux64/build/usr/share/julia/stdlib/v1.1/Dates/src/deprecated.jl:8</a></li> <li> +(y::<b>Union{CompoundPeriod, Period}</b>, x::<b>AbstractArray{#s623,N} where N where #s623<:Dates.TimeType</b>) in Dates at <a href=\"file:///buildworker/worker/package_linux64/build/usr/share/julia/stdlib/v1.1/Dates/src/deprecated.jl\" target=\"_blank\">/buildworker/worker/package_linux64/build/usr/share/julia/stdlib/v1.1/Dates/src/deprecated.jl:16</a></li> <li> +(y::<b>Dates.TimeType</b>, x::<b>Union{DenseArray{#s623,N}, ReinterpretArray{#s623,N,S,A} where S where A<:Union{SubArray{T,N,A,I,true} where I<:Union{Tuple{Vararg{Real,N} where N}, Tuple{AbstractUnitRange,Vararg{Any,N} where N}} where A<:DenseArray where N where T, DenseArray}, ReshapedArray{#s623,N,A,MI} where MI<:Tuple{Vararg{SignedMultiplicativeInverse{Int64},N} where N} where A<:Union{ReinterpretArray{T,N,S,A} where S where A<:Union{SubArray{T,N,A,I,true} where I<:Union{Tuple{Vararg{Real,N} where N}, Tuple{AbstractUnitRange,Vararg{Any,N} where N}} where A<:DenseArray where N where T, DenseArray} where N where T, SubArray{T,N,A,I,true} where I<:Union{Tuple{Vararg{Real,N} where N}, Tuple{AbstractUnitRange,Vararg{Any,N} where N}} where A<:DenseArray where N where T, DenseArray}, SubArray{#s623,N,A,I,L} where L where I<:Tuple{Vararg{Union{Int64, AbstractRange{Int64}, AbstractCartesianIndex},N} where N} where A<:Union{ReinterpretArray{T,N,S,A} where S where A<:Union{SubArray{T,N,A,I,true} where I<:Union{Tuple{Vararg{Real,N} where N}, Tuple{AbstractUnitRange,Vararg{Any,N} where N}} where A<:DenseArray where N where T, DenseArray} where N where T, ReshapedArray{T,N,A,MI} where MI<:Tuple{Vararg{SignedMultiplicativeInverse{Int64},N} where N} where A<:Union{ReinterpretArray{T,N,S,A} where S where A<:Union{SubArray{T,N,A,I,true} where I<:Union{Tuple{Vararg{Real,N} where N}, Tuple{AbstractUnitRange,Vararg{Any,N} where N}} where A<:DenseArray where N where T, DenseArray} where N where T, SubArray{T,N,A,I,true} where I<:Union{Tuple{Vararg{Real,N} where N}, Tuple{AbstractUnitRange,Vararg{Any,N} where N}} where A<:DenseArray where N where T, DenseArray} where N where T, DenseArray}} where N where #s623<:Union{CompoundPeriod, Period}</b>) in Dates at <a href=\"file:///buildworker/worker/package_linux64/build/usr/share/julia/stdlib/v1.1/Dates/src/deprecated.jl\" target=\"_blank\">/buildworker/worker/package_linux64/build/usr/share/julia/stdlib/v1.1/Dates/src/deprecated.jl:20</a></li> <li> +(J::<b>LinearAlgebra.UniformScaling</b>, x::<b>Number</b>) in LinearAlgebra at <a href=\"file:///buildworker/worker/package_linux64/build/usr/share/julia/stdlib/v1.1/LinearAlgebra/src/uniformscaling.jl\" target=\"_blank\">/buildworker/worker/package_linux64/build/usr/share/julia/stdlib/v1.1/LinearAlgebra/src/uniformscaling.jl:84</a></li> <li> +(x::<b>Number</b>, J::<b>LinearAlgebra.UniformScaling</b>) in LinearAlgebra at <a href=\"file:///buildworker/worker/package_linux64/build/usr/share/julia/stdlib/v1.1/LinearAlgebra/src/uniformscaling.jl\" target=\"_blank\">/buildworker/worker/package_linux64/build/usr/share/julia/stdlib/v1.1/LinearAlgebra/src/uniformscaling.jl:85</a></li> <li> +(J1::<b>LinearAlgebra.UniformScaling</b>, J2::<b>LinearAlgebra.UniformScaling</b>) in LinearAlgebra at <a href=\"file:///buildworker/worker/package_linux64/build/usr/share/julia/stdlib/v1.1/LinearAlgebra/src/uniformscaling.jl\" target=\"_blank\">/buildworker/worker/package_linux64/build/usr/share/julia/stdlib/v1.1/LinearAlgebra/src/uniformscaling.jl:89</a></li> <li> +(J::<b>LinearAlgebra.UniformScaling</b>, B::<b>BitArray{2}</b>) in LinearAlgebra at <a href=\"file:///buildworker/worker/package_linux64/build/usr/share/julia/stdlib/v1.1/LinearAlgebra/src/uniformscaling.jl\" target=\"_blank\">/buildworker/worker/package_linux64/build/usr/share/julia/stdlib/v1.1/LinearAlgebra/src/uniformscaling.jl:91</a></li> <li> +(J::<b>LinearAlgebra.UniformScaling</b>, A::<b>AbstractArray{T,2} where T</b>) in LinearAlgebra at <a href=\"file:///buildworker/worker/package_linux64/build/usr/share/julia/stdlib/v1.1/LinearAlgebra/src/uniformscaling.jl\" target=\"_blank\">/buildworker/worker/package_linux64/build/usr/share/julia/stdlib/v1.1/LinearAlgebra/src/uniformscaling.jl:92</a></li> <li> +(a, b, c, xs...) in Base at <a href=\"https://github.com/JuliaLang/julia/tree/80516ca20297a67b996caa08c38786332379b6a5/base/operators.jl#L502\" target=\"_blank\">operators.jl:502</a></li> </ul>"
      ],
      "text/plain": [
       "# 163 methods for generic function \"+\":\n",
       "[1] +(x::Bool, z::Complex{Bool}) in Base at complex.jl:277\n",
       "[2] +(x::Bool, y::Bool) in Base at bool.jl:104\n",
       "[3] +(x::Bool) in Base at bool.jl:101\n",
       "[4] +(x::Bool, y::T) where T<:AbstractFloat in Base at bool.jl:112\n",
       "[5] +(x::Bool, z::Complex) in Base at complex.jl:284\n",
       "[6] +(a::Float16, b::Float16) in Base at float.jl:392\n",
       "[7] +(x::Float32, y::Float32) in Base at float.jl:394\n",
       "[8] +(x::Float64, y::Float64) in Base at float.jl:395\n",
       "[9] +(z::Complex{Bool}, x::Bool) in Base at complex.jl:278\n",
       "[10] +(z::Complex{Bool}, x::Real) in Base at complex.jl:292\n",
       "[11] +(::Missing, ::Missing) in Base at missing.jl:96\n",
       "[12] +(::Missing) in Base at missing.jl:83\n",
       "[13] +(::Missing, ::Number) in Base at missing.jl:97\n",
       "[14] +(level::Base.CoreLogging.LogLevel, inc::Integer) in Base.CoreLogging at logging.jl:106\n",
       "[15] +(c::BigInt, x::BigFloat) in Base.MPFR at mpfr.jl:406\n",
       "[16] +(a::BigInt, b::BigInt, c::BigInt, d::BigInt, e::BigInt) in Base.GMP at gmp.jl:434\n",
       "[17] +(a::BigInt, b::BigInt, c::BigInt, d::BigInt) in Base.GMP at gmp.jl:433\n",
       "[18] +(a::BigInt, b::BigInt, c::BigInt) in Base.GMP at gmp.jl:432\n",
       "[19] +(x::BigInt, y::BigInt) in Base.GMP at gmp.jl:403\n",
       "[20] +(x::BigInt, c::Union{UInt16, UInt32, UInt64, UInt8}) in Base.GMP at gmp.jl:440\n",
       "[21] +(x::BigInt, c::Union{Int16, Int32, Int64, Int8}) in Base.GMP at gmp.jl:446\n",
       "[22] +(a::BigFloat, b::BigFloat, c::BigFloat, d::BigFloat, e::BigFloat) in Base.MPFR at mpfr.jl:556\n",
       "[23] +(a::BigFloat, b::BigFloat, c::BigFloat, d::BigFloat) in Base.MPFR at mpfr.jl:549\n",
       "[24] +(a::BigFloat, b::BigFloat, c::BigFloat) in Base.MPFR at mpfr.jl:543\n",
       "[25] +(x::BigFloat, c::BigInt) in Base.MPFR at mpfr.jl:402\n",
       "[26] +(x::BigFloat, y::BigFloat) in Base.MPFR at mpfr.jl:371\n",
       "[27] +(x::BigFloat, c::Union{UInt16, UInt32, UInt64, UInt8}) in Base.MPFR at mpfr.jl:378\n",
       "[28] +(x::BigFloat, c::Union{Int16, Int32, Int64, Int8}) in Base.MPFR at mpfr.jl:386\n",
       "[29] +(x::BigFloat, c::Union{Float16, Float32, Float64}) in Base.MPFR at mpfr.jl:394\n",
       "[30] +(x::Dates.CompoundPeriod, y::Dates.CompoundPeriod) in Dates at /buildworker/worker/package_linux64/build/usr/share/julia/stdlib/v1.1/Dates/src/periods.jl:343\n",
       "[31] +(x::Dates.CompoundPeriod, y::Dates.Period) in Dates at /buildworker/worker/package_linux64/build/usr/share/julia/stdlib/v1.1/Dates/src/periods.jl:341\n",
       "[32] +(x::Dates.CompoundPeriod, y::Dates.TimeType) in Dates at /buildworker/worker/package_linux64/build/usr/share/julia/stdlib/v1.1/Dates/src/periods.jl:371\n",
       "[33] +(x::Dates.Date, y::Dates.Day) in Dates at /buildworker/worker/package_linux64/build/usr/share/julia/stdlib/v1.1/Dates/src/arithmetic.jl:74\n",
       "[34] +(x::Dates.Date, y::Dates.Week) in Dates at /buildworker/worker/package_linux64/build/usr/share/julia/stdlib/v1.1/Dates/src/arithmetic.jl:72\n",
       "[35] +(dt::Dates.Date, z::Dates.Month) in Dates at /buildworker/worker/package_linux64/build/usr/share/julia/stdlib/v1.1/Dates/src/arithmetic.jl:55\n",
       "[36] +(dt::Dates.Date, y::Dates.Year) in Dates at /buildworker/worker/package_linux64/build/usr/share/julia/stdlib/v1.1/Dates/src/arithmetic.jl:28\n",
       "[37] +(dt::Dates.Date, t::Dates.Time) in Dates at /buildworker/worker/package_linux64/build/usr/share/julia/stdlib/v1.1/Dates/src/arithmetic.jl:19\n",
       "[38] +(t::Dates.Time, dt::Dates.Date) in Dates at /buildworker/worker/package_linux64/build/usr/share/julia/stdlib/v1.1/Dates/src/arithmetic.jl:20\n",
       "[39] +(x::Dates.Time, y::Dates.TimePeriod) in Dates at /buildworker/worker/package_linux64/build/usr/share/julia/stdlib/v1.1/Dates/src/arithmetic.jl:78\n",
       "[40] +(dt::Dates.DateTime, z::Dates.Month) in Dates at /buildworker/worker/package_linux64/build/usr/share/julia/stdlib/v1.1/Dates/src/arithmetic.jl:48\n",
       "[41] +(dt::Dates.DateTime, y::Dates.Year) in Dates at /buildworker/worker/package_linux64/build/usr/share/julia/stdlib/v1.1/Dates/src/arithmetic.jl:24\n",
       "[42] +(x::Dates.DateTime, y::Dates.Period) in Dates at /buildworker/worker/package_linux64/build/usr/share/julia/stdlib/v1.1/Dates/src/arithmetic.jl:76\n",
       "[43] +(B::BitArray{2}, J::LinearAlgebra.UniformScaling) in LinearAlgebra at /buildworker/worker/package_linux64/build/usr/share/julia/stdlib/v1.1/LinearAlgebra/src/uniformscaling.jl:90\n",
       "[44] +(a::Pkg.Resolve.VersionWeights.VersionWeight, b::Pkg.Resolve.VersionWeights.VersionWeight) in Pkg.Resolve.VersionWeights at /buildworker/worker/package_linux64/build/usr/share/julia/stdlib/v1.1/Pkg/src/resolve/VersionWeights.jl:26\n",
       "[45] +(a::Pkg.Resolve.MaxSum.FieldValues.FieldValue, b::Pkg.Resolve.MaxSum.FieldValues.FieldValue) in Pkg.Resolve.MaxSum.FieldValues at /buildworker/worker/package_linux64/build/usr/share/julia/stdlib/v1.1/Pkg/src/resolve/FieldValues.jl:49\n",
       "[46] +(y::AbstractFloat, x::Bool) in Base at bool.jl:114\n",
       "[47] +(x::T, y::T) where T<:Union{Int128, Int16, Int32, Int64, Int8, UInt128, UInt16, UInt32, UInt64, UInt8} in Base at int.jl:53\n",
       "[48] +(c::Union{UInt16, UInt32, UInt64, UInt8}, x::BigInt) in Base.GMP at gmp.jl:441\n",
       "[49] +(c::Union{Int16, Int32, Int64, Int8}, x::BigInt) in Base.GMP at gmp.jl:447\n",
       "[50] +(a::Integer, b::Integer) in Base at int.jl:797\n",
       "[51] +(x::Integer, y::Ptr) in Base at pointer.jl:157\n",
       "[52] +(z::Complex, w::Complex) in Base at complex.jl:266\n",
       "[53] +(z::Complex, x::Bool) in Base at complex.jl:285\n",
       "[54] +(x::Real, z::Complex{Bool}) in Base at complex.jl:291\n",
       "[55] +(x::Real, z::Complex) in Base at complex.jl:303\n",
       "[56] +(z::Complex, x::Real) in Base at complex.jl:304\n",
       "[57] +(x::Rational, y::Rational) in Base at rational.jl:252\n",
       "[58] +(x::Integer, y::AbstractChar) in Base at char.jl:224\n",
       "[59] +(c::Union{UInt16, UInt32, UInt64, UInt8}, x::BigFloat) in Base.MPFR at mpfr.jl:382\n",
       "[60] +(c::Union{Int16, Int32, Int64, Int8}, x::BigFloat) in Base.MPFR at mpfr.jl:390\n",
       "[61] +(c::Union{Float16, Float32, Float64}, x::BigFloat) in Base.MPFR at mpfr.jl:398\n",
       "[62] +(x::AbstractIrrational, y::AbstractIrrational) in Base at irrationals.jl:133\n",
       "[63] +(x::Number) in Base at operators.jl:477\n",
       "[64] +(x::T, y::T) where T<:Number in Base at promotion.jl:389\n",
       "[65] +(x::Number, y::Number) in Base at promotion.jl:313\n",
       "[66] +(r1::OrdinalRange, r2::OrdinalRange) in Base at range.jl:1003\n",
       "[67] +(r1::LinRange{T}, r2::LinRange{T}) where T in Base at range.jl:1010\n",
       "[68] +(r1::StepRangeLen{T,R,S} where S, r2::StepRangeLen{T,R,S} where S) where {R<:TwicePrecision, T} in Base at twiceprecision.jl:557\n",
       "[69] +(r1::StepRangeLen{T,S,S1} where S1, r2::StepRangeLen{T,S,S1} where S1) where {T, S} in Base at range.jl:1026\n",
       "[70] +(r1::Union{LinRange, OrdinalRange, StepRangeLen}, r2::Union{LinRange, OrdinalRange, StepRangeLen}) in Base at range.jl:1018\n",
       "[71] +(x::Ptr, y::Integer) in Base at pointer.jl:155\n",
       "[72] +(x::Base.TwicePrecision, y::Number) in Base at twiceprecision.jl:265\n",
       "[73] +(x::Number, y::Base.TwicePrecision) in Base at twiceprecision.jl:268\n",
       "[74] +(x::Base.TwicePrecision{T}, y::Base.TwicePrecision{T}) where T in Base at twiceprecision.jl:271\n",
       "[75] +(x::Base.TwicePrecision, y::Base.TwicePrecision) in Base at twiceprecision.jl:275\n",
       "[76] +(A::Array, Bs::Array...) in Base at arraymath.jl:44\n",
       "[77] +(A::BitArray, B::BitArray) in Base at bitarray.jl:1084\n",
       "[78] +(r::AbstractRange{#s623} where #s623<:Dates.TimeType, x::Dates.Period) in Dates at /buildworker/worker/package_linux64/build/usr/share/julia/stdlib/v1.1/Dates/src/ranges.jl:59\n",
       "[79] +(A::Array{T,2} where T, B::LinearAlgebra.Diagonal) in LinearAlgebra at /buildworker/worker/package_linux64/build/usr/share/julia/stdlib/v1.1/LinearAlgebra/src/special.jl:88\n",
       "[80] +(A::Array{T,2} where T, B::LinearAlgebra.Bidiagonal) in LinearAlgebra at /buildworker/worker/package_linux64/build/usr/share/julia/stdlib/v1.1/LinearAlgebra/src/special.jl:88\n",
       "[81] +(A::Array{T,2} where T, B::LinearAlgebra.Tridiagonal) in LinearAlgebra at /buildworker/worker/package_linux64/build/usr/share/julia/stdlib/v1.1/LinearAlgebra/src/special.jl:88\n",
       "[82] +(A::Array{T,2} where T, B::LinearAlgebra.SymTridiagonal) in LinearAlgebra at /buildworker/worker/package_linux64/build/usr/share/julia/stdlib/v1.1/LinearAlgebra/src/special.jl:97\n",
       "[83] +(A::Array{T,2} where T, B::LinearAlgebra.AbstractTriangular) in LinearAlgebra at /buildworker/worker/package_linux64/build/usr/share/julia/stdlib/v1.1/LinearAlgebra/src/special.jl:125\n",
       "[84] +(A::Array, B::SparseArrays.SparseMatrixCSC) in SparseArrays at /buildworker/worker/package_linux64/build/usr/share/julia/stdlib/v1.1/SparseArrays/src/sparsematrix.jl:1580\n",
       "[85] +(x::Union{DenseArray{#s623,N}, ReinterpretArray{#s623,N,S,A} where S where A<:Union{SubArray{T,N,A,I,true} where I<:Union{Tuple{Vararg{Real,N} where N}, Tuple{AbstractUnitRange,Vararg{Any,N} where N}} where A<:DenseArray where N where T, DenseArray}, ReshapedArray{#s623,N,A,MI} where MI<:Tuple{Vararg{SignedMultiplicativeInverse{Int64},N} where N} where A<:Union{ReinterpretArray{T,N,S,A} where S where A<:Union{SubArray{T,N,A,I,true} where I<:Union{Tuple{Vararg{Real,N} where N}, Tuple{AbstractUnitRange,Vararg{Any,N} where N}} where A<:DenseArray where N where T, DenseArray} where N where T, SubArray{T,N,A,I,true} where I<:Union{Tuple{Vararg{Real,N} where N}, Tuple{AbstractUnitRange,Vararg{Any,N} where N}} where A<:DenseArray where N where T, DenseArray}, SubArray{#s623,N,A,I,L} where L where I<:Tuple{Vararg{Union{Int64, AbstractRange{Int64}, AbstractCartesianIndex},N} where N} where A<:Union{ReinterpretArray{T,N,S,A} where S where A<:Union{SubArray{T,N,A,I,true} where I<:Union{Tuple{Vararg{Real,N} where N}, Tuple{AbstractUnitRange,Vararg{Any,N} where N}} where A<:DenseArray where N where T, DenseArray} where N where T, ReshapedArray{T,N,A,MI} where MI<:Tuple{Vararg{SignedMultiplicativeInverse{Int64},N} where N} where A<:Union{ReinterpretArray{T,N,S,A} where S where A<:Union{SubArray{T,N,A,I,true} where I<:Union{Tuple{Vararg{Real,N} where N}, Tuple{AbstractUnitRange,Vararg{Any,N} where N}} where A<:DenseArray where N where T, DenseArray} where N where T, SubArray{T,N,A,I,true} where I<:Union{Tuple{Vararg{Real,N} where N}, Tuple{AbstractUnitRange,Vararg{Any,N} where N}} where A<:DenseArray where N where T, DenseArray} where N where T, DenseArray}} where N where #s623<:Union{CompoundPeriod, Period}) in Dates at /buildworker/worker/package_linux64/build/usr/share/julia/stdlib/v1.1/Dates/src/deprecated.jl:57\n",
       "[86] +(x::Union{DenseArray{#s623,N}, ReinterpretArray{#s623,N,S,A} where S where A<:Union{SubArray{T,N,A,I,true} where I<:Union{Tuple{Vararg{Real,N} where N}, Tuple{AbstractUnitRange,Vararg{Any,N} where N}} where A<:DenseArray where N where T, DenseArray}, ReshapedArray{#s623,N,A,MI} where MI<:Tuple{Vararg{SignedMultiplicativeInverse{Int64},N} where N} where A<:Union{ReinterpretArray{T,N,S,A} where S where A<:Union{SubArray{T,N,A,I,true} where I<:Union{Tuple{Vararg{Real,N} where N}, Tuple{AbstractUnitRange,Vararg{Any,N} where N}} where A<:DenseArray where N where T, DenseArray} where N where T, SubArray{T,N,A,I,true} where I<:Union{Tuple{Vararg{Real,N} where N}, Tuple{AbstractUnitRange,Vararg{Any,N} where N}} where A<:DenseArray where N where T, DenseArray}, SubArray{#s623,N,A,I,L} where L where I<:Tuple{Vararg{Union{Int64, AbstractRange{Int64}, AbstractCartesianIndex},N} where N} where A<:Union{ReinterpretArray{T,N,S,A} where S where A<:Union{SubArray{T,N,A,I,true} where I<:Union{Tuple{Vararg{Real,N} where N}, Tuple{AbstractUnitRange,Vararg{Any,N} where N}} where A<:DenseArray where N where T, DenseArray} where N where T, ReshapedArray{T,N,A,MI} where MI<:Tuple{Vararg{SignedMultiplicativeInverse{Int64},N} where N} where A<:Union{ReinterpretArray{T,N,S,A} where S where A<:Union{SubArray{T,N,A,I,true} where I<:Union{Tuple{Vararg{Real,N} where N}, Tuple{AbstractUnitRange,Vararg{Any,N} where N}} where A<:DenseArray where N where T, DenseArray} where N where T, SubArray{T,N,A,I,true} where I<:Union{Tuple{Vararg{Real,N} where N}, Tuple{AbstractUnitRange,Vararg{Any,N} where N}} where A<:DenseArray where N where T, DenseArray} where N where T, DenseArray}} where N where #s623<:Union{CompoundPeriod, Period}, y::Dates.TimeType) in Dates at /buildworker/worker/package_linux64/build/usr/share/julia/stdlib/v1.1/Dates/src/deprecated.jl:12\n",
       "[87] +(X::Union{DenseArray{#s623,N}, ReinterpretArray{#s623,N,S,A} where S where A<:Union{SubArray{T,N,A,I,true} where I<:Union{Tuple{Vararg{Real,N} where N}, Tuple{AbstractUnitRange,Vararg{Any,N} where N}} where A<:DenseArray where N where T, DenseArray}, ReshapedArray{#s623,N,A,MI} where MI<:Tuple{Vararg{SignedMultiplicativeInverse{Int64},N} where N} where A<:Union{ReinterpretArray{T,N,S,A} where S where A<:Union{SubArray{T,N,A,I,true} where I<:Union{Tuple{Vararg{Real,N} where N}, Tuple{AbstractUnitRange,Vararg{Any,N} where N}} where A<:DenseArray where N where T, DenseArray} where N where T, SubArray{T,N,A,I,true} where I<:Union{Tuple{Vararg{Real,N} where N}, Tuple{AbstractUnitRange,Vararg{Any,N} where N}} where A<:DenseArray where N where T, DenseArray}, SubArray{#s623,N,A,I,L} where L where I<:Tuple{Vararg{Union{Int64, AbstractRange{Int64}, AbstractCartesianIndex},N} where N} where A<:Union{ReinterpretArray{T,N,S,A} where S where A<:Union{SubArray{T,N,A,I,true} where I<:Union{Tuple{Vararg{Real,N} where N}, Tuple{AbstractUnitRange,Vararg{Any,N} where N}} where A<:DenseArray where N where T, DenseArray} where N where T, ReshapedArray{T,N,A,MI} where MI<:Tuple{Vararg{SignedMultiplicativeInverse{Int64},N} where N} where A<:Union{ReinterpretArray{T,N,S,A} where S where A<:Union{SubArray{T,N,A,I,true} where I<:Union{Tuple{Vararg{Real,N} where N}, Tuple{AbstractUnitRange,Vararg{Any,N} where N}} where A<:DenseArray where N where T, DenseArray} where N where T, SubArray{T,N,A,I,true} where I<:Union{Tuple{Vararg{Real,N} where N}, Tuple{AbstractUnitRange,Vararg{Any,N} where N}} where A<:DenseArray where N where T, DenseArray} where N where T, DenseArray}} where N where #s623<:Union{CompoundPeriod, Period}, Y::Union{DenseArray{#s622,N}, ReinterpretArray{#s622,N,S,A} where S where A<:Union{SubArray{T,N,A,I,true} where I<:Union{Tuple{Vararg{Real,N} where N}, Tuple{AbstractUnitRange,Vararg{Any,N} where N}} where A<:DenseArray where N where T, DenseArray}, ReshapedArray{#s622,N,A,MI} where MI<:Tuple{Vararg{SignedMultiplicativeInverse{Int64},N} where N} where A<:Union{ReinterpretArray{T,N,S,A} where S where A<:Union{SubArray{T,N,A,I,true} where I<:Union{Tuple{Vararg{Real,N} where N}, Tuple{AbstractUnitRange,Vararg{Any,N} where N}} where A<:DenseArray where N where T, DenseArray} where N where T, SubArray{T,N,A,I,true} where I<:Union{Tuple{Vararg{Real,N} where N}, Tuple{AbstractUnitRange,Vararg{Any,N} where N}} where A<:DenseArray where N where T, DenseArray}, SubArray{#s622,N,A,I,L} where L where I<:Tuple{Vararg{Union{Int64, AbstractRange{Int64}, AbstractCartesianIndex},N} where N} where A<:Union{ReinterpretArray{T,N,S,A} where S where A<:Union{SubArray{T,N,A,I,true} where I<:Union{Tuple{Vararg{Real,N} where N}, Tuple{AbstractUnitRange,Vararg{Any,N} where N}} where A<:DenseArray where N where T, DenseArray} where N where T, ReshapedArray{T,N,A,MI} where MI<:Tuple{Vararg{SignedMultiplicativeInverse{Int64},N} where N} where A<:Union{ReinterpretArray{T,N,S,A} where S where A<:Union{SubArray{T,N,A,I,true} where I<:Union{Tuple{Vararg{Real,N} where N}, Tuple{AbstractUnitRange,Vararg{Any,N} where N}} where A<:DenseArray where N where T, DenseArray} where N where T, SubArray{T,N,A,I,true} where I<:Union{Tuple{Vararg{Real,N} where N}, Tuple{AbstractUnitRange,Vararg{Any,N} where N}} where A<:DenseArray where N where T, DenseArray} where N where T, DenseArray}} where N where #s622<:Union{CompoundPeriod, Period}) in Dates at /buildworker/worker/package_linux64/build/usr/share/julia/stdlib/v1.1/Dates/src/deprecated.jl:64\n",
       "[88] +(A::LinearAlgebra.SymTridiagonal, B::LinearAlgebra.SymTridiagonal) in LinearAlgebra at /buildworker/worker/package_linux64/build/usr/share/julia/stdlib/v1.1/LinearAlgebra/src/tridiag.jl:158\n",
       "[89] +(A::LinearAlgebra.Tridiagonal, B::LinearAlgebra.Tridiagonal) in LinearAlgebra at /buildworker/worker/package_linux64/build/usr/share/julia/stdlib/v1.1/LinearAlgebra/src/tridiag.jl:617\n",
       "[90] +(A::LinearAlgebra.UpperTriangular, B::LinearAlgebra.UpperTriangular) in LinearAlgebra at /buildworker/worker/package_linux64/build/usr/share/julia/stdlib/v1.1/LinearAlgebra/src/triangular.jl:487\n",
       "[91] +(A::LinearAlgebra.LowerTriangular, B::LinearAlgebra.LowerTriangular) in LinearAlgebra at /buildworker/worker/package_linux64/build/usr/share/julia/stdlib/v1.1/LinearAlgebra/src/triangular.jl:488\n",
       "[92] +(A::LinearAlgebra.UpperTriangular, B::LinearAlgebra.UnitUpperTriangular) in LinearAlgebra at /buildworker/worker/package_linux64/build/usr/share/julia/stdlib/v1.1/LinearAlgebra/src/triangular.jl:489\n",
       "[93] +(A::LinearAlgebra.LowerTriangular, B::LinearAlgebra.UnitLowerTriangular) in LinearAlgebra at /buildworker/worker/package_linux64/build/usr/share/julia/stdlib/v1.1/LinearAlgebra/src/triangular.jl:490\n",
       "[94] +(A::LinearAlgebra.UnitUpperTriangular, B::LinearAlgebra.UpperTriangular) in LinearAlgebra at /buildworker/worker/package_linux64/build/usr/share/julia/stdlib/v1.1/LinearAlgebra/src/triangular.jl:491\n",
       "[95] +(A::LinearAlgebra.UnitLowerTriangular, B::LinearAlgebra.LowerTriangular) in LinearAlgebra at /buildworker/worker/package_linux64/build/usr/share/julia/stdlib/v1.1/LinearAlgebra/src/triangular.jl:492\n",
       "[96] +(A::LinearAlgebra.UnitUpperTriangular, B::LinearAlgebra.UnitUpperTriangular) in LinearAlgebra at /buildworker/worker/package_linux64/build/usr/share/julia/stdlib/v1.1/LinearAlgebra/src/triangular.jl:493\n",
       "[97] +(A::LinearAlgebra.UnitLowerTriangular, B::LinearAlgebra.UnitLowerTriangular) in LinearAlgebra at /buildworker/worker/package_linux64/build/usr/share/julia/stdlib/v1.1/LinearAlgebra/src/triangular.jl:494\n",
       "[98] +(A::LinearAlgebra.AbstractTriangular, B::LinearAlgebra.AbstractTriangular) in LinearAlgebra at /buildworker/worker/package_linux64/build/usr/share/julia/stdlib/v1.1/LinearAlgebra/src/triangular.jl:495\n",
       "[99] +(Da::LinearAlgebra.Diagonal, Db::LinearAlgebra.Diagonal) in LinearAlgebra at /buildworker/worker/package_linux64/build/usr/share/julia/stdlib/v1.1/LinearAlgebra/src/diagonal.jl:156\n",
       "[100] +(A::LinearAlgebra.Bidiagonal, B::LinearAlgebra.Bidiagonal) in LinearAlgebra at /buildworker/worker/package_linux64/build/usr/share/julia/stdlib/v1.1/LinearAlgebra/src/bidiag.jl:306\n",
       "[101] +(UL::LinearAlgebra.UnitUpperTriangular, J::LinearAlgebra.UniformScaling) in LinearAlgebra at /buildworker/worker/package_linux64/build/usr/share/julia/stdlib/v1.1/LinearAlgebra/src/uniformscaling.jl:106\n",
       "[102] +(UL::LinearAlgebra.UnitLowerTriangular, J::LinearAlgebra.UniformScaling) in LinearAlgebra at /buildworker/worker/package_linux64/build/usr/share/julia/stdlib/v1.1/LinearAlgebra/src/uniformscaling.jl:106\n",
       "[103] +(A::SparseArrays.SparseMatrixCSC, J::LinearAlgebra.UniformScaling) in SparseArrays at /buildworker/worker/package_linux64/build/usr/share/julia/stdlib/v1.1/SparseArrays/src/sparsematrix.jl:3506\n",
       "[104] +(A::AbstractArray{T,2} where T, J::LinearAlgebra.UniformScaling) in LinearAlgebra at /buildworker/worker/package_linux64/build/usr/share/julia/stdlib/v1.1/LinearAlgebra/src/uniformscaling.jl:116\n",
       "[105] +(A::LinearAlgebra.Diagonal, B::LinearAlgebra.Bidiagonal) in LinearAlgebra at /buildworker/worker/package_linux64/build/usr/share/julia/stdlib/v1.1/LinearAlgebra/src/special.jl:87\n",
       "[106] +(A::LinearAlgebra.Bidiagonal, B::LinearAlgebra.Diagonal) in LinearAlgebra at /buildworker/worker/package_linux64/build/usr/share/julia/stdlib/v1.1/LinearAlgebra/src/special.jl:88\n",
       "[107] +(A::LinearAlgebra.Diagonal, B::LinearAlgebra.Tridiagonal) in LinearAlgebra at /buildworker/worker/package_linux64/build/usr/share/julia/stdlib/v1.1/LinearAlgebra/src/special.jl:87\n",
       "[108] +(A::LinearAlgebra.Tridiagonal, B::LinearAlgebra.Diagonal) in LinearAlgebra at /buildworker/worker/package_linux64/build/usr/share/julia/stdlib/v1.1/LinearAlgebra/src/special.jl:88\n",
       "[109] +(A::LinearAlgebra.Diagonal, B::Array{T,2} where T) in LinearAlgebra at /buildworker/worker/package_linux64/build/usr/share/julia/stdlib/v1.1/LinearAlgebra/src/special.jl:87\n",
       "[110] +(A::LinearAlgebra.Bidiagonal, B::LinearAlgebra.Tridiagonal) in LinearAlgebra at /buildworker/worker/package_linux64/build/usr/share/julia/stdlib/v1.1/LinearAlgebra/src/special.jl:87\n",
       "[111] +(A::LinearAlgebra.Tridiagonal, B::LinearAlgebra.Bidiagonal) in LinearAlgebra at /buildworker/worker/package_linux64/build/usr/share/julia/stdlib/v1.1/LinearAlgebra/src/special.jl:88\n",
       "[112] +(A::LinearAlgebra.Bidiagonal, B::Array{T,2} where T) in LinearAlgebra at /buildworker/worker/package_linux64/build/usr/share/julia/stdlib/v1.1/LinearAlgebra/src/special.jl:87\n",
       "[113] +(A::LinearAlgebra.Tridiagonal, B::Array{T,2} where T) in LinearAlgebra at /buildworker/worker/package_linux64/build/usr/share/julia/stdlib/v1.1/LinearAlgebra/src/special.jl:87\n",
       "[114] +(A::LinearAlgebra.SymTridiagonal, B::LinearAlgebra.Tridiagonal) in LinearAlgebra at /buildworker/worker/package_linux64/build/usr/share/julia/stdlib/v1.1/LinearAlgebra/src/special.jl:96\n",
       "[115] +(A::LinearAlgebra.Tridiagonal, B::LinearAlgebra.SymTridiagonal) in LinearAlgebra at /buildworker/worker/package_linux64/build/usr/share/julia/stdlib/v1.1/LinearAlgebra/src/special.jl:97\n",
       "[116] +(A::LinearAlgebra.SymTridiagonal, B::Array{T,2} where T) in LinearAlgebra at /buildworker/worker/package_linux64/build/usr/share/julia/stdlib/v1.1/LinearAlgebra/src/special.jl:96\n",
       "[117] +(A::LinearAlgebra.Diagonal, B::LinearAlgebra.SymTridiagonal) in LinearAlgebra at /buildworker/worker/package_linux64/build/usr/share/julia/stdlib/v1.1/LinearAlgebra/src/special.jl:105\n",
       "[118] +(A::LinearAlgebra.SymTridiagonal, B::LinearAlgebra.Diagonal) in LinearAlgebra at /buildworker/worker/package_linux64/build/usr/share/julia/stdlib/v1.1/LinearAlgebra/src/special.jl:106\n",
       "[119] +(A::LinearAlgebra.Bidiagonal, B::LinearAlgebra.SymTridiagonal) in LinearAlgebra at /buildworker/worker/package_linux64/build/usr/share/julia/stdlib/v1.1/LinearAlgebra/src/special.jl:105\n",
       "[120] +(A::LinearAlgebra.SymTridiagonal, B::LinearAlgebra.Bidiagonal) in LinearAlgebra at /buildworker/worker/package_linux64/build/usr/share/julia/stdlib/v1.1/LinearAlgebra/src/special.jl:106\n",
       "[121] +(A::LinearAlgebra.Diagonal, B::LinearAlgebra.UpperTriangular) in LinearAlgebra at /buildworker/worker/package_linux64/build/usr/share/julia/stdlib/v1.1/LinearAlgebra/src/special.jl:117\n",
       "[122] +(A::LinearAlgebra.UpperTriangular, B::LinearAlgebra.Diagonal) in LinearAlgebra at /buildworker/worker/package_linux64/build/usr/share/julia/stdlib/v1.1/LinearAlgebra/src/special.jl:118\n",
       "[123] +(A::LinearAlgebra.Diagonal, B::LinearAlgebra.UnitUpperTriangular) in LinearAlgebra at /buildworker/worker/package_linux64/build/usr/share/julia/stdlib/v1.1/LinearAlgebra/src/special.jl:117\n",
       "[124] +(A::LinearAlgebra.UnitUpperTriangular, B::LinearAlgebra.Diagonal) in LinearAlgebra at /buildworker/worker/package_linux64/build/usr/share/julia/stdlib/v1.1/LinearAlgebra/src/special.jl:118\n",
       "[125] +(A::LinearAlgebra.Diagonal, B::LinearAlgebra.LowerTriangular) in LinearAlgebra at /buildworker/worker/package_linux64/build/usr/share/julia/stdlib/v1.1/LinearAlgebra/src/special.jl:117\n",
       "[126] +(A::LinearAlgebra.LowerTriangular, B::LinearAlgebra.Diagonal) in LinearAlgebra at /buildworker/worker/package_linux64/build/usr/share/julia/stdlib/v1.1/LinearAlgebra/src/special.jl:118\n",
       "[127] +(A::LinearAlgebra.Diagonal, B::LinearAlgebra.UnitLowerTriangular) in LinearAlgebra at /buildworker/worker/package_linux64/build/usr/share/julia/stdlib/v1.1/LinearAlgebra/src/special.jl:117\n",
       "[128] +(A::LinearAlgebra.UnitLowerTriangular, B::LinearAlgebra.Diagonal) in LinearAlgebra at /buildworker/worker/package_linux64/build/usr/share/julia/stdlib/v1.1/LinearAlgebra/src/special.jl:118\n",
       "[129] +(A::LinearAlgebra.AbstractTriangular, B::LinearAlgebra.SymTridiagonal) in LinearAlgebra at /buildworker/worker/package_linux64/build/usr/share/julia/stdlib/v1.1/LinearAlgebra/src/special.jl:124\n",
       "[130] +(A::LinearAlgebra.SymTridiagonal, B::LinearAlgebra.AbstractTriangular) in LinearAlgebra at /buildworker/worker/package_linux64/build/usr/share/julia/stdlib/v1.1/LinearAlgebra/src/special.jl:125\n",
       "[131] +(A::LinearAlgebra.AbstractTriangular, B::LinearAlgebra.Tridiagonal) in LinearAlgebra at /buildworker/worker/package_linux64/build/usr/share/julia/stdlib/v1.1/LinearAlgebra/src/special.jl:124\n",
       "[132] +(A::LinearAlgebra.Tridiagonal, B::LinearAlgebra.AbstractTriangular) in LinearAlgebra at /buildworker/worker/package_linux64/build/usr/share/julia/stdlib/v1.1/LinearAlgebra/src/special.jl:125\n",
       "[133] +(A::LinearAlgebra.AbstractTriangular, B::LinearAlgebra.Bidiagonal) in LinearAlgebra at /buildworker/worker/package_linux64/build/usr/share/julia/stdlib/v1.1/LinearAlgebra/src/special.jl:124\n",
       "[134] +(A::LinearAlgebra.Bidiagonal, B::LinearAlgebra.AbstractTriangular) in LinearAlgebra at /buildworker/worker/package_linux64/build/usr/share/julia/stdlib/v1.1/LinearAlgebra/src/special.jl:125\n",
       "[135] +(A::LinearAlgebra.AbstractTriangular, B::Array{T,2} where T) in LinearAlgebra at /buildworker/worker/package_linux64/build/usr/share/julia/stdlib/v1.1/LinearAlgebra/src/special.jl:124\n",
       "[136] +(A::SparseArrays.SparseMatrixCSC, B::SparseArrays.SparseMatrixCSC) in SparseArrays at /buildworker/worker/package_linux64/build/usr/share/julia/stdlib/v1.1/SparseArrays/src/sparsematrix.jl:1576\n",
       "[137] +(A::SparseArrays.SparseMatrixCSC, B::Array) in SparseArrays at /buildworker/worker/package_linux64/build/usr/share/julia/stdlib/v1.1/SparseArrays/src/sparsematrix.jl:1579\n",
       "[138] +(x::SparseArrays.AbstractSparseArray{Tv,Ti,1} where Ti where Tv, y::SparseArrays.AbstractSparseArray{Tv,Ti,1} where Ti where Tv) in SparseArrays at /buildworker/worker/package_linux64/build/usr/share/julia/stdlib/v1.1/SparseArrays/src/sparsevector.jl:1292\n",
       "[139] +(x::AbstractArray{#s72,N} where N where #s72<:Number) in Base at abstractarraymath.jl:98\n",
       "[140] +(A::AbstractArray, B::AbstractArray) in Base at arraymath.jl:38\n",
       "[141] +(x::T, y::Integer) where T<:AbstractChar in Base at char.jl:223\n",
       "[142] +(index1::CartesianIndex{N}, index2::CartesianIndex{N}) where N in Base.IteratorsMD at multidimensional.jl:107\n",
       "[143] +(::Number, ::Missing) in Base at missing.jl:98\n",
       "[144] +(x::P, y::P) where P<:Dates.Period in Dates at /buildworker/worker/package_linux64/build/usr/share/julia/stdlib/v1.1/Dates/src/periods.jl:75\n",
       "[145] +(x::Dates.Period, y::Dates.Period) in Dates at /buildworker/worker/package_linux64/build/usr/share/julia/stdlib/v1.1/Dates/src/periods.jl:340\n",
       "[146] +(y::Dates.Period, x::Dates.CompoundPeriod) in Dates at /buildworker/worker/package_linux64/build/usr/share/julia/stdlib/v1.1/Dates/src/periods.jl:342\n",
       "[147] +(x::Union{CompoundPeriod, Period}) in Dates at /buildworker/worker/package_linux64/build/usr/share/julia/stdlib/v1.1/Dates/src/periods.jl:351\n",
       "[148] +(x::Dates.TimeType) in Dates at /buildworker/worker/package_linux64/build/usr/share/julia/stdlib/v1.1/Dates/src/arithmetic.jl:8\n",
       "[149] +(a::Dates.TimeType, b::Dates.Period, c::Dates.Period) in Dates at /buildworker/worker/package_linux64/build/usr/share/julia/stdlib/v1.1/Dates/src/periods.jl:362\n",
       "[150] +(a::Dates.TimeType, b::Dates.Period, c::Dates.Period, d::Dates.Period...) in Dates at /buildworker/worker/package_linux64/build/usr/share/julia/stdlib/v1.1/Dates/src/periods.jl:363\n",
       "[151] +(x::Dates.TimeType, y::Dates.CompoundPeriod) in Dates at /buildworker/worker/package_linux64/build/usr/share/julia/stdlib/v1.1/Dates/src/periods.jl:366\n",
       "[152] +(x::Dates.Instant) in Dates at /buildworker/worker/package_linux64/build/usr/share/julia/stdlib/v1.1/Dates/src/arithmetic.jl:4\n",
       "[153] +(y::Dates.Period, x::Dates.TimeType) in Dates at /buildworker/worker/package_linux64/build/usr/share/julia/stdlib/v1.1/Dates/src/arithmetic.jl:80\n",
       "[154] +(x::Dates.Period, r::AbstractRange{#s623} where #s623<:Dates.TimeType) in Dates at /buildworker/worker/package_linux64/build/usr/share/julia/stdlib/v1.1/Dates/src/ranges.jl:58\n",
       "[155] +(x::AbstractArray{#s623,N} where N where #s623<:Dates.TimeType, y::Union{CompoundPeriod, Period}) in Dates at /buildworker/worker/package_linux64/build/usr/share/julia/stdlib/v1.1/Dates/src/deprecated.jl:8\n",
       "[156] +(y::Union{CompoundPeriod, Period}, x::AbstractArray{#s623,N} where N where #s623<:Dates.TimeType) in Dates at /buildworker/worker/package_linux64/build/usr/share/julia/stdlib/v1.1/Dates/src/deprecated.jl:16\n",
       "[157] +(y::Dates.TimeType, x::Union{DenseArray{#s623,N}, ReinterpretArray{#s623,N,S,A} where S where A<:Union{SubArray{T,N,A,I,true} where I<:Union{Tuple{Vararg{Real,N} where N}, Tuple{AbstractUnitRange,Vararg{Any,N} where N}} where A<:DenseArray where N where T, DenseArray}, ReshapedArray{#s623,N,A,MI} where MI<:Tuple{Vararg{SignedMultiplicativeInverse{Int64},N} where N} where A<:Union{ReinterpretArray{T,N,S,A} where S where A<:Union{SubArray{T,N,A,I,true} where I<:Union{Tuple{Vararg{Real,N} where N}, Tuple{AbstractUnitRange,Vararg{Any,N} where N}} where A<:DenseArray where N where T, DenseArray} where N where T, SubArray{T,N,A,I,true} where I<:Union{Tuple{Vararg{Real,N} where N}, Tuple{AbstractUnitRange,Vararg{Any,N} where N}} where A<:DenseArray where N where T, DenseArray}, SubArray{#s623,N,A,I,L} where L where I<:Tuple{Vararg{Union{Int64, AbstractRange{Int64}, AbstractCartesianIndex},N} where N} where A<:Union{ReinterpretArray{T,N,S,A} where S where A<:Union{SubArray{T,N,A,I,true} where I<:Union{Tuple{Vararg{Real,N} where N}, Tuple{AbstractUnitRange,Vararg{Any,N} where N}} where A<:DenseArray where N where T, DenseArray} where N where T, ReshapedArray{T,N,A,MI} where MI<:Tuple{Vararg{SignedMultiplicativeInverse{Int64},N} where N} where A<:Union{ReinterpretArray{T,N,S,A} where S where A<:Union{SubArray{T,N,A,I,true} where I<:Union{Tuple{Vararg{Real,N} where N}, Tuple{AbstractUnitRange,Vararg{Any,N} where N}} where A<:DenseArray where N where T, DenseArray} where N where T, SubArray{T,N,A,I,true} where I<:Union{Tuple{Vararg{Real,N} where N}, Tuple{AbstractUnitRange,Vararg{Any,N} where N}} where A<:DenseArray where N where T, DenseArray} where N where T, DenseArray}} where N where #s623<:Union{CompoundPeriod, Period}) in Dates at /buildworker/worker/package_linux64/build/usr/share/julia/stdlib/v1.1/Dates/src/deprecated.jl:20\n",
       "[158] +(J::LinearAlgebra.UniformScaling, x::Number) in LinearAlgebra at /buildworker/worker/package_linux64/build/usr/share/julia/stdlib/v1.1/LinearAlgebra/src/uniformscaling.jl:84\n",
       "[159] +(x::Number, J::LinearAlgebra.UniformScaling) in LinearAlgebra at /buildworker/worker/package_linux64/build/usr/share/julia/stdlib/v1.1/LinearAlgebra/src/uniformscaling.jl:85\n",
       "[160] +(J1::LinearAlgebra.UniformScaling, J2::LinearAlgebra.UniformScaling) in LinearAlgebra at /buildworker/worker/package_linux64/build/usr/share/julia/stdlib/v1.1/LinearAlgebra/src/uniformscaling.jl:89\n",
       "[161] +(J::LinearAlgebra.UniformScaling, B::BitArray{2}) in LinearAlgebra at /buildworker/worker/package_linux64/build/usr/share/julia/stdlib/v1.1/LinearAlgebra/src/uniformscaling.jl:91\n",
       "[162] +(J::LinearAlgebra.UniformScaling, A::AbstractArray{T,2} where T) in LinearAlgebra at /buildworker/worker/package_linux64/build/usr/share/julia/stdlib/v1.1/LinearAlgebra/src/uniformscaling.jl:92\n",
       "[163] +(a, b, c, xs...) in Base at operators.jl:502"
      ]
     },
     "execution_count": 2,
     "metadata": {},
     "output_type": "execute_result"
    }
   ],
   "source": [
    "methods(+)"
   ]
  },
  {
   "cell_type": "markdown",
   "metadata": {},
   "source": [
    "### Matrices and Vectors"
   ]
  },
  {
   "cell_type": "code",
   "execution_count": 3,
   "metadata": {},
   "outputs": [
    {
     "data": {
      "text/plain": [
       "([7, 2, 3], [1, 2, 3])"
      ]
     },
     "execution_count": 3,
     "metadata": {},
     "output_type": "execute_result"
    }
   ],
   "source": [
    "a = [1,2,3]\n",
    "b = copy(a)\n",
    "\n",
    "a[1]= 7\n",
    "a, b"
   ]
  },
  {
   "cell_type": "code",
   "execution_count": 4,
   "metadata": {},
   "outputs": [
    {
     "data": {
      "text/plain": [
       "([7, 2, 3], [7, 2, 3])"
      ]
     },
     "execution_count": 4,
     "metadata": {},
     "output_type": "execute_result"
    }
   ],
   "source": [
    "a = [1,2,3]\n",
    "b = a\n",
    "\n",
    "a[1]= 7\n",
    "a, b"
   ]
  },
  {
   "cell_type": "code",
   "execution_count": null,
   "metadata": {},
   "outputs": [],
   "source": []
  },
  {
   "cell_type": "code",
   "execution_count": 5,
   "metadata": {},
   "outputs": [
    {
     "data": {
      "text/plain": [
       "3-element Array{Int64,1}:\n",
       " 8\n",
       " 5\n",
       " 2"
      ]
     },
     "execution_count": 5,
     "metadata": {},
     "output_type": "execute_result"
    }
   ],
   "source": [
    "column = [2;3;2]\n",
    "row = [8,5,2]\n",
    "\n"
   ]
  },
  {
   "cell_type": "code",
   "execution_count": 6,
   "metadata": {},
   "outputs": [
    {
     "data": {
      "text/plain": [
       "3-element Array{Int64,1}:\n",
       " 2\n",
       " 1\n",
       " 1"
      ]
     },
     "execution_count": 6,
     "metadata": {},
     "output_type": "execute_result"
    }
   ],
   "source": [
    "similar(a)"
   ]
  },
  {
   "cell_type": "code",
   "execution_count": 1,
   "metadata": {},
   "outputs": [
    {
     "data": {
      "text/plain": [
       "2-element Array{Int64,1}:\n",
       " 1\n",
       " 1"
      ]
     },
     "execution_count": 1,
     "metadata": {},
     "output_type": "execute_result"
    }
   ],
   "source": [
    "myones = ones(Int64, (5,12))\n",
    "index = [2,3]\n",
    "\n",
    "myones[index]"
   ]
  },
  {
   "cell_type": "code",
   "execution_count": 2,
   "metadata": {},
   "outputs": [
    {
     "data": {
      "text/plain": [
       "5×12 Array{Int64,2}:\n",
       " 1  1  1  1  1  1  1  1  1  1  1  1\n",
       " 1  1  1  1  1  1  1  1  1  1  1  1\n",
       " 1  1  1  1  1  1  1  1  1  1  1  1\n",
       " 1  1  1  1  1  1  1  1  1  1  1  1\n",
       " 1  1  1  1  1  1  1  1  1  1  1  1"
      ]
     },
     "execution_count": 2,
     "metadata": {},
     "output_type": "execute_result"
    }
   ],
   "source": [
    "myones"
   ]
  },
  {
   "cell_type": "code",
   "execution_count": 3,
   "metadata": {},
   "outputs": [
    {
     "data": {
      "text/plain": [
       "5×12 Array{Int64,2}:\n",
       "  1   2   3   4   5   6   7   8   9  10  11  12\n",
       " 13  14  15  16  17  18  19  20  21  22  23  24\n",
       " 25  26  27  28  29  30  31  32  33  34  35  36\n",
       " 37  38  39  40  41  42  43  44  45  46  47  48\n",
       " 49  50  51  52  53  54  55  56  57  58  59  60"
      ]
     },
     "execution_count": 3,
     "metadata": {},
     "output_type": "execute_result"
    }
   ],
   "source": [
    "myones = ones(Int64, (5,12))\n",
    "\n",
    "for i in 0:59\n",
    "    myones[i ÷ 12 + 1, i % 12 + 1] = i + 1\n",
    "end\n",
    "index = [2,5]\n",
    "\n",
    "myones"
   ]
  },
  {
   "cell_type": "code",
   "execution_count": 10,
   "metadata": {},
   "outputs": [
    {
     "data": {
      "text/plain": [
       "2×2 Array{Int64,2}:\n",
       " 14  17\n",
       " 50  53"
      ]
     },
     "execution_count": 10,
     "metadata": {},
     "output_type": "execute_result"
    }
   ],
   "source": [
    "myones[index, index]"
   ]
  },
  {
   "cell_type": "code",
   "execution_count": 11,
   "metadata": {},
   "outputs": [
    {
     "data": {
      "text/plain": [
       "3-element Array{Array{Float64,1},1}:\n",
       " [1.0, 2.0, 3.0]\n",
       " [1.0, 2.0]     \n",
       " [3.0, 4.0, 5.0]"
      ]
     },
     "execution_count": 11,
     "metadata": {},
     "output_type": "execute_result"
    }
   ],
   "source": [
    "a = Vector{Vector{Float64}}(undef,3)\n",
    "a[1] = [1;2;3]\n",
    "a[2] = [1;2]\n",
    "a[3] = [3;4;5]\n",
    "a"
   ]
  },
  {
   "cell_type": "code",
   "execution_count": 12,
   "metadata": {},
   "outputs": [
    {
     "data": {
      "text/plain": [
       "3-element Array{Array{Float64,1},1}:\n",
       " [1.0, 4.0, 5.0]\n",
       " [1.0, 2.0]     \n",
       " [3.0, 4.0, 5.0]"
      ]
     },
     "execution_count": 12,
     "metadata": {},
     "output_type": "execute_result"
    }
   ],
   "source": [
    "b = a\n",
    "b[1] = [1;4;5]\n",
    "a"
   ]
  },
  {
   "cell_type": "code",
   "execution_count": 13,
   "metadata": {},
   "outputs": [
    {
     "data": {
      "text/plain": [
       ":CEU"
      ]
     },
     "execution_count": 13,
     "metadata": {},
     "output_type": "execute_result"
    }
   ],
   "source": [
    ":CEU"
   ]
  },
  {
   "cell_type": "markdown",
   "metadata": {
    "toc-hr-collapsed": true
   },
   "source": [
    "## Starter Problems"
   ]
  },
  {
   "cell_type": "markdown",
   "metadata": {},
   "source": [
    "#### Strang Matrix Problem\n",
    "\n",
    "Use Julia's array and control flow syntax in order to define the NxN Strang matrix:\n",
    "\n",
    "$$ \\left[\\begin{array}{ccccc}\n",
    "-2 & 1\\\\\n",
    "1 & -2 & 1\\\\\n",
    " & \\ddots & \\ddots & \\ddots\\\\\n",
    " &  & \\ddots & \\ddots & 1\\\\\n",
    " &  &  & 1 & -2\n",
    "\\end{array}\\right] $$\n",
    "\n",
    "i.e. a matrix with `-2` on the diagonal, 1 on the off-diagonals, and 0 elsewere."
   ]
  },
  {
   "cell_type": "code",
   "execution_count": 14,
   "metadata": {},
   "outputs": [
    {
     "data": {
      "text/plain": [
       "strang (generic function with 1 method)"
      ]
     },
     "execution_count": 14,
     "metadata": {},
     "output_type": "execute_result"
    }
   ],
   "source": [
    "function strang(n)\n",
    "    result = zeros(n,n)\n",
    "    \n",
    "    for i in 1:n\n",
    "        if i > 1\n",
    "            result[i,i-1] = 1\n",
    "        end\n",
    "        result[i,i] = -2\n",
    "        if i < n\n",
    "            result[i,i+1] = 1\n",
    "        end\n",
    "    end\n",
    "    result\n",
    "end"
   ]
  },
  {
   "cell_type": "code",
   "execution_count": 15,
   "metadata": {},
   "outputs": [
    {
     "name": "stdout",
     "output_type": "stream",
     "text": [
      "  1.454553 seconds (547.46 k allocations: 1.518 GiB, 10.54% gc time)\n"
     ]
    },
    {
     "data": {
      "text/plain": [
       "10000×10000 Array{Float64,2}:\n",
       " 4.0  1.0  0.0  0.0  0.0  0.0  0.0  0.0  …  0.0  0.0  0.0  0.0  0.0  0.0  0.0\n",
       " 1.0  4.0  1.0  0.0  0.0  0.0  0.0  0.0     0.0  0.0  0.0  0.0  0.0  0.0  0.0\n",
       " 0.0  1.0  4.0  1.0  0.0  0.0  0.0  0.0     0.0  0.0  0.0  0.0  0.0  0.0  0.0\n",
       " 0.0  0.0  1.0  4.0  1.0  0.0  0.0  0.0     0.0  0.0  0.0  0.0  0.0  0.0  0.0\n",
       " 0.0  0.0  0.0  1.0  4.0  1.0  0.0  0.0     0.0  0.0  0.0  0.0  0.0  0.0  0.0\n",
       " 0.0  0.0  0.0  0.0  1.0  4.0  1.0  0.0  …  0.0  0.0  0.0  0.0  0.0  0.0  0.0\n",
       " 0.0  0.0  0.0  0.0  0.0  1.0  4.0  1.0     0.0  0.0  0.0  0.0  0.0  0.0  0.0\n",
       " 0.0  0.0  0.0  0.0  0.0  0.0  1.0  4.0     0.0  0.0  0.0  0.0  0.0  0.0  0.0\n",
       " 0.0  0.0  0.0  0.0  0.0  0.0  0.0  1.0     0.0  0.0  0.0  0.0  0.0  0.0  0.0\n",
       " 0.0  0.0  0.0  0.0  0.0  0.0  0.0  0.0     0.0  0.0  0.0  0.0  0.0  0.0  0.0\n",
       " 0.0  0.0  0.0  0.0  0.0  0.0  0.0  0.0  …  0.0  0.0  0.0  0.0  0.0  0.0  0.0\n",
       " 0.0  0.0  0.0  0.0  0.0  0.0  0.0  0.0     0.0  0.0  0.0  0.0  0.0  0.0  0.0\n",
       " 0.0  0.0  0.0  0.0  0.0  0.0  0.0  0.0     0.0  0.0  0.0  0.0  0.0  0.0  0.0\n",
       " ⋮                        ⋮              ⋱            ⋮                      \n",
       " 0.0  0.0  0.0  0.0  0.0  0.0  0.0  0.0     0.0  0.0  0.0  0.0  0.0  0.0  0.0\n",
       " 0.0  0.0  0.0  0.0  0.0  0.0  0.0  0.0     0.0  0.0  0.0  0.0  0.0  0.0  0.0\n",
       " 0.0  0.0  0.0  0.0  0.0  0.0  0.0  0.0  …  0.0  0.0  0.0  0.0  0.0  0.0  0.0\n",
       " 0.0  0.0  0.0  0.0  0.0  0.0  0.0  0.0     0.0  0.0  0.0  0.0  0.0  0.0  0.0\n",
       " 0.0  0.0  0.0  0.0  0.0  0.0  0.0  0.0     1.0  0.0  0.0  0.0  0.0  0.0  0.0\n",
       " 0.0  0.0  0.0  0.0  0.0  0.0  0.0  0.0     4.0  1.0  0.0  0.0  0.0  0.0  0.0\n",
       " 0.0  0.0  0.0  0.0  0.0  0.0  0.0  0.0     1.0  4.0  1.0  0.0  0.0  0.0  0.0\n",
       " 0.0  0.0  0.0  0.0  0.0  0.0  0.0  0.0  …  0.0  1.0  4.0  1.0  0.0  0.0  0.0\n",
       " 0.0  0.0  0.0  0.0  0.0  0.0  0.0  0.0     0.0  0.0  1.0  4.0  1.0  0.0  0.0\n",
       " 0.0  0.0  0.0  0.0  0.0  0.0  0.0  0.0     0.0  0.0  0.0  1.0  4.0  1.0  0.0\n",
       " 0.0  0.0  0.0  0.0  0.0  0.0  0.0  0.0     0.0  0.0  0.0  0.0  1.0  4.0  1.0\n",
       " 0.0  0.0  0.0  0.0  0.0  0.0  0.0  0.0     0.0  0.0  0.0  0.0  0.0  1.0  4.0"
      ]
     },
     "execution_count": 15,
     "metadata": {},
     "output_type": "execute_result"
    }
   ],
   "source": [
    "@time strang(10000) .^ 2"
   ]
  },
  {
   "cell_type": "markdown",
   "metadata": {},
   "source": [
    "#### Factorial Problem*\n",
    "\n",
    "Using a `for` loop, write a function `my_factorial(n)` that computes the `n`th factorial. Try your function on integers like `15`\n",
    "\n",
    "Bonus: Use `BigInt` inputs like `big(100)`. Make your function's output type match the input type for `n`. You'll know that you'll successfully matched the input type if your output does not \"overflow\" to negative, and you can check `typeof(x)`. Hint, you may want to initialize a value using `one(x)`, which is the value `1` in the type that matches `x`."
   ]
  },
  {
   "cell_type": "code",
   "execution_count": 16,
   "metadata": {},
   "outputs": [
    {
     "data": {
      "text/plain": [
       "93326215443944152681699238856266700490715968264381621468592963895217599993229915608941463976156518286253697920827223758251185210916864000000000000000000000000"
      ]
     },
     "execution_count": 16,
     "metadata": {},
     "output_type": "execute_result"
    }
   ],
   "source": [
    "function my_factorial(n :: BigInt)\n",
    "    f = 1\n",
    "    for i in 1:n\n",
    "        f *= i\n",
    "    end\n",
    "    f\n",
    "end\n",
    "\n",
    "my_factorial(BigInt(100))"
   ]
  },
  {
   "cell_type": "code",
   "execution_count": 17,
   "metadata": {},
   "outputs": [
    {
     "name": "stdout",
     "output_type": "stream",
     "text": [
      "  0.000125 seconds (1.31 k allocations: 24.445 KiB)\n"
     ]
    },
    {
     "data": {
      "text/plain": [
       "93326215443944152681699238856266700490715968264381621468592963895217599993229915608941463976156518286253697920827223758251185210916864000000000000000000000000"
      ]
     },
     "execution_count": 17,
     "metadata": {},
     "output_type": "execute_result"
    }
   ],
   "source": [
    "@time my_factorial(BigInt(100))"
   ]
  },
  {
   "cell_type": "code",
   "execution_count": 18,
   "metadata": {},
   "outputs": [
    {
     "data": {
      "text/plain": [
       "factorial_rec (generic function with 1 method)"
      ]
     },
     "execution_count": 18,
     "metadata": {},
     "output_type": "execute_result"
    }
   ],
   "source": [
    "function factorial_rec(n :: BigInt)\n",
    "    if n == 1\n",
    "        return n\n",
    "    else\n",
    "        return n * factorial_rec(n -1)\n",
    "    end\n",
    "end"
   ]
  },
  {
   "cell_type": "code",
   "execution_count": null,
   "metadata": {},
   "outputs": [],
   "source": []
  },
  {
   "cell_type": "code",
   "execution_count": 19,
   "metadata": {},
   "outputs": [
    {
     "name": "stdout",
     "output_type": "stream",
     "text": [
      "  0.011793 seconds (15.48 k allocations: 828.691 KiB)\n"
     ]
    },
    {
     "data": {
      "text/plain": [
       "93326215443944152681699238856266700490715968264381621468592963895217599993229915608941463976156518286253697920827223758251185210916864000000000000000000000000"
      ]
     },
     "execution_count": 19,
     "metadata": {},
     "output_type": "execute_result"
    }
   ],
   "source": [
    "@time factorial_rec(BigInt(100))"
   ]
  },
  {
   "cell_type": "markdown",
   "metadata": {},
   "source": [
    "#### Binomial Problem*\n",
    "\n",
    "A random variable `X~Bin(n,p)` is defined the number of successes in `n` trials where each trial has a success probability `p`. For example, if `Bin(10,0.5)`, then `X` is the number of coin flips that turn up heads in `10` flips. \n",
    "\n",
    "Using only `rand()` (uniform random numbers), write a function `binomial_rv(n,p)` that produces one draw of `Bin(n,p)`."
   ]
  },
  {
   "cell_type": "code",
   "execution_count": 20,
   "metadata": {},
   "outputs": [
    {
     "data": {
      "text/plain": [
       "binomial_rv (generic function with 1 method)"
      ]
     },
     "execution_count": 20,
     "metadata": {},
     "output_type": "execute_result"
    }
   ],
   "source": [
    "function binomial_rv(n, p)\n",
    "    succeses = 0\n",
    "    for i in 1:n\n",
    "        succeses += Int(rand() < p)\n",
    "    end\n",
    "    succeses\n",
    "end"
   ]
  },
  {
   "cell_type": "markdown",
   "metadata": {},
   "source": [
    "#### Monte Carlo $\\pi$ Problem*\n",
    "\n",
    "Use random number generation to estimate $\\pi$. To do so, mentally draw the unit circle. It is encompassed in the square $[-1,1]\\times[-1,1]$. The area of the circle is $\\pi r^2 = \\pi$. The area of the square is $4$. Thus if points are randomly taken evenly from $[-1,1]\\times[-1,1]$, then the probability they land in the circle ($x^2 + y^2\\leq 1$) is $\\frac{\\pi}{4}$. Use this to estimate $\\pi$."
   ]
  },
  {
   "cell_type": "code",
   "execution_count": 21,
   "metadata": {},
   "outputs": [
    {
     "data": {
      "text/plain": [
       "estimate_π (generic function with 1 method)"
      ]
     },
     "execution_count": 21,
     "metadata": {},
     "output_type": "execute_result"
    }
   ],
   "source": [
    "function estimate_π(n_tries)\n",
    "    bullseyes = 0\n",
    "    for i in 1:n_tries\n",
    "        x = rand() * 2 - 1\n",
    "        y = rand() * 2 - 1\n",
    "        bullseyes += Int(x^2 + y^2 <= 1)\n",
    "    end\n",
    "    bullseyes * 4 / n_tries\n",
    "end"
   ]
  },
  {
   "cell_type": "code",
   "execution_count": 22,
   "metadata": {},
   "outputs": [
    {
     "name": "stdout",
     "output_type": "stream",
     "text": [
      "  4.506516 seconds (61.16 k allocations: 3.189 MiB)\n"
     ]
    },
    {
     "data": {
      "text/plain": [
       "3.14167652"
      ]
     },
     "execution_count": 22,
     "metadata": {},
     "output_type": "execute_result"
    }
   ],
   "source": [
    "@time estimate_π(1000000000)"
   ]
  },
  {
   "cell_type": "markdown",
   "metadata": {},
   "source": [
    "## Integration Problems\n",
    "\n",
    "These problems integrate basic workflow tools to solve some standard data science and scientific computing problems."
   ]
  },
  {
   "cell_type": "markdown",
   "metadata": {},
   "source": [
    "#### Timeseries Generation Problem*\n",
    "\n",
    "An AR1 timeseries is defined by\n",
    "\n",
    "$$ x_{t+1} = \\alpha x_i + \\epsilon_{t+1} $$\n",
    "\n",
    "where $x_0 = 0$ and $t=0,\\ldots,T$. The shocks ${\\epsilon_t}$ are i.i.d. standard normal (`N(0,1)`, given by `randn()`). Using $T=200$ \n",
    "\n",
    "1. $\\alpha = 0$\n",
    "2. $\\alpha = 0.5$\n",
    "3. $\\alpha = 0.9$\n",
    "\n",
    "use Plots.jl to plot a timecourse for each of the parameters. Label the lines for the values of $\\alpha$ that generate them using the `label` argument in `plot`."
   ]
  },
  {
   "cell_type": "code",
   "execution_count": 23,
   "metadata": {},
   "outputs": [
    {
     "data": {
      "image/svg+xml": [
       "<?xml version=\"1.0\" encoding=\"utf-8\"?>\n",
       "<svg xmlns=\"http://www.w3.org/2000/svg\" xmlns:xlink=\"http://www.w3.org/1999/xlink\" width=\"600\" height=\"400\" viewBox=\"0 0 2400 1600\">\n",
       "<defs>\n",
       "  <clipPath id=\"clip0500\">\n",
       "    <rect x=\"0\" y=\"0\" width=\"2400\" height=\"1600\"/>\n",
       "  </clipPath>\n",
       "</defs>\n",
       "<polygon clip-path=\"url(#clip0500)\" points=\"\n",
       "0,1600 2400,1600 2400,0 0,0 \n",
       "  \" fill=\"#ffffff\" fill-rule=\"evenodd\" fill-opacity=\"1\"/>\n",
       "<defs>\n",
       "  <clipPath id=\"clip0501\">\n",
       "    <rect x=\"480\" y=\"0\" width=\"1681\" height=\"1600\"/>\n",
       "  </clipPath>\n",
       "</defs>\n",
       "<polygon clip-path=\"url(#clip0500)\" points=\"\n",
       "149.361,1503.47 2321.26,1503.47 2321.26,47.2441 149.361,47.2441 \n",
       "  \" fill=\"#ffffff\" fill-rule=\"evenodd\" fill-opacity=\"1\"/>\n",
       "<defs>\n",
       "  <clipPath id=\"clip0502\">\n",
       "    <rect x=\"149\" y=\"47\" width=\"2173\" height=\"1457\"/>\n",
       "  </clipPath>\n",
       "</defs>\n",
       "<polyline clip-path=\"url(#clip0502)\" style=\"stroke:#000000; stroke-width:2; stroke-opacity:0.1; fill:none\" points=\"\n",
       "  200.533,1503.47 200.533,47.2441 \n",
       "  \"/>\n",
       "<polyline clip-path=\"url(#clip0502)\" style=\"stroke:#000000; stroke-width:2; stroke-opacity:0.1; fill:none\" points=\"\n",
       "  715.348,1503.47 715.348,47.2441 \n",
       "  \"/>\n",
       "<polyline clip-path=\"url(#clip0502)\" style=\"stroke:#000000; stroke-width:2; stroke-opacity:0.1; fill:none\" points=\"\n",
       "  1230.16,1503.47 1230.16,47.2441 \n",
       "  \"/>\n",
       "<polyline clip-path=\"url(#clip0502)\" style=\"stroke:#000000; stroke-width:2; stroke-opacity:0.1; fill:none\" points=\"\n",
       "  1744.98,1503.47 1744.98,47.2441 \n",
       "  \"/>\n",
       "<polyline clip-path=\"url(#clip0502)\" style=\"stroke:#000000; stroke-width:2; stroke-opacity:0.1; fill:none\" points=\"\n",
       "  2259.79,1503.47 2259.79,47.2441 \n",
       "  \"/>\n",
       "<polyline clip-path=\"url(#clip0502)\" style=\"stroke:#000000; stroke-width:2; stroke-opacity:0.1; fill:none\" points=\"\n",
       "  149.361,1336.23 2321.26,1336.23 \n",
       "  \"/>\n",
       "<polyline clip-path=\"url(#clip0502)\" style=\"stroke:#000000; stroke-width:2; stroke-opacity:0.1; fill:none\" points=\"\n",
       "  149.361,1029.28 2321.26,1029.28 \n",
       "  \"/>\n",
       "<polyline clip-path=\"url(#clip0502)\" style=\"stroke:#000000; stroke-width:2; stroke-opacity:0.1; fill:none\" points=\"\n",
       "  149.361,722.325 2321.26,722.325 \n",
       "  \"/>\n",
       "<polyline clip-path=\"url(#clip0502)\" style=\"stroke:#000000; stroke-width:2; stroke-opacity:0.1; fill:none\" points=\"\n",
       "  149.361,415.37 2321.26,415.37 \n",
       "  \"/>\n",
       "<polyline clip-path=\"url(#clip0502)\" style=\"stroke:#000000; stroke-width:2; stroke-opacity:0.1; fill:none\" points=\"\n",
       "  149.361,108.415 2321.26,108.415 \n",
       "  \"/>\n",
       "<polyline clip-path=\"url(#clip0500)\" style=\"stroke:#000000; stroke-width:4; stroke-opacity:1; fill:none\" points=\"\n",
       "  149.361,1503.47 2321.26,1503.47 \n",
       "  \"/>\n",
       "<polyline clip-path=\"url(#clip0500)\" style=\"stroke:#000000; stroke-width:4; stroke-opacity:1; fill:none\" points=\"\n",
       "  149.361,1503.47 149.361,47.2441 \n",
       "  \"/>\n",
       "<polyline clip-path=\"url(#clip0500)\" style=\"stroke:#000000; stroke-width:4; stroke-opacity:1; fill:none\" points=\"\n",
       "  200.533,1503.47 200.533,1481.63 \n",
       "  \"/>\n",
       "<polyline clip-path=\"url(#clip0500)\" style=\"stroke:#000000; stroke-width:4; stroke-opacity:1; fill:none\" points=\"\n",
       "  715.348,1503.47 715.348,1481.63 \n",
       "  \"/>\n",
       "<polyline clip-path=\"url(#clip0500)\" style=\"stroke:#000000; stroke-width:4; stroke-opacity:1; fill:none\" points=\"\n",
       "  1230.16,1503.47 1230.16,1481.63 \n",
       "  \"/>\n",
       "<polyline clip-path=\"url(#clip0500)\" style=\"stroke:#000000; stroke-width:4; stroke-opacity:1; fill:none\" points=\"\n",
       "  1744.98,1503.47 1744.98,1481.63 \n",
       "  \"/>\n",
       "<polyline clip-path=\"url(#clip0500)\" style=\"stroke:#000000; stroke-width:4; stroke-opacity:1; fill:none\" points=\"\n",
       "  2259.79,1503.47 2259.79,1481.63 \n",
       "  \"/>\n",
       "<polyline clip-path=\"url(#clip0500)\" style=\"stroke:#000000; stroke-width:4; stroke-opacity:1; fill:none\" points=\"\n",
       "  149.361,1336.23 181.939,1336.23 \n",
       "  \"/>\n",
       "<polyline clip-path=\"url(#clip0500)\" style=\"stroke:#000000; stroke-width:4; stroke-opacity:1; fill:none\" points=\"\n",
       "  149.361,1029.28 181.939,1029.28 \n",
       "  \"/>\n",
       "<polyline clip-path=\"url(#clip0500)\" style=\"stroke:#000000; stroke-width:4; stroke-opacity:1; fill:none\" points=\"\n",
       "  149.361,722.325 181.939,722.325 \n",
       "  \"/>\n",
       "<polyline clip-path=\"url(#clip0500)\" style=\"stroke:#000000; stroke-width:4; stroke-opacity:1; fill:none\" points=\"\n",
       "  149.361,415.37 181.939,415.37 \n",
       "  \"/>\n",
       "<polyline clip-path=\"url(#clip0500)\" style=\"stroke:#000000; stroke-width:4; stroke-opacity:1; fill:none\" points=\"\n",
       "  149.361,108.415 181.939,108.415 \n",
       "  \"/>\n",
       "<g clip-path=\"url(#clip0500)\">\n",
       "<text style=\"fill:#000000; fill-opacity:1; font-family:Arial,Helvetica Neue,Helvetica,sans-serif; font-size:48px; text-anchor:middle;\" transform=\"rotate(0, 200.533, 1557.47)\" x=\"200.533\" y=\"1557.47\">0</text>\n",
       "</g>\n",
       "<g clip-path=\"url(#clip0500)\">\n",
       "<text style=\"fill:#000000; fill-opacity:1; font-family:Arial,Helvetica Neue,Helvetica,sans-serif; font-size:48px; text-anchor:middle;\" transform=\"rotate(0, 715.348, 1557.47)\" x=\"715.348\" y=\"1557.47\">50</text>\n",
       "</g>\n",
       "<g clip-path=\"url(#clip0500)\">\n",
       "<text style=\"fill:#000000; fill-opacity:1; font-family:Arial,Helvetica Neue,Helvetica,sans-serif; font-size:48px; text-anchor:middle;\" transform=\"rotate(0, 1230.16, 1557.47)\" x=\"1230.16\" y=\"1557.47\">100</text>\n",
       "</g>\n",
       "<g clip-path=\"url(#clip0500)\">\n",
       "<text style=\"fill:#000000; fill-opacity:1; font-family:Arial,Helvetica Neue,Helvetica,sans-serif; font-size:48px; text-anchor:middle;\" transform=\"rotate(0, 1744.98, 1557.47)\" x=\"1744.98\" y=\"1557.47\">150</text>\n",
       "</g>\n",
       "<g clip-path=\"url(#clip0500)\">\n",
       "<text style=\"fill:#000000; fill-opacity:1; font-family:Arial,Helvetica Neue,Helvetica,sans-serif; font-size:48px; text-anchor:middle;\" transform=\"rotate(0, 2259.79, 1557.47)\" x=\"2259.79\" y=\"1557.47\">200</text>\n",
       "</g>\n",
       "<g clip-path=\"url(#clip0500)\">\n",
       "<text style=\"fill:#000000; fill-opacity:1; font-family:Arial,Helvetica Neue,Helvetica,sans-serif; font-size:48px; text-anchor:end;\" transform=\"rotate(0, 125.361, 1353.73)\" x=\"125.361\" y=\"1353.73\">-4</text>\n",
       "</g>\n",
       "<g clip-path=\"url(#clip0500)\">\n",
       "<text style=\"fill:#000000; fill-opacity:1; font-family:Arial,Helvetica Neue,Helvetica,sans-serif; font-size:48px; text-anchor:end;\" transform=\"rotate(0, 125.361, 1046.78)\" x=\"125.361\" y=\"1046.78\">-2</text>\n",
       "</g>\n",
       "<g clip-path=\"url(#clip0500)\">\n",
       "<text style=\"fill:#000000; fill-opacity:1; font-family:Arial,Helvetica Neue,Helvetica,sans-serif; font-size:48px; text-anchor:end;\" transform=\"rotate(0, 125.361, 739.825)\" x=\"125.361\" y=\"739.825\">0</text>\n",
       "</g>\n",
       "<g clip-path=\"url(#clip0500)\">\n",
       "<text style=\"fill:#000000; fill-opacity:1; font-family:Arial,Helvetica Neue,Helvetica,sans-serif; font-size:48px; text-anchor:end;\" transform=\"rotate(0, 125.361, 432.87)\" x=\"125.361\" y=\"432.87\">2</text>\n",
       "</g>\n",
       "<g clip-path=\"url(#clip0500)\">\n",
       "<text style=\"fill:#000000; fill-opacity:1; font-family:Arial,Helvetica Neue,Helvetica,sans-serif; font-size:48px; text-anchor:end;\" transform=\"rotate(0, 125.361, 125.915)\" x=\"125.361\" y=\"125.915\">4</text>\n",
       "</g>\n",
       "<polyline clip-path=\"url(#clip0502)\" style=\"stroke:#009af9; stroke-width:4; stroke-opacity:1; fill:none\" points=\"\n",
       "  210.829,722.325 221.126,750.857 231.422,570.797 241.718,799.515 252.015,545.376 262.311,725.057 272.607,803.356 282.903,776.481 293.2,791.208 303.496,832.933 \n",
       "  313.792,801.093 324.089,698.585 334.385,815.663 344.681,600.488 354.978,814.052 365.274,796.824 375.57,972.775 385.866,646.852 396.163,1037.66 406.459,722.211 \n",
       "  416.755,549.234 427.052,575.551 437.348,596.765 447.644,601.523 457.94,962.207 468.237,856.662 478.533,714.707 488.829,883.761 499.126,774.286 509.422,364.081 \n",
       "  519.718,584.343 530.014,595.324 540.311,231.638 550.607,792.954 560.903,874.39 571.2,864.746 581.496,765.083 591.792,742.493 602.088,581.327 612.385,1016.75 \n",
       "  622.681,634.561 632.977,869.78 643.274,762.066 653.57,751.059 663.866,773.861 674.162,636.235 684.459,982.488 694.755,916.87 705.051,602.113 715.348,694.966 \n",
       "  725.644,803.506 735.94,787.5 746.236,682.195 756.533,739.505 766.829,885.152 777.125,784.349 787.422,717.773 797.718,611.019 808.014,799.835 818.311,587.025 \n",
       "  828.607,887.64 838.903,877.098 849.199,496.664 859.496,897.76 869.792,671.715 880.088,766.734 890.385,924.232 900.681,837.367 910.977,575.221 921.273,449.593 \n",
       "  931.57,914.83 941.866,810.909 952.162,701.051 962.459,987.648 972.755,885.935 983.051,876.033 993.347,611.555 1003.64,828.326 1013.94,715.497 1024.24,1106.27 \n",
       "  1034.53,591.848 1044.83,692.078 1055.13,535.969 1065.42,667.648 1075.72,984.196 1086.01,733.747 1096.31,549.975 1106.61,756.776 1116.9,780.835 1127.2,747.909 \n",
       "  1137.5,696.676 1147.79,684.728 1158.09,690.887 1168.38,778.922 1178.68,641.451 1188.98,848.568 1199.27,543.692 1209.57,759.433 1219.87,561.083 1230.16,559.861 \n",
       "  1240.46,670.157 1250.75,829.944 1261.05,662.925 1271.35,846.28 1281.64,857.045 1291.94,681.875 1302.24,763.855 1312.53,668.478 1322.83,879.106 1333.12,746.884 \n",
       "  1343.42,728.29 1353.72,564.617 1364.01,797.935 1374.31,635.661 1384.61,617.1 1394.9,697.929 1405.2,553.685 1415.5,809.701 1425.79,873.976 1436.09,605.938 \n",
       "  1446.38,556.251 1456.68,860.107 1466.98,865.44 1477.27,406.5 1487.57,1000.5 1497.87,607.232 1508.16,493.336 1518.46,643.444 1528.75,455.901 1539.05,588.43 \n",
       "  1549.35,744.344 1559.64,730.385 1569.94,834.518 1580.24,546.417 1590.53,855.095 1600.83,632.947 1611.12,651.56 1621.42,947.849 1631.72,834.033 1642.01,864.593 \n",
       "  1652.31,635.041 1662.61,672.366 1672.9,525.95 1683.2,840.219 1693.5,816.629 1703.79,896.537 1714.09,757.072 1724.38,415.579 1734.68,442.395 1744.98,656.39 \n",
       "  1755.27,761.587 1765.57,787.293 1775.87,710.494 1786.16,722.749 1796.46,751.523 1806.75,600.87 1817.05,712.6 1827.35,620.089 1837.64,846.023 1847.94,865.303 \n",
       "  1858.24,1015.35 1868.53,773.111 1878.83,685.25 1889.12,785.791 1899.42,631.268 1909.72,586.181 1920.01,785.22 1930.31,983.908 1940.61,885.84 1950.9,916.546 \n",
       "  1961.2,655.32 1971.49,662.985 1981.79,1040.61 1992.09,1052.43 2002.38,567.368 2012.68,661.187 2022.98,879.848 2033.27,852.328 2043.57,822.938 2053.87,665.015 \n",
       "  2064.16,726.065 2074.46,723.437 2084.75,455.513 2095.05,427.18 2105.35,658.78 2115.64,682.033 2125.94,865.475 2136.24,711.452 2146.53,748.85 2156.83,850.551 \n",
       "  2167.12,824.721 2177.42,669.336 2187.72,639.25 2198.01,631.226 2208.31,513.899 2218.61,933.581 2228.9,611.476 2239.2,537.088 2249.49,699.4 2259.79,802.339 \n",
       "  \n",
       "  \"/>\n",
       "<polyline clip-path=\"url(#clip0502)\" style=\"stroke:#e26f46; stroke-width:4; stroke-opacity:1; fill:none\" points=\"\n",
       "  210.829,722.325 221.126,797.118 231.422,868.018 241.718,790.665 252.015,728.063 262.311,890.488 272.607,853.983 282.903,722.084 293.2,635.277 303.496,1202.61 \n",
       "  313.792,892.454 324.089,783.788 334.385,680.671 344.681,642.558 354.978,752.552 365.274,702.286 375.57,919.017 385.866,804.538 396.163,682.722 406.459,577.175 \n",
       "  416.755,513.012 427.052,454.322 437.348,642.109 447.644,819.419 457.94,595.778 468.237,883.009 478.533,767.191 488.829,746.225 499.126,901.008 509.422,550.612 \n",
       "  519.718,915.292 530.014,780.448 540.311,581.202 550.607,543.307 560.903,832.006 571.2,835.59 581.496,816.185 591.792,852.107 602.088,1046 612.385,1020.81 \n",
       "  622.681,767.151 632.977,459.811 643.274,485.619 653.57,641.942 663.866,809.371 674.162,748.382 684.459,876.042 694.755,707.358 705.051,711.722 715.348,671.433 \n",
       "  725.644,394.01 735.94,488.17 746.236,543.81 756.533,879.609 766.829,1087.9 777.125,902.518 787.422,860.185 797.718,755.87 808.014,801.627 818.311,548.705 \n",
       "  828.607,593.075 838.903,712.693 849.199,644.088 859.496,636.039 869.792,635 880.088,614.585 890.385,589.689 900.681,379.149 910.977,595.045 921.273,692.482 \n",
       "  931.57,1026.52 941.866,904.838 952.162,883.256 962.459,935.638 972.755,1106.71 983.051,1221.56 993.347,752.683 1003.64,538.138 1013.94,551.511 1024.24,563.786 \n",
       "  1034.53,541.567 1044.83,334.584 1055.13,811.164 1065.42,871.097 1075.72,750.614 1086.01,754.036 1096.31,616.541 1106.61,677.685 1116.9,670.051 1127.2,555.304 \n",
       "  1137.5,532.036 1147.79,866.556 1158.09,854.565 1168.38,929.51 1178.68,910.896 1188.98,606.355 1199.27,413.99 1209.57,713.015 1219.87,630.761 1230.16,750.652 \n",
       "  1240.46,778.726 1250.75,734.2 1261.05,745.184 1271.35,561.2 1281.64,640.75 1291.94,794.885 1302.24,704.001 1312.53,802.894 1322.83,478.787 1333.12,613.164 \n",
       "  1343.42,800.949 1353.72,1077.93 1364.01,1035.68 1374.31,1128.45 1384.61,723.596 1394.9,504.495 1405.2,909.483 1415.5,817.538 1425.79,867.406 1436.09,1130.42 \n",
       "  1446.38,563.955 1456.68,526.953 1466.98,818.09 1477.27,847.381 1487.57,724.346 1497.87,819.193 1508.16,909.911 1518.46,972.393 1528.75,701.031 1539.05,705.302 \n",
       "  1549.35,590.601 1559.64,615.848 1569.94,661.904 1580.24,942.758 1590.53,903.883 1600.83,792.278 1611.12,701.059 1621.42,579.115 1631.72,714.799 1642.01,828.833 \n",
       "  1652.31,1086.55 1662.61,818.386 1672.9,726.268 1683.2,613.154 1693.5,776.779 1703.79,952.314 1714.09,962.41 1724.38,1070.98 1734.68,1069.18 1744.98,866.684 \n",
       "  1755.27,849.175 1765.57,360.471 1775.87,549.783 1786.16,678.379 1796.46,638.154 1806.75,765.604 1817.05,1028.75 1827.35,970.992 1837.64,1060.78 1847.94,932.462 \n",
       "  1858.24,844.496 1868.53,795.112 1878.83,666.746 1889.12,529.59 1899.42,338.507 1909.72,482.742 1920.01,709.541 1930.31,848.132 1940.61,752.847 1950.9,711.346 \n",
       "  1961.2,638.975 1971.49,234.538 1981.79,472.206 1992.09,567.204 2002.38,718.603 2012.68,716.966 2022.98,660.262 2033.27,524.558 2043.57,342.513 2053.87,498.746 \n",
       "  2064.16,578.017 2074.46,596.854 2084.75,718.022 2095.05,574.983 2105.35,849.357 2115.64,710.264 2125.94,736.999 2136.24,555.496 2146.53,490.49 2156.83,806.927 \n",
       "  2167.12,667.534 2177.42,727.016 2187.72,831.165 2198.01,649.207 2208.31,666.551 2218.61,896.554 2228.9,492.143 2239.2,740.431 2249.49,755.001 2259.79,555.747 \n",
       "  \n",
       "  \"/>\n",
       "<polyline clip-path=\"url(#clip0502)\" style=\"stroke:#3da44d; stroke-width:4; stroke-opacity:1; fill:none\" points=\"\n",
       "  210.829,722.325 221.126,475.705 231.422,583.873 241.718,447.704 252.015,337.866 262.311,300.785 272.607,394.672 282.903,645.799 293.2,493.08 303.496,389.16 \n",
       "  313.792,490.344 324.089,788.898 334.385,365.219 344.681,219.941 354.978,478.496 365.274,332.929 375.57,427.921 385.866,196.967 396.163,284.234 406.459,354.822 \n",
       "  416.755,345.319 427.052,123.974 437.348,173.087 447.644,390.758 457.94,379.334 468.237,532.163 478.533,613.969 488.829,420.049 499.126,521.533 509.422,685.492 \n",
       "  519.718,672.552 530.014,716.017 540.311,915.207 550.607,986.317 560.903,1372.12 571.2,1278.13 581.496,1435.13 591.792,1458.13 602.088,1373.78 612.385,1424.51 \n",
       "  622.681,1361.6 632.977,1185.72 643.274,1201.3 653.57,1126.82 663.866,1135.01 674.162,1117.15 684.459,1121.21 694.755,1103.35 705.051,840.629 715.348,1081.93 \n",
       "  725.644,1184.79 735.94,1069.36 746.236,925.755 756.533,1207 766.829,997.981 777.125,855.965 787.422,552.074 797.718,568.627 808.014,345.583 818.311,235.413 \n",
       "  828.607,374.3 838.903,413.846 849.199,527.055 859.496,512.404 869.792,743.717 880.088,382.237 890.385,190.983 900.681,298.569 910.977,186.158 921.273,431.096 \n",
       "  931.57,469.546 941.866,386.411 952.162,502.531 962.459,346.344 972.755,426.714 983.051,489.92 993.347,492.04 1003.64,459.995 1013.94,469.763 1024.24,556.645 \n",
       "  1034.53,399.574 1044.83,253.931 1055.13,483.13 1065.42,779.986 1075.72,647.158 1086.01,908.617 1096.31,887.088 1106.61,846.578 1116.9,769.385 1127.2,724.223 \n",
       "  1137.5,591.483 1147.79,458.709 1158.09,674.108 1168.38,474.883 1178.68,301.564 1188.98,391.41 1199.27,299.704 1209.57,265.311 1219.87,287.208 1230.16,496.34 \n",
       "  1240.46,465.089 1250.75,617.988 1261.05,510.07 1271.35,567.201 1281.64,815.274 1291.94,756.638 1302.24,724.781 1312.53,627.909 1322.83,871.26 1333.12,998.46 \n",
       "  1343.42,1115.46 1353.72,1069.54 1364.01,971.516 1374.31,771.314 1384.61,1253.92 1394.9,1202.31 1405.2,1133.4 1415.5,939.617 1425.79,1010.98 1436.09,1161.58 \n",
       "  1446.38,1234.88 1456.68,1252.32 1466.98,1386.16 1477.27,1438.37 1487.57,1140.45 1497.87,1317.38 1508.16,1300.3 1518.46,1389.7 1528.75,1350.39 1539.05,1238.89 \n",
       "  1549.35,842.135 1559.64,749.557 1569.94,887.911 1580.24,893.269 1590.53,821.19 1600.83,673.878 1611.12,876.688 1621.42,834.501 1631.72,1111.15 1642.01,1181.26 \n",
       "  1652.31,1039.26 1662.61,1254.01 1672.9,1308.61 1683.2,918.18 1693.5,1158.34 1703.79,677.336 1714.09,630.325 1724.38,850.584 1734.68,710.218 1744.98,690.944 \n",
       "  1755.27,753.057 1765.57,907.559 1775.87,840.173 1786.16,752.62 1796.46,892.545 1806.75,937.088 1817.05,697.86 1827.35,776.117 1837.64,828.867 1847.94,654.251 \n",
       "  1858.24,717.737 1868.53,764.189 1878.83,775.46 1889.12,863.509 1899.42,851.557 1909.72,798.903 1920.01,869.614 1930.31,1150.17 1940.61,1267.46 1950.9,1462.26 \n",
       "  1961.2,1287.75 1971.49,1278.57 1981.79,1193.73 1992.09,996.212 2002.38,1182.55 2012.68,990.008 2022.98,763.352 2033.27,619.646 2043.57,394.783 2053.87,401.873 \n",
       "  2064.16,370.493 2074.46,88.4582 2084.75,285.888 2095.05,288.125 2105.35,481.913 2115.64,488.489 2125.94,397.088 2136.24,669.866 2146.53,862.78 2156.83,633.056 \n",
       "  2167.12,755.626 2177.42,837.039 2187.72,831.338 2198.01,937.857 2208.31,913.08 2218.61,849.588 2228.9,745.571 2239.2,672.114 2249.49,360.431 2259.79,356.261 \n",
       "  \n",
       "  \"/>\n",
       "<polygon clip-path=\"url(#clip0500)\" points=\"\n",
       "1860.72,372.684 2249.26,372.684 2249.26,130.764 1860.72,130.764 \n",
       "  \" fill=\"#ffffff\" fill-rule=\"evenodd\" fill-opacity=\"1\"/>\n",
       "<polyline clip-path=\"url(#clip0500)\" style=\"stroke:#000000; stroke-width:4; stroke-opacity:1; fill:none\" points=\"\n",
       "  1860.72,372.684 2249.26,372.684 2249.26,130.764 1860.72,130.764 1860.72,372.684 \n",
       "  \"/>\n",
       "<polyline clip-path=\"url(#clip0500)\" style=\"stroke:#009af9; stroke-width:4; stroke-opacity:1; fill:none\" points=\"\n",
       "  1884.72,191.244 2028.72,191.244 \n",
       "  \"/>\n",
       "<g clip-path=\"url(#clip0500)\">\n",
       "<text style=\"fill:#000000; fill-opacity:1; font-family:Arial,Helvetica Neue,Helvetica,sans-serif; font-size:48px; text-anchor:start;\" transform=\"rotate(0, 2052.72, 208.744)\" x=\"2052.72\" y=\"208.744\">? = 0.0</text>\n",
       "</g>\n",
       "<polyline clip-path=\"url(#clip0500)\" style=\"stroke:#e26f46; stroke-width:4; stroke-opacity:1; fill:none\" points=\"\n",
       "  1884.72,251.724 2028.72,251.724 \n",
       "  \"/>\n",
       "<g clip-path=\"url(#clip0500)\">\n",
       "<text style=\"fill:#000000; fill-opacity:1; font-family:Arial,Helvetica Neue,Helvetica,sans-serif; font-size:48px; text-anchor:start;\" transform=\"rotate(0, 2052.72, 269.224)\" x=\"2052.72\" y=\"269.224\">? = 0.5</text>\n",
       "</g>\n",
       "<polyline clip-path=\"url(#clip0500)\" style=\"stroke:#3da44d; stroke-width:4; stroke-opacity:1; fill:none\" points=\"\n",
       "  1884.72,312.204 2028.72,312.204 \n",
       "  \"/>\n",
       "<g clip-path=\"url(#clip0500)\">\n",
       "<text style=\"fill:#000000; fill-opacity:1; font-family:Arial,Helvetica Neue,Helvetica,sans-serif; font-size:48px; text-anchor:start;\" transform=\"rotate(0, 2052.72, 329.704)\" x=\"2052.72\" y=\"329.704\">? = 0.9</text>\n",
       "</g>\n",
       "</svg>\n"
      ]
     },
     "execution_count": 23,
     "metadata": {},
     "output_type": "execute_result"
    }
   ],
   "source": [
    "using Plots\n",
    "\n",
    "function timeseries(α, n)\n",
    "    s = [0.0]\n",
    "    for t in 2:n\n",
    "        push!(s, α*s[end] + randn())\n",
    "    end\n",
    "    s\n",
    "end\n",
    "\n",
    "zero = timeseries(0.0, 200)\n",
    "half = timeseries(0.5, 200)\n",
    "nine = timeseries(0.9, 200)\n",
    "\n",
    "plot(1:200, [zero, half, nine], label = [\"α = 0.0\", \"α = 0.5\", \"α = 0.9\"])"
   ]
  },
  {
   "cell_type": "markdown",
   "metadata": {},
   "source": [
    "#### Logistic Map Problem\n",
    "\n",
    "The logistic difference equation is defined by the recursion\n",
    "\n",
    "$$ b_{n+1}=r*b_{n}(1-b_{n}) $$\n",
    "\n",
    "where $b_{n}$ is the number of bunnies at time $n$. Starting with $b_{0}=.25$, by around $400$ iterations this will reach a steady state. This steady state (or steady periodic state) is dependent on $r$. Write a function which plots the steady state attractor. This is done as follows:\n",
    "\n",
    "1) Solve for the steady state(s) for each given $r$ (i.e. iterate the relation 400 times).\n",
    "\n",
    "2) Calculate \"every state\" in the steady state attractor. This means, at steady state (after the first 400 iterations), save the next 150 values. Call this set of values $y_s(r)$.\n",
    "\n",
    "3) Do steps (1) and (2) with $r\\in\\left(2.9,4\\right)$, `dr=.001`. Plot $r$ x-axis vs $y_s(r)$=value seen in the attractor) using Plots.jl. Your result should be the [Logistic equation bifurcation diagram](https://upload.wikimedia.org/wikipedia/commons/7/7d/LogisticMap_BifurcationDiagram.png)."
   ]
  },
  {
   "cell_type": "code",
   "execution_count": 24,
   "metadata": {},
   "outputs": [],
   "source": [
    "function bunnies(b₀, r, n=550)\n",
    "    bs = [b₀]\n",
    "    for t in 2:n\n",
    "        push!(bs, r*bs[end]*(1-bs[end]))\n",
    "    end\n",
    "    \n",
    "    bs\n",
    "end\n",
    "\n",
    "bs = bunnies(.25, 3);"
   ]
  },
  {
   "cell_type": "code",
   "execution_count": 25,
   "metadata": {},
   "outputs": [
    {
     "data": {
      "text/plain": [
       "8-element Array{Float64,1}:\n",
       " 1.2\n",
       " 1.6\n",
       " 2.0\n",
       " 2.4\n",
       " 2.8\n",
       " 3.2\n",
       " 3.6\n",
       " 4.0"
      ]
     },
     "execution_count": 25,
     "metadata": {},
     "output_type": "execute_result"
    }
   ],
   "source": [
    "collect(1.2:0.4:4)"
   ]
  },
  {
   "cell_type": "code",
   "execution_count": 26,
   "metadata": {},
   "outputs": [
    {
     "data": {
      "image/svg+xml": [
       "<?xml version=\"1.0\" encoding=\"utf-8\"?>\n",
       "<svg xmlns=\"http://www.w3.org/2000/svg\" xmlns:xlink=\"http://www.w3.org/1999/xlink\" width=\"600\" height=\"400\" viewBox=\"0 0 2400 1600\">\n",
       "<defs>\n",
       "  <clipPath id=\"clip0900\">\n",
       "    <rect x=\"0\" y=\"0\" width=\"2400\" height=\"1600\"/>\n",
       "  </clipPath>\n",
       "</defs>\n",
       "<polygon clip-path=\"url(#clip0900)\" points=\"\n",
       "0,1600 2400,1600 2400,0 0,0 \n",
       "  \" fill=\"#ffffff\" fill-rule=\"evenodd\" fill-opacity=\"1\"/>\n",
       "<defs>\n",
       "  <clipPath id=\"clip0901\">\n",
       "    <rect x=\"480\" y=\"0\" width=\"1681\" height=\"1600\"/>\n",
       "  </clipPath>\n",
       "</defs>\n",
       "<polygon clip-path=\"url(#clip0900)\" points=\"\n",
       "161.394,1503.47 2321.26,1503.47 2321.26,47.2441 161.394,47.2441 \n",
       "  \" fill=\"#ffffff\" fill-rule=\"evenodd\" fill-opacity=\"1\"/>\n",
       "<defs>\n",
       "  <clipPath id=\"clip0902\">\n",
       "    <rect x=\"161\" y=\"47\" width=\"2161\" height=\"1457\"/>\n",
       "  </clipPath>\n",
       "</defs>\n",
       "<polyline clip-path=\"url(#clip0902)\" style=\"stroke:#000000; stroke-width:2; stroke-opacity:0.1; fill:none\" points=\"\n",
       "  218.811,1503.47 218.811,47.2441 \n",
       "  \"/>\n",
       "<polyline clip-path=\"url(#clip0902)\" style=\"stroke:#000000; stroke-width:2; stroke-opacity:0.1; fill:none\" points=\"\n",
       "  589.96,1503.47 589.96,47.2441 \n",
       "  \"/>\n",
       "<polyline clip-path=\"url(#clip0902)\" style=\"stroke:#000000; stroke-width:2; stroke-opacity:0.1; fill:none\" points=\"\n",
       "  961.109,1503.47 961.109,47.2441 \n",
       "  \"/>\n",
       "<polyline clip-path=\"url(#clip0902)\" style=\"stroke:#000000; stroke-width:2; stroke-opacity:0.1; fill:none\" points=\"\n",
       "  1332.26,1503.47 1332.26,47.2441 \n",
       "  \"/>\n",
       "<polyline clip-path=\"url(#clip0902)\" style=\"stroke:#000000; stroke-width:2; stroke-opacity:0.1; fill:none\" points=\"\n",
       "  1703.41,1503.47 1703.41,47.2441 \n",
       "  \"/>\n",
       "<polyline clip-path=\"url(#clip0902)\" style=\"stroke:#000000; stroke-width:2; stroke-opacity:0.1; fill:none\" points=\"\n",
       "  2074.56,1503.47 2074.56,47.2441 \n",
       "  \"/>\n",
       "<polyline clip-path=\"url(#clip0902)\" style=\"stroke:#000000; stroke-width:2; stroke-opacity:0.1; fill:none\" points=\"\n",
       "  161.394,1290.54 2321.26,1290.54 \n",
       "  \"/>\n",
       "<polyline clip-path=\"url(#clip0902)\" style=\"stroke:#000000; stroke-width:2; stroke-opacity:0.1; fill:none\" points=\"\n",
       "  161.394,947.085 2321.26,947.085 \n",
       "  \"/>\n",
       "<polyline clip-path=\"url(#clip0902)\" style=\"stroke:#000000; stroke-width:2; stroke-opacity:0.1; fill:none\" points=\"\n",
       "  161.394,603.634 2321.26,603.634 \n",
       "  \"/>\n",
       "<polyline clip-path=\"url(#clip0902)\" style=\"stroke:#000000; stroke-width:2; stroke-opacity:0.1; fill:none\" points=\"\n",
       "  161.394,260.183 2321.26,260.183 \n",
       "  \"/>\n",
       "<polyline clip-path=\"url(#clip0900)\" style=\"stroke:#000000; stroke-width:4; stroke-opacity:1; fill:none\" points=\"\n",
       "  161.394,1503.47 2321.26,1503.47 \n",
       "  \"/>\n",
       "<polyline clip-path=\"url(#clip0900)\" style=\"stroke:#000000; stroke-width:4; stroke-opacity:1; fill:none\" points=\"\n",
       "  161.394,1503.47 161.394,47.2441 \n",
       "  \"/>\n",
       "<polyline clip-path=\"url(#clip0900)\" style=\"stroke:#000000; stroke-width:4; stroke-opacity:1; fill:none\" points=\"\n",
       "  218.811,1503.47 218.811,1481.63 \n",
       "  \"/>\n",
       "<polyline clip-path=\"url(#clip0900)\" style=\"stroke:#000000; stroke-width:4; stroke-opacity:1; fill:none\" points=\"\n",
       "  589.96,1503.47 589.96,1481.63 \n",
       "  \"/>\n",
       "<polyline clip-path=\"url(#clip0900)\" style=\"stroke:#000000; stroke-width:4; stroke-opacity:1; fill:none\" points=\"\n",
       "  961.109,1503.47 961.109,1481.63 \n",
       "  \"/>\n",
       "<polyline clip-path=\"url(#clip0900)\" style=\"stroke:#000000; stroke-width:4; stroke-opacity:1; fill:none\" points=\"\n",
       "  1332.26,1503.47 1332.26,1481.63 \n",
       "  \"/>\n",
       "<polyline clip-path=\"url(#clip0900)\" style=\"stroke:#000000; stroke-width:4; stroke-opacity:1; fill:none\" points=\"\n",
       "  1703.41,1503.47 1703.41,1481.63 \n",
       "  \"/>\n",
       "<polyline clip-path=\"url(#clip0900)\" style=\"stroke:#000000; stroke-width:4; stroke-opacity:1; fill:none\" points=\"\n",
       "  2074.56,1503.47 2074.56,1481.63 \n",
       "  \"/>\n",
       "<polyline clip-path=\"url(#clip0900)\" style=\"stroke:#000000; stroke-width:4; stroke-opacity:1; fill:none\" points=\"\n",
       "  161.394,1290.54 193.792,1290.54 \n",
       "  \"/>\n",
       "<polyline clip-path=\"url(#clip0900)\" style=\"stroke:#000000; stroke-width:4; stroke-opacity:1; fill:none\" points=\"\n",
       "  161.394,947.085 193.792,947.085 \n",
       "  \"/>\n",
       "<polyline clip-path=\"url(#clip0900)\" style=\"stroke:#000000; stroke-width:4; stroke-opacity:1; fill:none\" points=\"\n",
       "  161.394,603.634 193.792,603.634 \n",
       "  \"/>\n",
       "<polyline clip-path=\"url(#clip0900)\" style=\"stroke:#000000; stroke-width:4; stroke-opacity:1; fill:none\" points=\"\n",
       "  161.394,260.183 193.792,260.183 \n",
       "  \"/>\n",
       "<g clip-path=\"url(#clip0900)\">\n",
       "<text style=\"fill:#000000; fill-opacity:1; font-family:Arial,Helvetica Neue,Helvetica,sans-serif; font-size:48px; text-anchor:middle;\" transform=\"rotate(0, 218.811, 1557.47)\" x=\"218.811\" y=\"1557.47\">0</text>\n",
       "</g>\n",
       "<g clip-path=\"url(#clip0900)\">\n",
       "<text style=\"fill:#000000; fill-opacity:1; font-family:Arial,Helvetica Neue,Helvetica,sans-serif; font-size:48px; text-anchor:middle;\" transform=\"rotate(0, 589.96, 1557.47)\" x=\"589.96\" y=\"1557.47\">100</text>\n",
       "</g>\n",
       "<g clip-path=\"url(#clip0900)\">\n",
       "<text style=\"fill:#000000; fill-opacity:1; font-family:Arial,Helvetica Neue,Helvetica,sans-serif; font-size:48px; text-anchor:middle;\" transform=\"rotate(0, 961.109, 1557.47)\" x=\"961.109\" y=\"1557.47\">200</text>\n",
       "</g>\n",
       "<g clip-path=\"url(#clip0900)\">\n",
       "<text style=\"fill:#000000; fill-opacity:1; font-family:Arial,Helvetica Neue,Helvetica,sans-serif; font-size:48px; text-anchor:middle;\" transform=\"rotate(0, 1332.26, 1557.47)\" x=\"1332.26\" y=\"1557.47\">300</text>\n",
       "</g>\n",
       "<g clip-path=\"url(#clip0900)\">\n",
       "<text style=\"fill:#000000; fill-opacity:1; font-family:Arial,Helvetica Neue,Helvetica,sans-serif; font-size:48px; text-anchor:middle;\" transform=\"rotate(0, 1703.41, 1557.47)\" x=\"1703.41\" y=\"1557.47\">400</text>\n",
       "</g>\n",
       "<g clip-path=\"url(#clip0900)\">\n",
       "<text style=\"fill:#000000; fill-opacity:1; font-family:Arial,Helvetica Neue,Helvetica,sans-serif; font-size:48px; text-anchor:middle;\" transform=\"rotate(0, 2074.56, 1557.47)\" x=\"2074.56\" y=\"1557.47\">500</text>\n",
       "</g>\n",
       "<g clip-path=\"url(#clip0900)\">\n",
       "<text style=\"fill:#000000; fill-opacity:1; font-family:Arial,Helvetica Neue,Helvetica,sans-serif; font-size:48px; text-anchor:end;\" transform=\"rotate(0, 137.394, 1308.04)\" x=\"137.394\" y=\"1308.04\">0.2</text>\n",
       "</g>\n",
       "<g clip-path=\"url(#clip0900)\">\n",
       "<text style=\"fill:#000000; fill-opacity:1; font-family:Arial,Helvetica Neue,Helvetica,sans-serif; font-size:48px; text-anchor:end;\" transform=\"rotate(0, 137.394, 964.585)\" x=\"137.394\" y=\"964.585\">0.4</text>\n",
       "</g>\n",
       "<g clip-path=\"url(#clip0900)\">\n",
       "<text style=\"fill:#000000; fill-opacity:1; font-family:Arial,Helvetica Neue,Helvetica,sans-serif; font-size:48px; text-anchor:end;\" transform=\"rotate(0, 137.394, 621.134)\" x=\"137.394\" y=\"621.134\">0.6</text>\n",
       "</g>\n",
       "<g clip-path=\"url(#clip0900)\">\n",
       "<text style=\"fill:#000000; fill-opacity:1; font-family:Arial,Helvetica Neue,Helvetica,sans-serif; font-size:48px; text-anchor:end;\" transform=\"rotate(0, 137.394, 277.683)\" x=\"137.394\" y=\"277.683\">0.8</text>\n",
       "</g>\n",
       "<polyline clip-path=\"url(#clip0902)\" style=\"stroke:#009af9; stroke-width:4; stroke-opacity:1; fill:none\" points=\"\n",
       "  222.522,1462.26 226.234,1448.52 229.945,1435.47 233.657,1423.3 237.368,1412.18 241.08,1402.2 244.791,1393.39 248.503,1385.72 252.214,1379.13 255.926,1373.55 \n",
       "  259.637,1368.86 263.349,1364.95 267.06,1361.72 270.772,1359.07 274.483,1356.9 278.195,1355.13 281.906,1353.7 285.618,1352.54 289.329,1351.6 293.041,1350.85 \n",
       "  296.752,1350.24 300.464,1349.75 304.175,1349.36 307.887,1349.05 311.598,1348.79 315.31,1348.59 319.021,1348.43 322.733,1348.3 326.444,1348.19 330.156,1348.11 \n",
       "  333.867,1348.04 337.579,1347.99 341.29,1347.95 345.002,1347.91 348.713,1347.89 352.425,1347.86 356.136,1347.85 359.848,1347.83 363.559,1347.82 367.271,1347.81 \n",
       "  370.982,1347.81 374.693,1347.8 378.405,1347.8 382.116,1347.79 385.828,1347.79 389.539,1347.79 393.251,1347.78 396.962,1347.78 400.674,1347.78 404.385,1347.78 \n",
       "  408.097,1347.78 411.808,1347.78 415.52,1347.78 419.231,1347.78 422.943,1347.78 426.654,1347.78 430.366,1347.78 434.077,1347.78 437.789,1347.78 441.5,1347.78 \n",
       "  445.212,1347.78 448.923,1347.78 452.635,1347.78 456.346,1347.78 460.058,1347.78 463.769,1347.78 467.481,1347.78 471.192,1347.78 474.904,1347.78 478.615,1347.78 \n",
       "  482.327,1347.78 486.038,1347.78 489.75,1347.78 493.461,1347.78 497.173,1347.78 500.884,1347.78 504.596,1347.78 508.307,1347.78 512.019,1347.78 515.73,1347.78 \n",
       "  519.442,1347.78 523.153,1347.78 526.865,1347.78 530.576,1347.78 534.288,1347.78 537.999,1347.78 541.711,1347.78 545.422,1347.78 549.134,1347.78 552.845,1347.78 \n",
       "  556.557,1347.78 560.268,1347.78 563.98,1347.78 567.691,1347.78 571.403,1347.78 575.114,1347.78 578.826,1347.78 582.537,1347.78 586.249,1347.78 589.96,1347.78 \n",
       "  593.672,1347.78 597.383,1347.78 601.095,1347.78 604.806,1347.78 608.518,1347.78 612.229,1347.78 615.94,1347.78 619.652,1347.78 623.363,1347.78 627.075,1347.78 \n",
       "  630.786,1347.78 634.498,1347.78 638.209,1347.78 641.921,1347.78 645.632,1347.78 649.344,1347.78 653.055,1347.78 656.767,1347.78 660.478,1347.78 664.19,1347.78 \n",
       "  667.901,1347.78 671.613,1347.78 675.324,1347.78 679.036,1347.78 682.747,1347.78 686.459,1347.78 690.17,1347.78 693.882,1347.78 697.593,1347.78 701.305,1347.78 \n",
       "  705.016,1347.78 708.728,1347.78 712.439,1347.78 716.151,1347.78 719.862,1347.78 723.574,1347.78 727.285,1347.78 730.997,1347.78 734.708,1347.78 738.42,1347.78 \n",
       "  742.131,1347.78 745.843,1347.78 749.554,1347.78 753.266,1347.78 756.977,1347.78 760.689,1347.78 764.4,1347.78 768.112,1347.78 771.823,1347.78 775.535,1347.78 \n",
       "  779.246,1347.78 782.958,1347.78 786.669,1347.78 790.381,1347.78 794.092,1347.78 797.804,1347.78 801.515,1347.78 805.227,1347.78 808.938,1347.78 812.65,1347.78 \n",
       "  816.361,1347.78 820.073,1347.78 823.784,1347.78 827.496,1347.78 831.207,1347.78 834.919,1347.78 838.63,1347.78 842.342,1347.78 846.053,1347.78 849.765,1347.78 \n",
       "  853.476,1347.78 857.187,1347.78 860.899,1347.78 864.61,1347.78 868.322,1347.78 872.033,1347.78 875.745,1347.78 879.456,1347.78 883.168,1347.78 886.879,1347.78 \n",
       "  890.591,1347.78 894.302,1347.78 898.014,1347.78 901.725,1347.78 905.437,1347.78 909.148,1347.78 912.86,1347.78 916.571,1347.78 920.283,1347.78 923.994,1347.78 \n",
       "  927.706,1347.78 931.417,1347.78 935.129,1347.78 938.84,1347.78 942.552,1347.78 946.263,1347.78 949.975,1347.78 953.686,1347.78 957.398,1347.78 961.109,1347.78 \n",
       "  964.821,1347.78 968.532,1347.78 972.244,1347.78 975.955,1347.78 979.667,1347.78 983.378,1347.78 987.09,1347.78 990.801,1347.78 994.513,1347.78 998.224,1347.78 \n",
       "  1001.94,1347.78 1005.65,1347.78 1009.36,1347.78 1013.07,1347.78 1016.78,1347.78 1020.49,1347.78 1024.2,1347.78 1027.92,1347.78 1031.63,1347.78 1035.34,1347.78 \n",
       "  1039.05,1347.78 1042.76,1347.78 1046.47,1347.78 1050.19,1347.78 1053.9,1347.78 1057.61,1347.78 1061.32,1347.78 1065.03,1347.78 1068.74,1347.78 1072.45,1347.78 \n",
       "  1076.17,1347.78 1079.88,1347.78 1083.59,1347.78 1087.3,1347.78 1091.01,1347.78 1094.72,1347.78 1098.43,1347.78 1102.15,1347.78 1105.86,1347.78 1109.57,1347.78 \n",
       "  1113.28,1347.78 1116.99,1347.78 1120.7,1347.78 1124.41,1347.78 1128.13,1347.78 1131.84,1347.78 1135.55,1347.78 1139.26,1347.78 1142.97,1347.78 1146.68,1347.78 \n",
       "  1150.4,1347.78 1154.11,1347.78 1157.82,1347.78 1161.53,1347.78 1165.24,1347.78 1168.95,1347.78 1172.66,1347.78 1176.38,1347.78 1180.09,1347.78 1183.8,1347.78 \n",
       "  1187.51,1347.78 1191.22,1347.78 1194.93,1347.78 1198.64,1347.78 1202.36,1347.78 1206.07,1347.78 1209.78,1347.78 1213.49,1347.78 1217.2,1347.78 1220.91,1347.78 \n",
       "  1224.63,1347.78 1228.34,1347.78 1232.05,1347.78 1235.76,1347.78 1239.47,1347.78 1243.18,1347.78 1246.89,1347.78 1250.61,1347.78 1254.32,1347.78 1258.03,1347.78 \n",
       "  1261.74,1347.78 1265.45,1347.78 1269.16,1347.78 1272.87,1347.78 1276.59,1347.78 1280.3,1347.78 1284.01,1347.78 1287.72,1347.78 1291.43,1347.78 1295.14,1347.78 \n",
       "  1298.86,1347.78 1302.57,1347.78 1306.28,1347.78 1309.99,1347.78 1313.7,1347.78 1317.41,1347.78 1321.12,1347.78 1324.84,1347.78 1328.55,1347.78 1332.26,1347.78 \n",
       "  1335.97,1347.78 1339.68,1347.78 1343.39,1347.78 1347.1,1347.78 1350.82,1347.78 1354.53,1347.78 1358.24,1347.78 1361.95,1347.78 1365.66,1347.78 1369.37,1347.78 \n",
       "  1373.08,1347.78 1376.8,1347.78 1380.51,1347.78 1384.22,1347.78 1387.93,1347.78 1391.64,1347.78 1395.35,1347.78 1399.07,1347.78 1402.78,1347.78 1406.49,1347.78 \n",
       "  1410.2,1347.78 1413.91,1347.78 1417.62,1347.78 1421.33,1347.78 1425.05,1347.78 1428.76,1347.78 1432.47,1347.78 1436.18,1347.78 1439.89,1347.78 1443.6,1347.78 \n",
       "  1447.31,1347.78 1451.03,1347.78 1454.74,1347.78 1458.45,1347.78 1462.16,1347.78 1465.87,1347.78 1469.58,1347.78 1473.3,1347.78 1477.01,1347.78 1480.72,1347.78 \n",
       "  1484.43,1347.78 1488.14,1347.78 1491.85,1347.78 1495.56,1347.78 1499.28,1347.78 1502.99,1347.78 1506.7,1347.78 1510.41,1347.78 1514.12,1347.78 1517.83,1347.78 \n",
       "  1521.54,1347.78 1525.26,1347.78 1528.97,1347.78 1532.68,1347.78 1536.39,1347.78 1540.1,1347.78 1543.81,1347.78 1547.53,1347.78 1551.24,1347.78 1554.95,1347.78 \n",
       "  1558.66,1347.78 1562.37,1347.78 1566.08,1347.78 1569.79,1347.78 1573.51,1347.78 1577.22,1347.78 1580.93,1347.78 1584.64,1347.78 1588.35,1347.78 1592.06,1347.78 \n",
       "  1595.77,1347.78 1599.49,1347.78 1603.2,1347.78 1606.91,1347.78 1610.62,1347.78 1614.33,1347.78 1618.04,1347.78 1621.75,1347.78 1625.47,1347.78 1629.18,1347.78 \n",
       "  1632.89,1347.78 1636.6,1347.78 1640.31,1347.78 1644.02,1347.78 1647.74,1347.78 1651.45,1347.78 1655.16,1347.78 1658.87,1347.78 1662.58,1347.78 1666.29,1347.78 \n",
       "  1670,1347.78 1673.72,1347.78 1677.43,1347.78 1681.14,1347.78 1684.85,1347.78 1688.56,1347.78 1692.27,1347.78 1695.98,1347.78 1699.7,1347.78 1703.41,1347.78 \n",
       "  1707.12,1347.78 1710.83,1347.78 1714.54,1347.78 1718.25,1347.78 1721.97,1347.78 1725.68,1347.78 1729.39,1347.78 1733.1,1347.78 1736.81,1347.78 1740.52,1347.78 \n",
       "  1744.23,1347.78 1747.95,1347.78 1751.66,1347.78 1755.37,1347.78 1759.08,1347.78 1762.79,1347.78 1766.5,1347.78 1770.21,1347.78 1773.93,1347.78 1777.64,1347.78 \n",
       "  1781.35,1347.78 1785.06,1347.78 1788.77,1347.78 1792.48,1347.78 1796.2,1347.78 1799.91,1347.78 1803.62,1347.78 1807.33,1347.78 1811.04,1347.78 1814.75,1347.78 \n",
       "  1818.46,1347.78 1822.18,1347.78 1825.89,1347.78 1829.6,1347.78 1833.31,1347.78 1837.02,1347.78 1840.73,1347.78 1844.44,1347.78 1848.16,1347.78 1851.87,1347.78 \n",
       "  1855.58,1347.78 1859.29,1347.78 1863,1347.78 1866.71,1347.78 1870.42,1347.78 1874.14,1347.78 1877.85,1347.78 1881.56,1347.78 1885.27,1347.78 1888.98,1347.78 \n",
       "  1892.69,1347.78 1896.41,1347.78 1900.12,1347.78 1903.83,1347.78 1907.54,1347.78 1911.25,1347.78 1914.96,1347.78 1918.67,1347.78 1922.39,1347.78 1926.1,1347.78 \n",
       "  1929.81,1347.78 1933.52,1347.78 1937.23,1347.78 1940.94,1347.78 1944.65,1347.78 1948.37,1347.78 1952.08,1347.78 1955.79,1347.78 1959.5,1347.78 1963.21,1347.78 \n",
       "  1966.92,1347.78 1970.64,1347.78 1974.35,1347.78 1978.06,1347.78 1981.77,1347.78 1985.48,1347.78 1989.19,1347.78 1992.9,1347.78 1996.62,1347.78 2000.33,1347.78 \n",
       "  2004.04,1347.78 2007.75,1347.78 2011.46,1347.78 2015.17,1347.78 2018.88,1347.78 2022.6,1347.78 2026.31,1347.78 2030.02,1347.78 2033.73,1347.78 2037.44,1347.78 \n",
       "  2041.15,1347.78 2044.87,1347.78 2048.58,1347.78 2052.29,1347.78 2056,1347.78 2059.71,1347.78 2063.42,1347.78 2067.13,1347.78 2070.85,1347.78 2074.56,1347.78 \n",
       "  2078.27,1347.78 2081.98,1347.78 2085.69,1347.78 2089.4,1347.78 2093.11,1347.78 2096.83,1347.78 2100.54,1347.78 2104.25,1347.78 2107.96,1347.78 2111.67,1347.78 \n",
       "  2115.38,1347.78 2119.09,1347.78 2122.81,1347.78 2126.52,1347.78 2130.23,1347.78 2133.94,1347.78 2137.65,1347.78 2141.36,1347.78 2145.08,1347.78 2148.79,1347.78 \n",
       "  2152.5,1347.78 2156.21,1347.78 2159.92,1347.78 2163.63,1347.78 2167.34,1347.78 2171.06,1347.78 2174.77,1347.78 2178.48,1347.78 2182.19,1347.78 2185.9,1347.78 \n",
       "  2189.61,1347.78 2193.32,1347.78 2197.04,1347.78 2200.75,1347.78 2204.46,1347.78 2208.17,1347.78 2211.88,1347.78 2215.59,1347.78 2219.31,1347.78 2223.02,1347.78 \n",
       "  2226.73,1347.78 2230.44,1347.78 2234.15,1347.78 2237.86,1347.78 2241.57,1347.78 2245.29,1347.78 2249,1347.78 2252.71,1347.78 2256.42,1347.78 2260.13,1347.78 \n",
       "  \n",
       "  \"/>\n",
       "<polyline clip-path=\"url(#clip0902)\" style=\"stroke:#e26f46; stroke-width:4; stroke-opacity:1; fill:none\" points=\"\n",
       "  222.522,1462.26 226.234,1355.79 229.945,1214.36 233.657,1063.23 237.368,948.083 241.08,892.493 244.791,875.603 248.503,871.755 252.214,870.962 255.926,870.802 \n",
       "  259.637,870.77 263.349,870.764 267.06,870.763 270.772,870.762 274.483,870.762 278.195,870.762 281.906,870.762 285.618,870.762 289.329,870.762 293.041,870.762 \n",
       "  296.752,870.762 300.464,870.762 304.175,870.762 307.887,870.762 311.598,870.762 315.31,870.762 319.021,870.762 322.733,870.762 326.444,870.762 330.156,870.762 \n",
       "  333.867,870.762 337.579,870.762 341.29,870.762 345.002,870.762 348.713,870.762 352.425,870.762 356.136,870.762 359.848,870.762 363.559,870.762 367.271,870.762 \n",
       "  370.982,870.762 374.693,870.762 378.405,870.762 382.116,870.762 385.828,870.762 389.539,870.762 393.251,870.762 396.962,870.762 400.674,870.762 404.385,870.762 \n",
       "  408.097,870.762 411.808,870.762 415.52,870.762 419.231,870.762 422.943,870.762 426.654,870.762 430.366,870.762 434.077,870.762 437.789,870.762 441.5,870.762 \n",
       "  445.212,870.762 448.923,870.762 452.635,870.762 456.346,870.762 460.058,870.762 463.769,870.762 467.481,870.762 471.192,870.762 474.904,870.762 478.615,870.762 \n",
       "  482.327,870.762 486.038,870.762 489.75,870.762 493.461,870.762 497.173,870.762 500.884,870.762 504.596,870.762 508.307,870.762 512.019,870.762 515.73,870.762 \n",
       "  519.442,870.762 523.153,870.762 526.865,870.762 530.576,870.762 534.288,870.762 537.999,870.762 541.711,870.762 545.422,870.762 549.134,870.762 552.845,870.762 \n",
       "  556.557,870.762 560.268,870.762 563.98,870.762 567.691,870.762 571.403,870.762 575.114,870.762 578.826,870.762 582.537,870.762 586.249,870.762 589.96,870.762 \n",
       "  593.672,870.762 597.383,870.762 601.095,870.762 604.806,870.762 608.518,870.762 612.229,870.762 615.94,870.762 619.652,870.762 623.363,870.762 627.075,870.762 \n",
       "  630.786,870.762 634.498,870.762 638.209,870.762 641.921,870.762 645.632,870.762 649.344,870.762 653.055,870.762 656.767,870.762 660.478,870.762 664.19,870.762 \n",
       "  667.901,870.762 671.613,870.762 675.324,870.762 679.036,870.762 682.747,870.762 686.459,870.762 690.17,870.762 693.882,870.762 697.593,870.762 701.305,870.762 \n",
       "  705.016,870.762 708.728,870.762 712.439,870.762 716.151,870.762 719.862,870.762 723.574,870.762 727.285,870.762 730.997,870.762 734.708,870.762 738.42,870.762 \n",
       "  742.131,870.762 745.843,870.762 749.554,870.762 753.266,870.762 756.977,870.762 760.689,870.762 764.4,870.762 768.112,870.762 771.823,870.762 775.535,870.762 \n",
       "  779.246,870.762 782.958,870.762 786.669,870.762 790.381,870.762 794.092,870.762 797.804,870.762 801.515,870.762 805.227,870.762 808.938,870.762 812.65,870.762 \n",
       "  816.361,870.762 820.073,870.762 823.784,870.762 827.496,870.762 831.207,870.762 834.919,870.762 838.63,870.762 842.342,870.762 846.053,870.762 849.765,870.762 \n",
       "  853.476,870.762 857.187,870.762 860.899,870.762 864.61,870.762 868.322,870.762 872.033,870.762 875.745,870.762 879.456,870.762 883.168,870.762 886.879,870.762 \n",
       "  890.591,870.762 894.302,870.762 898.014,870.762 901.725,870.762 905.437,870.762 909.148,870.762 912.86,870.762 916.571,870.762 920.283,870.762 923.994,870.762 \n",
       "  927.706,870.762 931.417,870.762 935.129,870.762 938.84,870.762 942.552,870.762 946.263,870.762 949.975,870.762 953.686,870.762 957.398,870.762 961.109,870.762 \n",
       "  964.821,870.762 968.532,870.762 972.244,870.762 975.955,870.762 979.667,870.762 983.378,870.762 987.09,870.762 990.801,870.762 994.513,870.762 998.224,870.762 \n",
       "  1001.94,870.762 1005.65,870.762 1009.36,870.762 1013.07,870.762 1016.78,870.762 1020.49,870.762 1024.2,870.762 1027.92,870.762 1031.63,870.762 1035.34,870.762 \n",
       "  1039.05,870.762 1042.76,870.762 1046.47,870.762 1050.19,870.762 1053.9,870.762 1057.61,870.762 1061.32,870.762 1065.03,870.762 1068.74,870.762 1072.45,870.762 \n",
       "  1076.17,870.762 1079.88,870.762 1083.59,870.762 1087.3,870.762 1091.01,870.762 1094.72,870.762 1098.43,870.762 1102.15,870.762 1105.86,870.762 1109.57,870.762 \n",
       "  1113.28,870.762 1116.99,870.762 1120.7,870.762 1124.41,870.762 1128.13,870.762 1131.84,870.762 1135.55,870.762 1139.26,870.762 1142.97,870.762 1146.68,870.762 \n",
       "  1150.4,870.762 1154.11,870.762 1157.82,870.762 1161.53,870.762 1165.24,870.762 1168.95,870.762 1172.66,870.762 1176.38,870.762 1180.09,870.762 1183.8,870.762 \n",
       "  1187.51,870.762 1191.22,870.762 1194.93,870.762 1198.64,870.762 1202.36,870.762 1206.07,870.762 1209.78,870.762 1213.49,870.762 1217.2,870.762 1220.91,870.762 \n",
       "  1224.63,870.762 1228.34,870.762 1232.05,870.762 1235.76,870.762 1239.47,870.762 1243.18,870.762 1246.89,870.762 1250.61,870.762 1254.32,870.762 1258.03,870.762 \n",
       "  1261.74,870.762 1265.45,870.762 1269.16,870.762 1272.87,870.762 1276.59,870.762 1280.3,870.762 1284.01,870.762 1287.72,870.762 1291.43,870.762 1295.14,870.762 \n",
       "  1298.86,870.762 1302.57,870.762 1306.28,870.762 1309.99,870.762 1313.7,870.762 1317.41,870.762 1321.12,870.762 1324.84,870.762 1328.55,870.762 1332.26,870.762 \n",
       "  1335.97,870.762 1339.68,870.762 1343.39,870.762 1347.1,870.762 1350.82,870.762 1354.53,870.762 1358.24,870.762 1361.95,870.762 1365.66,870.762 1369.37,870.762 \n",
       "  1373.08,870.762 1376.8,870.762 1380.51,870.762 1384.22,870.762 1387.93,870.762 1391.64,870.762 1395.35,870.762 1399.07,870.762 1402.78,870.762 1406.49,870.762 \n",
       "  1410.2,870.762 1413.91,870.762 1417.62,870.762 1421.33,870.762 1425.05,870.762 1428.76,870.762 1432.47,870.762 1436.18,870.762 1439.89,870.762 1443.6,870.762 \n",
       "  1447.31,870.762 1451.03,870.762 1454.74,870.762 1458.45,870.762 1462.16,870.762 1465.87,870.762 1469.58,870.762 1473.3,870.762 1477.01,870.762 1480.72,870.762 \n",
       "  1484.43,870.762 1488.14,870.762 1491.85,870.762 1495.56,870.762 1499.28,870.762 1502.99,870.762 1506.7,870.762 1510.41,870.762 1514.12,870.762 1517.83,870.762 \n",
       "  1521.54,870.762 1525.26,870.762 1528.97,870.762 1532.68,870.762 1536.39,870.762 1540.1,870.762 1543.81,870.762 1547.53,870.762 1551.24,870.762 1554.95,870.762 \n",
       "  1558.66,870.762 1562.37,870.762 1566.08,870.762 1569.79,870.762 1573.51,870.762 1577.22,870.762 1580.93,870.762 1584.64,870.762 1588.35,870.762 1592.06,870.762 \n",
       "  1595.77,870.762 1599.49,870.762 1603.2,870.762 1606.91,870.762 1610.62,870.762 1614.33,870.762 1618.04,870.762 1621.75,870.762 1625.47,870.762 1629.18,870.762 \n",
       "  1632.89,870.762 1636.6,870.762 1640.31,870.762 1644.02,870.762 1647.74,870.762 1651.45,870.762 1655.16,870.762 1658.87,870.762 1662.58,870.762 1666.29,870.762 \n",
       "  1670,870.762 1673.72,870.762 1677.43,870.762 1681.14,870.762 1684.85,870.762 1688.56,870.762 1692.27,870.762 1695.98,870.762 1699.7,870.762 1703.41,870.762 \n",
       "  1707.12,870.762 1710.83,870.762 1714.54,870.762 1718.25,870.762 1721.97,870.762 1725.68,870.762 1729.39,870.762 1733.1,870.762 1736.81,870.762 1740.52,870.762 \n",
       "  1744.23,870.762 1747.95,870.762 1751.66,870.762 1755.37,870.762 1759.08,870.762 1762.79,870.762 1766.5,870.762 1770.21,870.762 1773.93,870.762 1777.64,870.762 \n",
       "  1781.35,870.762 1785.06,870.762 1788.77,870.762 1792.48,870.762 1796.2,870.762 1799.91,870.762 1803.62,870.762 1807.33,870.762 1811.04,870.762 1814.75,870.762 \n",
       "  1818.46,870.762 1822.18,870.762 1825.89,870.762 1829.6,870.762 1833.31,870.762 1837.02,870.762 1840.73,870.762 1844.44,870.762 1848.16,870.762 1851.87,870.762 \n",
       "  1855.58,870.762 1859.29,870.762 1863,870.762 1866.71,870.762 1870.42,870.762 1874.14,870.762 1877.85,870.762 1881.56,870.762 1885.27,870.762 1888.98,870.762 \n",
       "  1892.69,870.762 1896.41,870.762 1900.12,870.762 1903.83,870.762 1907.54,870.762 1911.25,870.762 1914.96,870.762 1918.67,870.762 1922.39,870.762 1926.1,870.762 \n",
       "  1929.81,870.762 1933.52,870.762 1937.23,870.762 1940.94,870.762 1944.65,870.762 1948.37,870.762 1952.08,870.762 1955.79,870.762 1959.5,870.762 1963.21,870.762 \n",
       "  1966.92,870.762 1970.64,870.762 1974.35,870.762 1978.06,870.762 1981.77,870.762 1985.48,870.762 1989.19,870.762 1992.9,870.762 1996.62,870.762 2000.33,870.762 \n",
       "  2004.04,870.762 2007.75,870.762 2011.46,870.762 2015.17,870.762 2018.88,870.762 2022.6,870.762 2026.31,870.762 2030.02,870.762 2033.73,870.762 2037.44,870.762 \n",
       "  2041.15,870.762 2044.87,870.762 2048.58,870.762 2052.29,870.762 2056,870.762 2059.71,870.762 2063.42,870.762 2067.13,870.762 2070.85,870.762 2074.56,870.762 \n",
       "  2078.27,870.762 2081.98,870.762 2085.69,870.762 2089.4,870.762 2093.11,870.762 2096.83,870.762 2100.54,870.762 2104.25,870.762 2107.96,870.762 2111.67,870.762 \n",
       "  2115.38,870.762 2119.09,870.762 2122.81,870.762 2126.52,870.762 2130.23,870.762 2133.94,870.762 2137.65,870.762 2141.36,870.762 2145.08,870.762 2148.79,870.762 \n",
       "  2152.5,870.762 2156.21,870.762 2159.92,870.762 2163.63,870.762 2167.34,870.762 2171.06,870.762 2174.77,870.762 2178.48,870.762 2182.19,870.762 2185.9,870.762 \n",
       "  2189.61,870.762 2193.32,870.762 2197.04,870.762 2200.75,870.762 2204.46,870.762 2208.17,870.762 2211.88,870.762 2215.59,870.762 2219.31,870.762 2223.02,870.762 \n",
       "  2226.73,870.762 2230.44,870.762 2234.15,870.762 2237.86,870.762 2241.57,870.762 2245.29,870.762 2249,870.762 2252.71,870.762 2256.42,870.762 2260.13,870.762 \n",
       "  \n",
       "  \"/>\n",
       "<polyline clip-path=\"url(#clip0902)\" style=\"stroke:#3da44d; stroke-width:4; stroke-opacity:1; fill:none\" points=\"\n",
       "  222.522,1462.26 226.234,1263.06 229.945,936.05 233.657,639.722 237.368,629.346 241.08,633.43 244.791,631.787 248.503,632.442 252.214,632.18 255.926,632.285 \n",
       "  259.637,632.243 263.349,632.26 267.06,632.253 270.772,632.256 274.483,632.255 278.195,632.255 281.906,632.255 285.618,632.255 289.329,632.255 293.041,632.255 \n",
       "  296.752,632.255 300.464,632.255 304.175,632.255 307.887,632.255 311.598,632.255 315.31,632.255 319.021,632.255 322.733,632.255 326.444,632.255 330.156,632.255 \n",
       "  333.867,632.255 337.579,632.255 341.29,632.255 345.002,632.255 348.713,632.255 352.425,632.255 356.136,632.255 359.848,632.255 363.559,632.255 367.271,632.255 \n",
       "  370.982,632.255 374.693,632.255 378.405,632.255 382.116,632.255 385.828,632.255 389.539,632.255 393.251,632.255 396.962,632.255 400.674,632.255 404.385,632.255 \n",
       "  408.097,632.255 411.808,632.255 415.52,632.255 419.231,632.255 422.943,632.255 426.654,632.255 430.366,632.255 434.077,632.255 437.789,632.255 441.5,632.255 \n",
       "  445.212,632.255 448.923,632.255 452.635,632.255 456.346,632.255 460.058,632.255 463.769,632.255 467.481,632.255 471.192,632.255 474.904,632.255 478.615,632.255 \n",
       "  482.327,632.255 486.038,632.255 489.75,632.255 493.461,632.255 497.173,632.255 500.884,632.255 504.596,632.255 508.307,632.255 512.019,632.255 515.73,632.255 \n",
       "  519.442,632.255 523.153,632.255 526.865,632.255 530.576,632.255 534.288,632.255 537.999,632.255 541.711,632.255 545.422,632.255 549.134,632.255 552.845,632.255 \n",
       "  556.557,632.255 560.268,632.255 563.98,632.255 567.691,632.255 571.403,632.255 575.114,632.255 578.826,632.255 582.537,632.255 586.249,632.255 589.96,632.255 \n",
       "  593.672,632.255 597.383,632.255 601.095,632.255 604.806,632.255 608.518,632.255 612.229,632.255 615.94,632.255 619.652,632.255 623.363,632.255 627.075,632.255 \n",
       "  630.786,632.255 634.498,632.255 638.209,632.255 641.921,632.255 645.632,632.255 649.344,632.255 653.055,632.255 656.767,632.255 660.478,632.255 664.19,632.255 \n",
       "  667.901,632.255 671.613,632.255 675.324,632.255 679.036,632.255 682.747,632.255 686.459,632.255 690.17,632.255 693.882,632.255 697.593,632.255 701.305,632.255 \n",
       "  705.016,632.255 708.728,632.255 712.439,632.255 716.151,632.255 719.862,632.255 723.574,632.255 727.285,632.255 730.997,632.255 734.708,632.255 738.42,632.255 \n",
       "  742.131,632.255 745.843,632.255 749.554,632.255 753.266,632.255 756.977,632.255 760.689,632.255 764.4,632.255 768.112,632.255 771.823,632.255 775.535,632.255 \n",
       "  779.246,632.255 782.958,632.255 786.669,632.255 790.381,632.255 794.092,632.255 797.804,632.255 801.515,632.255 805.227,632.255 808.938,632.255 812.65,632.255 \n",
       "  816.361,632.255 820.073,632.255 823.784,632.255 827.496,632.255 831.207,632.255 834.919,632.255 838.63,632.255 842.342,632.255 846.053,632.255 849.765,632.255 \n",
       "  853.476,632.255 857.187,632.255 860.899,632.255 864.61,632.255 868.322,632.255 872.033,632.255 875.745,632.255 879.456,632.255 883.168,632.255 886.879,632.255 \n",
       "  890.591,632.255 894.302,632.255 898.014,632.255 901.725,632.255 905.437,632.255 909.148,632.255 912.86,632.255 916.571,632.255 920.283,632.255 923.994,632.255 \n",
       "  927.706,632.255 931.417,632.255 935.129,632.255 938.84,632.255 942.552,632.255 946.263,632.255 949.975,632.255 953.686,632.255 957.398,632.255 961.109,632.255 \n",
       "  964.821,632.255 968.532,632.255 972.244,632.255 975.955,632.255 979.667,632.255 983.378,632.255 987.09,632.255 990.801,632.255 994.513,632.255 998.224,632.255 \n",
       "  1001.94,632.255 1005.65,632.255 1009.36,632.255 1013.07,632.255 1016.78,632.255 1020.49,632.255 1024.2,632.255 1027.92,632.255 1031.63,632.255 1035.34,632.255 \n",
       "  1039.05,632.255 1042.76,632.255 1046.47,632.255 1050.19,632.255 1053.9,632.255 1057.61,632.255 1061.32,632.255 1065.03,632.255 1068.74,632.255 1072.45,632.255 \n",
       "  1076.17,632.255 1079.88,632.255 1083.59,632.255 1087.3,632.255 1091.01,632.255 1094.72,632.255 1098.43,632.255 1102.15,632.255 1105.86,632.255 1109.57,632.255 \n",
       "  1113.28,632.255 1116.99,632.255 1120.7,632.255 1124.41,632.255 1128.13,632.255 1131.84,632.255 1135.55,632.255 1139.26,632.255 1142.97,632.255 1146.68,632.255 \n",
       "  1150.4,632.255 1154.11,632.255 1157.82,632.255 1161.53,632.255 1165.24,632.255 1168.95,632.255 1172.66,632.255 1176.38,632.255 1180.09,632.255 1183.8,632.255 \n",
       "  1187.51,632.255 1191.22,632.255 1194.93,632.255 1198.64,632.255 1202.36,632.255 1206.07,632.255 1209.78,632.255 1213.49,632.255 1217.2,632.255 1220.91,632.255 \n",
       "  1224.63,632.255 1228.34,632.255 1232.05,632.255 1235.76,632.255 1239.47,632.255 1243.18,632.255 1246.89,632.255 1250.61,632.255 1254.32,632.255 1258.03,632.255 \n",
       "  1261.74,632.255 1265.45,632.255 1269.16,632.255 1272.87,632.255 1276.59,632.255 1280.3,632.255 1284.01,632.255 1287.72,632.255 1291.43,632.255 1295.14,632.255 \n",
       "  1298.86,632.255 1302.57,632.255 1306.28,632.255 1309.99,632.255 1313.7,632.255 1317.41,632.255 1321.12,632.255 1324.84,632.255 1328.55,632.255 1332.26,632.255 \n",
       "  1335.97,632.255 1339.68,632.255 1343.39,632.255 1347.1,632.255 1350.82,632.255 1354.53,632.255 1358.24,632.255 1361.95,632.255 1365.66,632.255 1369.37,632.255 \n",
       "  1373.08,632.255 1376.8,632.255 1380.51,632.255 1384.22,632.255 1387.93,632.255 1391.64,632.255 1395.35,632.255 1399.07,632.255 1402.78,632.255 1406.49,632.255 \n",
       "  1410.2,632.255 1413.91,632.255 1417.62,632.255 1421.33,632.255 1425.05,632.255 1428.76,632.255 1432.47,632.255 1436.18,632.255 1439.89,632.255 1443.6,632.255 \n",
       "  1447.31,632.255 1451.03,632.255 1454.74,632.255 1458.45,632.255 1462.16,632.255 1465.87,632.255 1469.58,632.255 1473.3,632.255 1477.01,632.255 1480.72,632.255 \n",
       "  1484.43,632.255 1488.14,632.255 1491.85,632.255 1495.56,632.255 1499.28,632.255 1502.99,632.255 1506.7,632.255 1510.41,632.255 1514.12,632.255 1517.83,632.255 \n",
       "  1521.54,632.255 1525.26,632.255 1528.97,632.255 1532.68,632.255 1536.39,632.255 1540.1,632.255 1543.81,632.255 1547.53,632.255 1551.24,632.255 1554.95,632.255 \n",
       "  1558.66,632.255 1562.37,632.255 1566.08,632.255 1569.79,632.255 1573.51,632.255 1577.22,632.255 1580.93,632.255 1584.64,632.255 1588.35,632.255 1592.06,632.255 \n",
       "  1595.77,632.255 1599.49,632.255 1603.2,632.255 1606.91,632.255 1610.62,632.255 1614.33,632.255 1618.04,632.255 1621.75,632.255 1625.47,632.255 1629.18,632.255 \n",
       "  1632.89,632.255 1636.6,632.255 1640.31,632.255 1644.02,632.255 1647.74,632.255 1651.45,632.255 1655.16,632.255 1658.87,632.255 1662.58,632.255 1666.29,632.255 \n",
       "  1670,632.255 1673.72,632.255 1677.43,632.255 1681.14,632.255 1684.85,632.255 1688.56,632.255 1692.27,632.255 1695.98,632.255 1699.7,632.255 1703.41,632.255 \n",
       "  1707.12,632.255 1710.83,632.255 1714.54,632.255 1718.25,632.255 1721.97,632.255 1725.68,632.255 1729.39,632.255 1733.1,632.255 1736.81,632.255 1740.52,632.255 \n",
       "  1744.23,632.255 1747.95,632.255 1751.66,632.255 1755.37,632.255 1759.08,632.255 1762.79,632.255 1766.5,632.255 1770.21,632.255 1773.93,632.255 1777.64,632.255 \n",
       "  1781.35,632.255 1785.06,632.255 1788.77,632.255 1792.48,632.255 1796.2,632.255 1799.91,632.255 1803.62,632.255 1807.33,632.255 1811.04,632.255 1814.75,632.255 \n",
       "  1818.46,632.255 1822.18,632.255 1825.89,632.255 1829.6,632.255 1833.31,632.255 1837.02,632.255 1840.73,632.255 1844.44,632.255 1848.16,632.255 1851.87,632.255 \n",
       "  1855.58,632.255 1859.29,632.255 1863,632.255 1866.71,632.255 1870.42,632.255 1874.14,632.255 1877.85,632.255 1881.56,632.255 1885.27,632.255 1888.98,632.255 \n",
       "  1892.69,632.255 1896.41,632.255 1900.12,632.255 1903.83,632.255 1907.54,632.255 1911.25,632.255 1914.96,632.255 1918.67,632.255 1922.39,632.255 1926.1,632.255 \n",
       "  1929.81,632.255 1933.52,632.255 1937.23,632.255 1940.94,632.255 1944.65,632.255 1948.37,632.255 1952.08,632.255 1955.79,632.255 1959.5,632.255 1963.21,632.255 \n",
       "  1966.92,632.255 1970.64,632.255 1974.35,632.255 1978.06,632.255 1981.77,632.255 1985.48,632.255 1989.19,632.255 1992.9,632.255 1996.62,632.255 2000.33,632.255 \n",
       "  2004.04,632.255 2007.75,632.255 2011.46,632.255 2015.17,632.255 2018.88,632.255 2022.6,632.255 2026.31,632.255 2030.02,632.255 2033.73,632.255 2037.44,632.255 \n",
       "  2041.15,632.255 2044.87,632.255 2048.58,632.255 2052.29,632.255 2056,632.255 2059.71,632.255 2063.42,632.255 2067.13,632.255 2070.85,632.255 2074.56,632.255 \n",
       "  2078.27,632.255 2081.98,632.255 2085.69,632.255 2089.4,632.255 2093.11,632.255 2096.83,632.255 2100.54,632.255 2104.25,632.255 2107.96,632.255 2111.67,632.255 \n",
       "  2115.38,632.255 2119.09,632.255 2122.81,632.255 2126.52,632.255 2130.23,632.255 2133.94,632.255 2137.65,632.255 2141.36,632.255 2145.08,632.255 2148.79,632.255 \n",
       "  2152.5,632.255 2156.21,632.255 2159.92,632.255 2163.63,632.255 2167.34,632.255 2171.06,632.255 2174.77,632.255 2178.48,632.255 2182.19,632.255 2185.9,632.255 \n",
       "  2189.61,632.255 2193.32,632.255 2197.04,632.255 2200.75,632.255 2204.46,632.255 2208.17,632.255 2211.88,632.255 2215.59,632.255 2219.31,632.255 2223.02,632.255 \n",
       "  2226.73,632.255 2230.44,632.255 2234.15,632.255 2237.86,632.255 2241.57,632.255 2245.29,632.255 2249,632.255 2252.71,632.255 2256.42,632.255 2260.13,632.255 \n",
       "  \n",
       "  \"/>\n",
       "<polyline clip-path=\"url(#clip0902)\" style=\"stroke:#c271d2; stroke-width:4; stroke-opacity:1; fill:none\" points=\"\n",
       "  222.522,1462.26 226.234,1170.33 229.945,618.574 233.657,388.989 237.368,606.837 241.08,395.659 244.791,597.911 248.503,401.055 252.214,590.804 255.926,405.549 \n",
       "  259.637,584.962 263.349,409.376 267.06,580.043 270.772,412.691 274.483,575.823 278.195,415.601 281.906,572.15 285.618,418.186 289.329,568.913 293.041,420.502 \n",
       "  296.752,566.031 300.464,422.595 304.175,563.444 307.887,424.499 311.598,561.103 315.31,426.242 319.021,558.972 322.733,427.845 326.444,557.021 330.156,429.327 \n",
       "  333.867,555.226 337.579,430.702 341.29,553.567 345.002,431.983 348.713,552.027 352.425,433.18 356.136,550.593 359.848,434.303 363.559,549.253 367.271,435.358 \n",
       "  370.982,547.998 374.693,436.353 378.405,546.818 382.116,437.293 385.828,545.706 389.539,438.182 393.251,544.657 396.962,439.027 400.674,543.663 404.385,439.829 \n",
       "  408.097,542.722 411.808,440.593 415.52,541.827 419.231,441.321 422.943,540.976 426.654,442.017 430.366,540.165 434.077,442.682 437.789,539.391 441.5,443.32 \n",
       "  445.212,538.65 448.923,443.931 452.635,537.942 456.346,444.518 460.058,537.263 463.769,445.081 467.481,536.612 471.192,445.624 474.904,535.987 478.615,446.146 \n",
       "  482.327,535.385 486.038,446.65 489.75,534.806 493.461,447.136 497.173,534.249 500.884,447.605 504.596,533.711 508.307,448.059 512.019,533.192 515.73,448.498 \n",
       "  519.442,532.69 523.153,448.922 526.865,532.206 530.576,449.334 534.288,531.737 537.999,449.732 541.711,531.283 545.422,450.119 549.134,530.843 552.845,450.494 \n",
       "  556.557,530.417 560.268,450.859 563.98,530.003 567.691,451.213 571.403,529.602 575.114,451.557 578.826,529.212 582.537,451.892 586.249,528.834 589.96,452.218 \n",
       "  593.672,528.465 597.383,452.536 601.095,528.107 604.806,452.845 608.518,527.759 612.229,453.146 615.94,527.419 619.652,453.44 623.363,527.089 627.075,453.727 \n",
       "  630.786,526.766 634.498,454.006 638.209,526.452 641.921,454.279 645.632,526.146 649.344,454.546 653.055,525.847 656.767,454.807 660.478,525.555 664.19,455.061 \n",
       "  667.901,525.269 671.613,455.31 675.324,524.991 679.036,455.554 682.747,524.719 686.459,455.792 690.17,524.453 693.882,456.025 697.593,524.192 701.305,456.254 \n",
       "  705.016,523.938 708.728,456.477 712.439,523.689 716.151,456.696 719.862,523.445 723.574,456.911 727.285,523.206 730.997,457.121 734.708,522.972 738.42,457.327 \n",
       "  742.131,522.743 745.843,457.529 749.554,522.518 753.266,457.728 756.977,522.298 760.689,457.922 764.4,522.082 768.112,458.113 771.823,521.87 775.535,458.301 \n",
       "  779.246,521.663 782.958,458.485 786.669,521.459 790.381,458.665 794.092,521.259 797.804,458.843 801.515,521.062 805.227,459.017 808.938,520.87 812.65,459.189 \n",
       "  816.361,520.68 820.073,459.357 823.784,520.494 827.496,459.523 831.207,520.311 834.919,459.686 838.63,520.132 842.342,459.846 846.053,519.955 849.765,460.003 \n",
       "  853.476,519.782 857.187,460.158 860.899,519.611 864.61,460.311 868.322,519.443 872.033,460.461 875.745,519.278 879.456,460.609 883.168,519.115 886.879,460.754 \n",
       "  890.591,518.955 894.302,460.897 898.014,518.798 901.725,461.039 905.437,518.643 909.148,461.177 912.86,518.49 916.571,461.314 920.283,518.34 923.994,461.449 \n",
       "  927.706,518.192 931.417,461.582 935.129,518.046 938.84,461.713 942.552,517.903 946.263,461.842 949.975,517.761 953.686,461.969 957.398,517.622 961.109,462.095 \n",
       "  964.821,517.485 968.532,462.219 972.244,517.349 975.955,462.341 979.667,517.216 983.378,462.461 987.09,517.084 990.801,462.58 994.513,516.954 998.224,462.697 \n",
       "  1001.94,516.826 1005.65,462.813 1009.36,516.7 1013.07,462.927 1016.78,516.576 1020.49,463.039 1024.2,516.453 1027.92,463.15 1031.63,516.331 1035.34,463.26 \n",
       "  1039.05,516.212 1042.76,463.368 1046.47,516.094 1050.19,463.475 1053.9,515.977 1057.61,463.581 1061.32,515.862 1065.03,463.685 1068.74,515.748 1072.45,463.788 \n",
       "  1076.17,515.636 1079.88,463.89 1083.59,515.525 1087.3,463.991 1091.01,515.416 1094.72,464.09 1098.43,515.308 1102.15,464.188 1105.86,515.201 1109.57,464.285 \n",
       "  1113.28,515.096 1116.99,464.381 1120.7,514.992 1124.41,464.476 1128.13,514.889 1131.84,464.57 1135.55,514.787 1139.26,464.662 1142.97,514.686 1146.68,464.754 \n",
       "  1150.4,514.587 1154.11,464.844 1157.82,514.489 1161.53,464.934 1165.24,514.392 1168.95,465.022 1172.66,514.296 1176.38,465.11 1180.09,514.201 1183.8,465.196 \n",
       "  1187.51,514.107 1191.22,465.282 1194.93,514.014 1198.64,465.367 1202.36,513.922 1206.07,465.451 1209.78,513.831 1213.49,465.534 1217.2,513.742 1220.91,465.616 \n",
       "  1224.63,513.653 1228.34,465.697 1232.05,513.565 1235.76,465.777 1239.47,513.478 1243.18,465.857 1246.89,513.392 1250.61,465.935 1254.32,513.307 1258.03,466.013 \n",
       "  1261.74,513.223 1265.45,466.09 1269.16,513.139 1272.87,466.167 1276.59,513.057 1280.3,466.242 1284.01,512.975 1287.72,466.317 1291.43,512.894 1295.14,466.391 \n",
       "  1298.86,512.814 1302.57,466.465 1306.28,512.735 1309.99,466.537 1313.7,512.657 1317.41,466.609 1321.12,512.579 1324.84,466.681 1328.55,512.502 1332.26,466.751 \n",
       "  1335.97,512.426 1339.68,466.821 1343.39,512.351 1347.1,466.89 1350.82,512.276 1354.53,466.959 1358.24,512.202 1361.95,467.027 1365.66,512.129 1369.37,467.094 \n",
       "  1373.08,512.056 1376.8,467.161 1380.51,511.984 1384.22,467.227 1387.93,511.913 1391.64,467.293 1395.35,511.843 1399.07,467.358 1402.78,511.773 1406.49,467.422 \n",
       "  1410.2,511.703 1413.91,467.486 1417.62,511.635 1421.33,467.549 1425.05,511.567 1428.76,467.612 1432.47,511.499 1436.18,467.674 1439.89,511.432 1443.6,467.736 \n",
       "  1447.31,511.366 1451.03,467.797 1454.74,511.301 1458.45,467.857 1462.16,511.236 1465.87,467.917 1469.58,511.171 1473.3,467.977 1477.01,511.107 1480.72,468.036 \n",
       "  1484.43,511.044 1488.14,468.094 1491.85,510.981 1495.56,468.152 1499.28,510.919 1502.99,468.21 1506.7,510.857 1510.41,468.267 1514.12,510.796 1517.83,468.324 \n",
       "  1521.54,510.735 1525.26,468.38 1528.97,510.675 1532.68,468.435 1536.39,510.615 1540.1,468.491 1543.81,510.556 1547.53,468.545 1551.24,510.497 1554.95,468.6 \n",
       "  1558.66,510.439 1562.37,468.654 1566.08,510.381 1569.79,468.707 1573.51,510.324 1577.22,468.76 1580.93,510.267 1584.64,468.813 1588.35,510.21 1592.06,468.865 \n",
       "  1595.77,510.154 1599.49,468.917 1603.2,510.099 1606.91,468.969 1610.62,510.044 1614.33,469.02 1618.04,509.989 1621.75,469.07 1625.47,509.935 1629.18,469.121 \n",
       "  1632.89,509.881 1636.6,469.171 1640.31,509.828 1644.02,469.22 1647.74,509.775 1651.45,469.269 1655.16,509.722 1658.87,469.318 1662.58,509.67 1666.29,469.366 \n",
       "  1670,509.618 1673.72,469.415 1677.43,509.567 1681.14,469.462 1684.85,509.516 1688.56,469.51 1692.27,509.465 1695.98,469.557 1699.7,509.415 1703.41,469.603 \n",
       "  1707.12,509.365 1710.83,469.65 1714.54,509.315 1718.25,469.696 1721.97,509.266 1725.68,469.741 1729.39,509.217 1733.1,469.787 1736.81,509.169 1740.52,469.832 \n",
       "  1744.23,509.121 1747.95,469.877 1751.66,509.073 1755.37,469.921 1759.08,509.026 1762.79,469.965 1766.5,508.979 1770.21,470.009 1773.93,508.932 1777.64,470.053 \n",
       "  1781.35,508.885 1785.06,470.096 1788.77,508.839 1792.48,470.139 1796.2,508.793 1799.91,470.181 1803.62,508.748 1807.33,470.224 1811.04,508.703 1814.75,470.266 \n",
       "  1818.46,508.658 1822.18,470.308 1825.89,508.613 1829.6,470.349 1833.31,508.569 1837.02,470.39 1840.73,508.525 1844.44,470.431 1848.16,508.482 1851.87,470.472 \n",
       "  1855.58,508.438 1859.29,470.512 1863,508.395 1866.71,470.553 1870.42,508.352 1874.14,470.592 1877.85,508.31 1881.56,470.632 1885.27,508.268 1888.98,470.672 \n",
       "  1892.69,508.226 1896.41,470.711 1900.12,508.184 1903.83,470.75 1907.54,508.143 1911.25,470.788 1914.96,508.102 1918.67,470.827 1922.39,508.061 1926.1,470.865 \n",
       "  1929.81,508.02 1933.52,470.903 1937.23,507.98 1940.94,470.94 1944.65,507.94 1948.37,470.978 1952.08,507.9 1955.79,471.015 1959.5,507.86 1963.21,471.052 \n",
       "  1966.92,507.821 1970.64,471.089 1974.35,507.782 1978.06,471.125 1981.77,507.743 1985.48,471.162 1989.19,507.705 1992.9,471.198 1996.62,507.666 2000.33,471.234 \n",
       "  2004.04,507.628 2007.75,471.269 2011.46,507.59 2015.17,471.305 2018.88,507.553 2022.6,471.34 2026.31,507.515 2030.02,471.375 2033.73,507.478 2037.44,471.41 \n",
       "  2041.15,507.441 2044.87,471.444 2048.58,507.404 2052.29,471.479 2056,507.368 2059.71,471.513 2063.42,507.331 2067.13,471.547 2070.85,507.295 2074.56,471.581 \n",
       "  2078.27,507.259 2081.98,471.614 2085.69,507.224 2089.4,471.648 2093.11,507.188 2096.83,471.681 2100.54,507.153 2104.25,471.714 2107.96,507.118 2111.67,471.747 \n",
       "  2115.38,507.083 2119.09,471.78 2122.81,507.048 2126.52,471.812 2130.23,507.014 2133.94,471.844 2137.65,506.98 2141.36,471.876 2145.08,506.946 2148.79,471.908 \n",
       "  2152.5,506.912 2156.21,471.94 2159.92,506.878 2163.63,471.972 2167.34,506.845 2171.06,472.003 2174.77,506.811 2178.48,472.034 2182.19,506.778 2185.9,472.065 \n",
       "  2189.61,506.745 2193.32,472.096 2197.04,506.713 2200.75,472.127 2204.46,506.68 2208.17,472.158 2211.88,506.648 2215.59,472.188 2219.31,506.615 2223.02,472.218 \n",
       "  2226.73,506.583 2230.44,472.248 2234.15,506.552 2237.86,472.278 2241.57,506.52 2245.29,472.308 2249,506.488 2252.71,472.338 2256.42,506.457 2260.13,472.367 \n",
       "  \n",
       "  \"/>\n",
       "<polyline clip-path=\"url(#clip0902)\" style=\"stroke:#ac8d18; stroke-width:4; stroke-opacity:1; fill:none\" points=\"\n",
       "  222.522,1462.26 226.234,1077.6 229.945,279.955 233.657,602.961 237.368,150.765 241.08,906.29 244.791,124.396 248.503,976.802 252.214,173.527 255.926,847.768 \n",
       "  259.637,99.4492 263.349,1046.19 267.06,242.23 270.772,684.303 274.483,105.84 278.195,1028.17 281.906,222.444 285.618,729.351 289.329,92.8955 293.041,1064.86 \n",
       "  296.752,264.152 300.464,636.308 304.175,128.992 307.887,964.302 311.598,163.297 315.31,873.801 319.021,108.773 322.733,1019.95 326.444,213.876 330.156,749.368 \n",
       "  333.867,89.8742 337.579,1073.52 341.29,274.827 345.002,613.668 348.713,143.266 352.425,926.047 356.136,136.06 359.848,945.253 363.559,148.967 367.271,911.005 \n",
       "  370.982,127.031 374.693,969.626 378.405,167.574 382.116,862.864 385.828,104.51 389.539,1031.91 393.251,226.433 396.962,720.136 400.674,94.8511 404.385,1059.27 \n",
       "  408.097,257.436 411.808,650.799 415.52,120.984 419.231,986.139 422.943,181.596 426.654,827.544 430.366,94.1669 434.077,1061.22 437.789,259.769 441.5,645.744 \n",
       "  445.212,123.677 448.923,978.765 452.635,175.193 456.346,843.57 460.058,98.2117 463.769,1049.7 467.481,246.242 471.192,675.369 474.904,109.418 478.615,1018.15 \n",
       "  482.327,212.036 486.038,753.705 489.75,89.441 493.461,1074.77 497.173,276.387 500.884,610.399 504.596,145.504 508.307,920.124 512.019,132.391 515.73,955.114 \n",
       "  519.442,156.195 523.153,892.132 526.865,117.044 530.576,996.982 534.288,191.425 537.999,803.278 541.711,90.092 545.422,1072.9 549.134,274.045 552.845,615.309 \n",
       "  556.557,142.158 560.268,928.984 563.98,137.933 567.691,940.238 571.403,145.448 575.114,920.273 578.826,132.482 582.537,954.87 586.249,156.011 589.96,892.608 \n",
       "  593.672,117.277 597.383,996.337 601.095,190.826 604.806,804.744 608.518,90.2681 612.229,1072.39 615.94,273.414 619.652,616.636 623.363,141.272 627.075,931.339 \n",
       "  630.786,139.462 634.498,936.158 638.209,142.662 641.921,927.648 645.632,137.077 649.344,942.53 653.055,147.043 656.767,916.066 660.478,129.963 664.19,961.673 \n",
       "  667.901,161.229 671.613,879.117 675.324,111.027 679.036,1013.67 682.747,207.511 686.459,764.437 690.17,88.708 693.882,1076.88 697.593,279.044 701.305,604.856 \n",
       "  705.016,149.403 708.728,909.862 712.439,126.383 716.151,971.387 719.862,169.015 723.574,859.197 727.285,103.193 730.997,1035.61 734.708,230.451 738.42,710.923 \n",
       "  742.131,97.1621 745.843,1052.69 749.554,249.691 753.266,667.742 756.977,112.737 760.689,1008.91 764.4,202.805 768.112,775.687 771.823,88.4582 775.535,1077.6 \n",
       "  779.246,279.954 782.958,602.962 786.669,150.764 790.381,906.294 794.092,124.398 797.804,976.797 801.515,173.523 805.227,847.778 808.938,99.4524 812.65,1046.19 \n",
       "  816.361,242.22 820.073,684.325 823.784,105.831 827.496,1028.19 831.207,222.47 834.919,729.291 838.63,92.907 842.342,1064.82 846.053,264.113 849.765,636.393 \n",
       "  853.476,128.942 857.187,964.437 860.899,163.404 864.61,873.526 868.322,108.66 872.033,1020.27 875.745,214.2 879.456,748.605 883.168,89.9585 886.879,1073.28 \n",
       "  890.591,274.524 894.302,614.304 898.014,142.835 901.725,927.188 905.437,136.783 909.148,943.314 912.86,147.594 916.571,914.614 920.283,129.111 923.994,963.981 \n",
       "  927.706,163.043 931.417,874.454 935.129,109.044 938.84,1019.2 942.552,213.102 946.263,751.191 949.975,89.6824 953.686,1074.07 957.398,275.516 961.109,612.222 \n",
       "  964.821,144.251 968.532,923.439 972.244,134.426 975.955,949.637 979.667,152.13 983.378,902.718 987.09,122.462 990.801,982.089 994.513,178.051 998.224,836.396 \n",
       "  1001.94,96.2679 1005.65,1055.23 1009.36,252.663 1013.07,661.211 1016.78,115.773 1020.49,1000.49 1024.2,194.712 1027.92,795.253 1031.63,89.2876 1035.34,1075.21 \n",
       "  1039.05,276.941 1042.76,609.24 1046.47,146.308 1050.19,918.002 1053.9,131.113 1057.61,958.564 1061.32,158.821 1065.03,885.331 1068.74,113.811 1072.45,1005.93 \n",
       "  1076.17,199.904 1079.88,782.668 1083.59,88.5699 1087.3,1077.27 1091.01,279.547 1094.72,603.809 1098.43,150.153 1102.15,907.894 1105.86,125.281 1109.57,974.387 \n",
       "  1113.28,171.499 1116.99,852.893 1120.7,101.06 1124.41,1041.63 1128.13,237.096 1131.84,695.835 1135.55,101.716 1139.26,1039.78 1142.97,235.035 1146.68,700.494 \n",
       "  1150.4,100.208 1154.11,1044.05 1157.82,239.8 1161.53,689.746 1165.24,103.824 1168.95,1033.84 1172.66,228.519 1176.38,715.345 1180.09,96.0084 1183.8,1055.97 \n",
       "  1187.51,253.531 1191.22,659.309 1194.93,116.691 1198.64,997.955 1202.36,192.331 1206.07,801.06 1209.78,89.8427 1213.49,1073.61 1217.2,274.94 1220.91,613.431 \n",
       "  1224.63,143.427 1228.34,925.62 1232.05,135.791 1235.76,945.974 1239.47,149.482 1243.18,909.652 1246.89,126.265 1250.61,971.707 1254.32,169.278 1258.03,858.526 \n",
       "  1261.74,102.958 1265.45,1036.28 1269.16,231.174 1272.87,709.272 1276.59,97.6139 1280.3,1051.4 1284.01,248.201 1287.72,671.03 1291.43,111.276 1295.14,1012.97 \n",
       "  1298.86,206.818 1302.57,766.087 1306.28,88.6382 1309.99,1077.08 1313.7,279.298 1317.41,604.326 1321.12,149.781 1324.84,908.868 1328.55,125.825 1332.26,972.907 \n",
       "  1335.97,170.269 1339.68,856.012 1343.39,102.094 1347.1,1038.71 1350.82,233.852 1354.53,703.178 1358.24,99.3804 1361.95,1046.39 1365.66,242.452 1369.37,683.807 \n",
       "  1373.08,106.029 1376.8,1027.64 1380.51,221.881 1384.22,730.658 1387.93,92.647 1391.64,1065.57 1395.35,265.017 1399.07,634.457 1402.78,130.078 1406.49,961.36 \n",
       "  1410.2,160.985 1413.91,879.746 1417.62,111.301 1421.33,1012.9 1425.05,206.749 1428.76,766.253 1432.47,88.6318 1436.18,1077.1 1439.89,279.321 1443.6,604.278 \n",
       "  1447.31,149.816 1451.03,908.777 1454.74,125.774 1458.45,973.046 1462.16,170.384 1465.87,855.72 1469.58,101.996 1473.3,1038.99 1477.01,234.159 1480.72,702.48 \n",
       "  1484.43,99.5926 1488.14,1045.79 1491.85,241.769 1495.56,685.333 1499.28,105.448 1502.99,1029.27 1506.7,223.611 1510.41,726.648 1514.12,93.4322 1517.83,1063.32 \n",
       "  1521.54,262.294 1525.26,640.298 1528.97,126.699 1532.68,970.527 1536.39,168.31 1540.1,860.989 1543.81,103.83 1547.53,1033.82 1551.24,228.5 1554.95,715.387 \n",
       "  1558.66,95.9978 1562.37,1056 1566.08,253.567 1569.79,659.232 1573.51,116.729 1577.22,997.851 1580.93,192.234 1584.64,801.298 1588.35,89.8684 1592.06,1073.54 \n",
       "  1595.77,274.847 1599.49,613.625 1603.2,143.295 1606.91,925.969 1610.62,136.011 1614.33,945.384 1618.04,149.061 1621.75,910.758 1625.47,126.891 1629.18,970.006 \n",
       "  1632.89,167.884 1636.6,862.073 1640.31,104.221 1644.02,1032.72 1647.74,227.308 1651.45,718.123 1655.16,95.3256 1658.87,1057.92 1662.58,255.829 1666.29,654.294 \n",
       "  1670,119.184 1673.72,991.084 1677.43,186.017 1681.14,816.579 1684.85,92.0198 1688.56,1067.36 1692.27,267.209 1695.98,629.776 1699.7,132.89 1703.41,953.771 \n",
       "  1707.12,155.187 1710.83,894.751 1714.54,118.34 1718.25,993.406 1721.97,188.129 1725.68,811.369 1729.39,91.1763 1733.1,1069.78 1736.81,270.182 1740.52,623.461 \n",
       "  1744.23,136.828 1747.95,943.195 1751.66,147.511 1755.37,914.835 1759.08,129.24 1762.79,963.632 1766.5,162.767 1770.21,875.162 1773.93,109.339 1777.64,1018.37 \n",
       "  1781.35,212.26 1785.06,753.177 1788.77,89.4894 1792.48,1074.63 1796.2,276.212 1799.91,610.765 1803.62,145.251 1807.33,920.793 1811.04,132.798 1814.75,954.018 \n",
       "  1818.46,155.372 1822.18,894.27 1825.89,118.1 1829.6,994.069 1833.31,188.735 1837.02,809.877 1840.73,90.9557 1844.44,1070.42 1848.16,270.964 1851.87,621.805 \n",
       "  1855.58,137.888 1859.29,940.36 1863,145.532 1866.71,920.052 1870.42,132.347 1874.14,955.233 1877.85,156.285 1881.56,891.899 1885.27,116.93 1888.98,997.297 \n",
       "  1892.69,191.717 1896.41,802.561 1900.12,90.0091 1903.83,1073.13 1907.54,274.342 1911.25,614.685 1914.96,142.578 1918.67,927.87 1922.39,137.218 1926.1,942.15 \n",
       "  1929.81,146.777 1933.52,916.767 1937.23,130.377 1940.94,960.552 1944.65,160.356 1948.37,881.366 1952.08,112.016 1955.79,1010.91 1959.5,204.776 1963.21,770.964 \n",
       "  1966.92,88.4984 1970.64,1077.48 1974.35,279.807 1978.06,603.267 1981.77,150.543 1985.48,906.871 1989.19,124.715 1992.9,975.93 1996.62,172.792 2000.33,849.623 \n",
       "  2004.04,100.02 2007.75,1044.58 2011.46,240.401 2015.17,688.398 2018.88,104.311 2022.6,1032.47 2026.31,227.035 2030.02,718.751 2033.73,95.1757 2037.44,1058.34 \n",
       "  2041.15,256.335 2044.87,653.191 2048.58,119.747 2052.29,989.537 2056,184.623 2059.71,820.028 2063.42,92.6408 2067.13,1065.59 2070.85,265.038 2074.56,634.41 \n",
       "  2078.27,130.106 2081.98,961.286 2085.69,160.927 2089.4,879.894 2093.11,111.366 2096.83,1012.72 2100.54,206.568 2104.25,766.683 2107.96,88.6158 2111.67,1077.14 \n",
       "  2115.38,279.38 2119.09,604.157 2122.81,149.903 2126.52,908.548 2130.23,125.646 2133.94,973.394 2137.65,170.673 2141.36,854.988 2145.08,101.75 2148.79,1039.68 \n",
       "  2152.5,234.926 2156.21,700.74 2159.92,100.131 2163.63,1044.26 2167.34,240.046 2171.06,689.194 2174.77,104.022 2178.48,1033.28 2182.19,227.913 2185.9,716.734 \n",
       "  2189.61,95.6629 2193.32,1056.95 2197.04,254.691 2200.75,656.774 2204.46,117.938 2208.17,994.515 2211.88,189.145 2215.59,808.87 2219.31,90.8121 2223.02,1070.83 \n",
       "  2226.73,271.474 2230.44,620.727 2234.15,138.585 2237.86,938.498 2241.57,144.252 2245.29,923.436 2249,134.425 2252.71,949.641 2256.42,152.134 2260.13,902.71 \n",
       "  \n",
       "  \"/>\n",
       "<polygon clip-path=\"url(#clip0900)\" points=\"\n",
       "1871.45,493.644 2249.26,493.644 2249.26,130.764 1871.45,130.764 \n",
       "  \" fill=\"#ffffff\" fill-rule=\"evenodd\" fill-opacity=\"1\"/>\n",
       "<polyline clip-path=\"url(#clip0900)\" style=\"stroke:#000000; stroke-width:4; stroke-opacity:1; fill:none\" points=\"\n",
       "  1871.45,493.644 2249.26,493.644 2249.26,130.764 1871.45,130.764 1871.45,493.644 \n",
       "  \"/>\n",
       "<polyline clip-path=\"url(#clip0900)\" style=\"stroke:#009af9; stroke-width:4; stroke-opacity:1; fill:none\" points=\"\n",
       "  1895.45,191.244 2039.45,191.244 \n",
       "  \"/>\n",
       "<g clip-path=\"url(#clip0900)\">\n",
       "<text style=\"fill:#000000; fill-opacity:1; font-family:Arial,Helvetica Neue,Helvetica,sans-serif; font-size:48px; text-anchor:start;\" transform=\"rotate(0, 2063.45, 208.744)\" x=\"2063.45\" y=\"208.744\">r = 1.2</text>\n",
       "</g>\n",
       "<polyline clip-path=\"url(#clip0900)\" style=\"stroke:#e26f46; stroke-width:4; stroke-opacity:1; fill:none\" points=\"\n",
       "  1895.45,251.724 2039.45,251.724 \n",
       "  \"/>\n",
       "<g clip-path=\"url(#clip0900)\">\n",
       "<text style=\"fill:#000000; fill-opacity:1; font-family:Arial,Helvetica Neue,Helvetica,sans-serif; font-size:48px; text-anchor:start;\" transform=\"rotate(0, 2063.45, 269.224)\" x=\"2063.45\" y=\"269.224\">r = 1.8</text>\n",
       "</g>\n",
       "<polyline clip-path=\"url(#clip0900)\" style=\"stroke:#3da44d; stroke-width:4; stroke-opacity:1; fill:none\" points=\"\n",
       "  1895.45,312.204 2039.45,312.204 \n",
       "  \"/>\n",
       "<g clip-path=\"url(#clip0900)\">\n",
       "<text style=\"fill:#000000; fill-opacity:1; font-family:Arial,Helvetica Neue,Helvetica,sans-serif; font-size:48px; text-anchor:start;\" transform=\"rotate(0, 2063.45, 329.704)\" x=\"2063.45\" y=\"329.704\">r = 2.4</text>\n",
       "</g>\n",
       "<polyline clip-path=\"url(#clip0900)\" style=\"stroke:#c271d2; stroke-width:4; stroke-opacity:1; fill:none\" points=\"\n",
       "  1895.45,372.684 2039.45,372.684 \n",
       "  \"/>\n",
       "<g clip-path=\"url(#clip0900)\">\n",
       "<text style=\"fill:#000000; fill-opacity:1; font-family:Arial,Helvetica Neue,Helvetica,sans-serif; font-size:48px; text-anchor:start;\" transform=\"rotate(0, 2063.45, 390.184)\" x=\"2063.45\" y=\"390.184\">r = 3.0</text>\n",
       "</g>\n",
       "<polyline clip-path=\"url(#clip0900)\" style=\"stroke:#ac8d18; stroke-width:4; stroke-opacity:1; fill:none\" points=\"\n",
       "  1895.45,433.164 2039.45,433.164 \n",
       "  \"/>\n",
       "<g clip-path=\"url(#clip0900)\">\n",
       "<text style=\"fill:#000000; fill-opacity:1; font-family:Arial,Helvetica Neue,Helvetica,sans-serif; font-size:48px; text-anchor:start;\" transform=\"rotate(0, 2063.45, 450.664)\" x=\"2063.45\" y=\"450.664\">r = 3.6</text>\n",
       "</g>\n",
       "</svg>\n"
      ]
     },
     "execution_count": 26,
     "metadata": {},
     "output_type": "execute_result"
    }
   ],
   "source": [
    "using Plots\n",
    "\n",
    "lines = []\n",
    "labels = []\n",
    "\n",
    "for r in 1.2:0.6:4\n",
    "    push!(lines, bunnies(0.1, r))\n",
    "    push!(labels, \"r = $r\")\n",
    "end\n",
    "\n",
    "plot(1:550, lines, label = labels)"
   ]
  },
  {
   "cell_type": "code",
   "execution_count": 27,
   "metadata": {},
   "outputs": [
    {
     "data": {
      "text/plain": [
       "simulate (generic function with 1 method)"
      ]
     },
     "execution_count": 27,
     "metadata": {},
     "output_type": "execute_result"
    }
   ],
   "source": [
    "function simulate()\n",
    "\n",
    "    data :: Array{Array{Float64}} = []\n",
    "    rs :: Array{Float64} = []\n",
    "\n",
    "    for r in 2.9:0.001:4.0\n",
    "        this = bunnies(0.1, r)[end-149:end]\n",
    "        push!(data, this)\n",
    "        push!(rs, r)\n",
    "    end\n",
    "    rs, data\n",
    "end"
   ]
  },
  {
   "cell_type": "code",
   "execution_count": 28,
   "metadata": {},
   "outputs": [
    {
     "name": "stdout",
     "output_type": "stream",
     "text": [
      "  0.321453 seconds (349.55 k allocations: 37.410 MiB, 47.23% gc time)\n"
     ]
    },
    {
     "data": {
      "text/plain": [
       "(1101,)"
      ]
     },
     "execution_count": 28,
     "metadata": {},
     "output_type": "execute_result"
    }
   ],
   "source": [
    "@time rs, data = simulate()\n",
    "size(rs)"
   ]
  },
  {
   "cell_type": "code",
   "execution_count": 29,
   "metadata": {},
   "outputs": [
    {
     "data": {
      "text/plain": [
       "true"
      ]
     },
     "execution_count": 29,
     "metadata": {},
     "output_type": "execute_result"
    }
   ],
   "source": [
    "all(map((s) -> length(s)==150, data))"
   ]
  },
  {
   "cell_type": "code",
   "execution_count": 30,
   "metadata": {},
   "outputs": [
    {
     "data": {
      "text/plain": [
       "(1101,)"
      ]
     },
     "execution_count": 30,
     "metadata": {},
     "output_type": "execute_result"
    }
   ],
   "source": [
    "size(rs)"
   ]
  },
  {
   "cell_type": "code",
   "execution_count": 31,
   "metadata": {},
   "outputs": [],
   "source": [
    "map(unique, data);"
   ]
  },
  {
   "cell_type": "code",
   "execution_count": 32,
   "metadata": {},
   "outputs": [
    {
     "data": {
      "text/plain": [
       "Array{Array{Float64,N} where N,1}"
      ]
     },
     "execution_count": 32,
     "metadata": {},
     "output_type": "execute_result"
    }
   ],
   "source": [
    "typeof(data)"
   ]
  },
  {
   "cell_type": "code",
   "execution_count": 33,
   "metadata": {},
   "outputs": [],
   "source": [
    "datatoplot = map(x :: Array{Float64} -> unique(x), data);"
   ]
  },
  {
   "cell_type": "code",
   "execution_count": 34,
   "metadata": {},
   "outputs": [
    {
     "name": "stdout",
     "output_type": "stream",
     "text": [
      "(1, :a)\n",
      "(2, :b)\n",
      "(3, :c)\n"
     ]
    }
   ],
   "source": [
    "for item in zip([1,2,3], [:a, :b, :c])\n",
    "    println(item)\n",
    "end"
   ]
  },
  {
   "cell_type": "code",
   "execution_count": 35,
   "metadata": {},
   "outputs": [
    {
     "data": {
      "text/plain": [
       "Base.Iterators.Zip{Tuple{Array{Float64,1},Array{Array{Float64,1},1}}}"
      ]
     },
     "execution_count": 35,
     "metadata": {},
     "output_type": "execute_result"
    }
   ],
   "source": [
    "typeof(zip(rs, datatoplot))"
   ]
  },
  {
   "cell_type": "code",
   "execution_count": 36,
   "metadata": {},
   "outputs": [
    {
     "data": {
      "text/plain": [
       "Array{Array{Float64,1},1}"
      ]
     },
     "execution_count": 36,
     "metadata": {},
     "output_type": "execute_result"
    }
   ],
   "source": [
    "typeof(datatoplot)"
   ]
  },
  {
   "cell_type": "code",
   "execution_count": 37,
   "metadata": {},
   "outputs": [
    {
     "name": "stdout",
     "output_type": "stream",
     "text": [
      "Array{Float64,1}\n"
     ]
    }
   ],
   "source": [
    "for item in zip(rs, datatoplot)\n",
    "    println(typeof(item[2]))\n",
    "    break\n",
    "end"
   ]
  },
  {
   "cell_type": "code",
   "execution_count": 38,
   "metadata": {},
   "outputs": [
    {
     "data": {
      "text/plain": [
       "fill_xs (generic function with 1 method)"
      ]
     },
     "execution_count": 38,
     "metadata": {},
     "output_type": "execute_result"
    }
   ],
   "source": [
    "function fill_xs(r :: Float64, data :: Array{Float64,1})\n",
    "    fill(r, size(data)), data\n",
    "end"
   ]
  },
  {
   "cell_type": "code",
   "execution_count": 39,
   "metadata": {},
   "outputs": [
    {
     "data": {
      "text/plain": [
       "fill_xs_2 (generic function with 1 method)"
      ]
     },
     "execution_count": 39,
     "metadata": {},
     "output_type": "execute_result"
    }
   ],
   "source": [
    "function fill_xs_2(t :: Tuple{Float64,Array{Float64,1}})\n",
    "    r, data = t\n",
    "    (fill(r, size(data)), data)\n",
    "end"
   ]
  },
  {
   "cell_type": "code",
   "execution_count": 40,
   "metadata": {},
   "outputs": [
    {
     "data": {
      "text/plain": [
       "Array{Tuple{Float64,Array{Float64,1}},1}"
      ]
     },
     "execution_count": 40,
     "metadata": {},
     "output_type": "execute_result"
    }
   ],
   "source": [
    "typeof(collect(zip(rs, datatoplot)))"
   ]
  },
  {
   "cell_type": "code",
   "execution_count": 41,
   "metadata": {},
   "outputs": [
    {
     "data": {
      "text/plain": [
       "Array{Tuple{Array{Float64,1},Array{Float64,1}},1}"
      ]
     },
     "execution_count": 41,
     "metadata": {},
     "output_type": "execute_result"
    }
   ],
   "source": [
    "stuff = map(fill_xs_2, zip(rs, datatoplot))\n",
    "typeof(stuff)"
   ]
  },
  {
   "cell_type": "code",
   "execution_count": 42,
   "metadata": {},
   "outputs": [
    {
     "data": {
      "text/plain": [
       "lambda (generic function with 1 method)"
      ]
     },
     "execution_count": 42,
     "metadata": {},
     "output_type": "execute_result"
    }
   ],
   "source": [
    "function lambda(t :: Tuple{Float64, Array{Float64,1}})\n",
    "    result = []\n",
    "    r, data = t\n",
    "    for point in data\n",
    "        push!((fill(r, size(data)), data), result)\n",
    "    end\n",
    "    result\n",
    "end"
   ]
  },
  {
   "cell_type": "code",
   "execution_count": 43,
   "metadata": {},
   "outputs": [
    {
     "ename": "MethodError",
     "evalue": "MethodError: no method matching push!(::Tuple{Array{Float64,1},Array{Float64,1}}, ::Array{Any,1})\nClosest candidates are:\n  push!(::Any, ::Any, !Matched::Any) at abstractarray.jl:2095\n  push!(::Any, ::Any, !Matched::Any, !Matched::Any...) at abstractarray.jl:2096\n  push!(!Matched::Array{Any,1}, ::Any) at array.jl:860\n  ...",
     "output_type": "error",
     "traceback": [
      "MethodError: no method matching push!(::Tuple{Array{Float64,1},Array{Float64,1}}, ::Array{Any,1})\nClosest candidates are:\n  push!(::Any, ::Any, !Matched::Any) at abstractarray.jl:2095\n  push!(::Any, ::Any, !Matched::Any, !Matched::Any...) at abstractarray.jl:2096\n  push!(!Matched::Array{Any,1}, ::Any) at array.jl:860\n  ...",
      "",
      "Stacktrace:",
      " [1] lambda(::Tuple{Float64,Array{Float64,1}}) at ./In[42]:5",
      " [2] iterate at ./generator.jl:47 [inlined]",
      " [3] collect(::Base.Generator{Base.Iterators.Zip{Tuple{Array{Float64,1},Array{Array{Float64,1},1}}},typeof(lambda)}) at ./array.jl:606",
      " [4] map(::Function, ::Base.Iterators.Zip{Tuple{Array{Float64,1},Array{Array{Float64,1},1}}}) at ./abstractarray.jl:2044",
      " [5] top-level scope at In[43]:1"
     ]
    }
   ],
   "source": [
    "datatoplot = map(lambda, zip(rs, datatoplot))"
   ]
  },
  {
   "cell_type": "code",
   "execution_count": null,
   "metadata": {},
   "outputs": [],
   "source": []
  },
  {
   "cell_type": "code",
   "execution_count": null,
   "metadata": {},
   "outputs": [],
   "source": []
  },
  {
   "cell_type": "markdown",
   "metadata": {},
   "source": [
    "#### Appendix: the splat operator"
   ]
  },
  {
   "cell_type": "code",
   "execution_count": 16,
   "metadata": {},
   "outputs": [
    {
     "data": {
      "text/plain": [
       "(1, 2)"
      ]
     },
     "execution_count": 16,
     "metadata": {},
     "output_type": "execute_result"
    }
   ],
   "source": [
    "a = (1,2)"
   ]
  },
  {
   "cell_type": "code",
   "execution_count": 17,
   "metadata": {},
   "outputs": [
    {
     "data": {
      "text/plain": [
       "f (generic function with 1 method)"
      ]
     },
     "execution_count": 17,
     "metadata": {},
     "output_type": "execute_result"
    }
   ],
   "source": [
    "function f(a,b)\n",
    "    return a + b\n",
    "end"
   ]
  },
  {
   "cell_type": "code",
   "execution_count": 19,
   "metadata": {},
   "outputs": [
    {
     "ename": "MethodError",
     "evalue": "MethodError: no method matching f(::Tuple{Int64,Int64})\nClosest candidates are:\n  f(::Any, !Matched::Any) at In[17]:2",
     "output_type": "error",
     "traceback": [
      "MethodError: no method matching f(::Tuple{Int64,Int64})\nClosest candidates are:\n  f(::Any, !Matched::Any) at In[17]:2",
      "",
      "Stacktrace:",
      " [1] top-level scope at In[19]:1"
     ]
    }
   ],
   "source": [
    "f(a)"
   ]
  },
  {
   "cell_type": "code",
   "execution_count": 18,
   "metadata": {},
   "outputs": [
    {
     "data": {
      "text/plain": [
       "3"
      ]
     },
     "execution_count": 18,
     "metadata": {},
     "output_type": "execute_result"
    }
   ],
   "source": [
    "f(a...)"
   ]
  }
 ],
 "metadata": {
  "kernelspec": {
   "display_name": "Julia 1.1.0",
   "language": "julia",
   "name": "julia-1.1"
  },
  "language_info": {
   "file_extension": ".jl",
   "mimetype": "application/julia",
   "name": "julia",
   "version": "1.1.0"
  }
 },
 "nbformat": 4,
 "nbformat_minor": 4
}
